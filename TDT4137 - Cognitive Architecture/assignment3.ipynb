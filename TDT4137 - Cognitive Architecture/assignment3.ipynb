{
 "cells": [
  {
   "cell_type": "markdown",
   "metadata": {},
   "source": [
    "## TDT4137 - Cognitive architectures \n",
    "## Assignment 3\n",
    "\n",
    "Arthur Testard - Student id: 105022\n",
    "\n",
    "#### Task 1.14 -  Logistic map"
   ]
  },
  {
   "cell_type": "code",
   "execution_count": null,
   "metadata": {},
   "outputs": [],
   "source": [
    "import matplotlib.pyplot as plt"
   ]
  },
  {
   "cell_type": "code",
   "execution_count": null,
   "metadata": {},
   "outputs": [],
   "source": [
    "def logistic_map(x0, r, t_max):\n",
    "    x = [ x0 ]\n",
    "    for t in range(1, t_max):\n",
    "        x.append(r * x[t - 1] * (1 - x[t - 1]))\n",
    "    return x"
   ]
  },
  {
   "cell_type": "code",
   "execution_count": null,
   "metadata": {},
   "outputs": [],
   "source": [
    "r, x0, d_ = 3.9, .1, .000100\n",
    "x0s = [x0, x0 + d_, x0 + .11]\n",
    "r = [r, r, r ]\n",
    "t_max = 100\n",
    "\n",
    "plt.figure(figsize=(20,7))\n",
    "for k in range(len(x0s)):\n",
    "    plt.subplot(1, len(x0s), k + 1)\n",
    "    plt.plot(range(t_max), logistic_map(x0s[k], r[k], t_max), label=\"Time\")\n",
    "    plt.title(f\"x_0 = {x0s[k]} and rate = {r[k]}\")\n",
    "    plt.grid()\n",
    "plt.show"
   ]
  },
  {
   "cell_type": "markdown",
   "metadata": {},
   "source": [
    "#### Task 1.17 - Boids"
   ]
  },
  {
   "cell_type": "code",
   "execution_count": null,
   "metadata": {},
   "outputs": [],
   "source": [
    "import boids as b"
   ]
  },
  {
   "cell_type": "code",
   "execution_count": null,
   "metadata": {},
   "outputs": [],
   "source": [
    "b.Simulation().run()"
   ]
  },
  {
   "cell_type": "code",
   "execution_count": null,
   "metadata": {},
   "outputs": [],
   "source": []
  }
 ],
 "metadata": {
  "kernelspec": {
   "display_name": "cognarch",
   "language": "python",
   "name": "cognarch"
  },
  "language_info": {
   "codemirror_mode": {
    "name": "ipython",
    "version": 3
   },
   "file_extension": ".py",
   "mimetype": "text/x-python",
   "name": "python",
   "nbconvert_exporter": "python",
   "pygments_lexer": "ipython3",
   "version": "3.10.11"
  }
 },
 "nbformat": 4,
 "nbformat_minor": 2
}
