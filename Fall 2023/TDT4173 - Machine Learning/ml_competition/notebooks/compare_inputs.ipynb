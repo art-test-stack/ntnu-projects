{
 "cells": [
  {
   "cell_type": "code",
   "execution_count": null,
   "metadata": {},
   "outputs": [],
   "source": [
    "import os\n",
    "import pandas as pd\n",
    "import numpy as np\n",
    "import matplotlib.pylab as plt\n",
    "import seaborn as sns\n",
    "from tqdm import tqdm\n",
    "import networkx as nx\n",
    "import scipy\n",
    "import json\n",
    "import sys\n",
    "path = ''\n",
    "sys.path.append(path)\n",
    "import functions.utils\n",
    "import settings\n",
    "import pickle\n",
    "from datetime import datetime\n",
    "from sklearn.preprocessing import StandardScaler, Normalizer, RobustScaler, MinMaxScaler\n",
    "from sklearn.model_selection import train_test_split\n",
    "\n",
    "pd.set_option('display.max_rows', 200)\n",
    "pd.set_option('display.max_columns', 200)\n",
    "\n",
    "train_a, train_b, train_c, X_train_estimated_a, X_train_estimated_b, X_train_estimated_c, X_train_observed_a, X_train_observed_b, X_train_observed_c, X_test_estimated_a, X_test_estimated_b, X_test_estimated_c = utils.read_files(diff_path=path)"
   ]
  },
  {
   "cell_type": "code",
   "execution_count": null,
   "metadata": {},
   "outputs": [],
   "source": [
    "scaler_a = MinMaxScaler()\n",
    "scaler_b = MinMaxScaler()\n",
    "scaler_c = MinMaxScaler()\n",
    "\n",
    "X_a_to_analyse = X_train_observed_a.drop(columns='date_forecast', inplace=False)\n",
    "X_b_to_analyse = X_train_observed_b.drop(columns='date_forecast', inplace=False)\n",
    "X_c_to_analyse = X_train_observed_c.drop(columns='date_forecast', inplace=False)\n",
    "\n",
    "columns = list(X_a_to_analyse.columns.values)\n",
    "\n",
    "X_a_normed = scaler_a.fit_transform(X_a_to_analyse)\n",
    "X_b_normed = scaler_b.fit_transform(X_b_to_analyse)\n",
    "X_c_normed = scaler_c.fit_transform(X_c_to_analyse)"
   ]
  },
  {
   "cell_type": "code",
   "execution_count": null,
   "metadata": {},
   "outputs": [],
   "source": [
    "columns_match_already_done = []\n",
    "\n",
    "for c1 in range(len(columns)):\n",
    "    for c2 in range(len(columns)):\n",
    "        if c2 != c1:\n",
    "            if (columns[c1], columns[c2]) not in columns_match_already_done:\n",
    "                plt.scatter(X_a_normed[:,c2], X_a_normed[:,c1], alpha=0.2)\n",
    "                plt.scatter(X_b_normed[:,c2], X_b_normed[:,c1], alpha=0.2)\n",
    "                # plt.scatter(X_c_normed[:,c2], X_c_normed[:,c1], alpha=0.2)\n",
    "                plt.xlabel(columns[c1])\n",
    "                plt.ylabel(columns[c2])\n",
    "                plt.grid()\n",
    "                plt.show()\n",
    "                print(\"Compare\", columns[c1], columns[c2])\n",
    "                columns_match_already_done.append((columns[c1], columns[c2]))\n",
    "                columns_match_already_done.append((columns[c2], columns[c1]))\n",
    "                break"
   ]
  },
  {
   "cell_type": "code",
   "execution_count": null,
   "metadata": {},
   "outputs": [],
   "source": []
  }
 ],
 "metadata": {
  "kernelspec": {
   "display_name": "mlsolar",
   "language": "python",
   "name": "mlsolar"
  },
  "language_info": {
   "codemirror_mode": {
    "name": "ipython",
    "version": 3
   },
   "file_extension": ".py",
   "mimetype": "text/x-python",
   "name": "python",
   "nbconvert_exporter": "python",
   "pygments_lexer": "ipython3",
   "version": "3.10.11"
  }
 },
 "nbformat": 4,
 "nbformat_minor": 2
}
