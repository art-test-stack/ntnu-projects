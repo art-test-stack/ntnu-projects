{
 "cells": [
  {
   "cell_type": "code",
   "execution_count": null,
   "metadata": {},
   "outputs": [],
   "source": [
    "import numpy as np \n",
    "import pandas as pd \n",
    "import matplotlib.pyplot as plt \n",
    "import seaborn as sns "
   ]
  },
  {
   "cell_type": "code",
   "execution_count": null,
   "metadata": {},
   "outputs": [],
   "source": [
    "class Perceptron: \n",
    "    def __init__(self, learning_rate=0.01):\n",
    "        self.learning_rate = learning_rate\n",
    "        self.size_input = 0\n",
    "\n",
    "    def init_weights(self):\n",
    "        self.weights = np.random.rand(self.size_input + 1)\n",
    "\n",
    "    def predict(self, X):\n",
    "        X = np.insert(X, 0, 1)\n",
    "        weighted_sum = np.dot(self.weights, X)\n",
    "        prediction = 1 if weighted_sum > 0 else 0\n",
    "        return prediction\n",
    "\n",
    "    def fit(self, X_train, y_train, epochs=100):\n",
    "        if self.size_input == 0:\n",
    "            self.size_input = X_train.shape[1]\n",
    "            self.init_weights()\n",
    "        self.errors = []\n",
    "        for _ in range(epochs):\n",
    "            for X, y in zip(X_train, y_train):\n",
    "                y_pred = self.predict(X)\n",
    "                self.errors.append(np.abs(y - y_pred))\n",
    "                self.weights += self.learning_rate * (y - y_pred) * np.insert(X, 0, 1)"
   ]
  },
  {
   "cell_type": "markdown",
   "metadata": {},
   "source": [
    "## Task 1.17"
   ]
  },
  {
   "cell_type": "code",
   "execution_count": null,
   "metadata": {},
   "outputs": [],
   "source": [
    "X_and = np.array([[0, 0], [0, 1], [1, 0], [1, 1]])\n",
    "y_and = np.array([0, 0, 0, 1])\n",
    "\n",
    "and_perceptron = Perceptron()\n",
    "and_perceptron.fit(X_and, y_and, epochs=500)"
   ]
  },
  {
   "cell_type": "code",
   "execution_count": null,
   "metadata": {},
   "outputs": [],
   "source": [
    "fig, ax = plt.subplots(figsize=(5, 5))\n",
    "ax.scatter(X_and[:,0], X_and[:, 1], c=y_and, cmap='winter')\n",
    "\n",
    "b = and_perceptron.weights[0]\n",
    "W = and_perceptron.weights[1:3]\n",
    "x1 = np.linspace(0, 1, 100)\n",
    "x2 = - ( W[0] * x1 + b) / W[1]\n",
    "\n",
    "ax.plot(x1, x2, c='orange', lw=3)\n",
    "ax.set_xlim(-.1, 1.1), ax.set_ylim(-.1, 1.1)"
   ]
  },
  {
   "cell_type": "code",
   "execution_count": null,
   "metadata": {},
   "outputs": [],
   "source": [
    "X_or = np.array([[0, 0], [0, 1], [1, 0], [1, 1]])\n",
    "y_or = np.array([0, 1, 1, 1])\n",
    "\n",
    "or_perceptron = Perceptron()\n",
    "or_perceptron.fit(X_or, y_or, epochs=500)"
   ]
  },
  {
   "cell_type": "code",
   "execution_count": null,
   "metadata": {},
   "outputs": [],
   "source": [
    "[or_perceptron.predict(X) for X in X_or]"
   ]
  },
  {
   "cell_type": "code",
   "execution_count": null,
   "metadata": {},
   "outputs": [],
   "source": [
    "fig, ax = plt.subplots(figsize=(5, 5))\n",
    "ax.scatter(X_or[:,0], X_or[:, 1], c=y_or, cmap='winter')\n",
    "\n",
    "b = or_perceptron.weights[0]\n",
    "W = or_perceptron.weights[1:3]\n",
    "x1 = np.linspace(-.1, 1.1, 100)\n",
    "x2 = - ( W[0] * x1 + b) / W[1]\n",
    "\n",
    "ax.plot(x1, x2, c='orange', lw=3)\n",
    "ax.set_xlim(-.1, 1.1), ax.set_ylim(-.1, 1.1)"
   ]
  },
  {
   "cell_type": "markdown",
   "metadata": {},
   "source": [
    "## Task 1.18"
   ]
  },
  {
   "cell_type": "code",
   "execution_count": null,
   "metadata": {},
   "outputs": [],
   "source": [
    "data = pd.read_csv('assign5data.csv')"
   ]
  },
  {
   "cell_type": "code",
   "execution_count": null,
   "metadata": {},
   "outputs": [],
   "source": [
    "plt.figure(figsize=(5, 5))\n",
    "sns.scatterplot(x='# x0', y='x1', data=data, hue='y')"
   ]
  },
  {
   "cell_type": "code",
   "execution_count": null,
   "metadata": {},
   "outputs": [],
   "source": [
    "test_size = .1\n",
    "train = np.array(data.loc[:len(data)*(1 - test_size)])\n",
    "test = np.array(data.loc[len(data)*(1 - test_size):])\n",
    "X_train, y_train = train[:,:2], train[:,2]\n",
    "X_test, y_test = test[:,:2], test[:,2]"
   ]
  },
  {
   "cell_type": "code",
   "execution_count": null,
   "metadata": {},
   "outputs": [],
   "source": [
    "perceptron = Perceptron()\n",
    "perceptron.fit(X_train, y_train)\n",
    "\n",
    "predictions = []\n",
    "for X in X_test:\n",
    "    predictions.append(perceptron.predict(X))"
   ]
  },
  {
   "cell_type": "code",
   "execution_count": null,
   "metadata": {},
   "outputs": [],
   "source": [
    "fig, ax = plt.subplots(figsize=(5, 5))\n",
    "X = np.array(data[['# x0', 'x1']])\n",
    "y = np.array(data['y'])\n",
    "ax.scatter(X[:,0], X[:, 1], c=y, cmap='winter')\n",
    "\n",
    "b = perceptron.weights[0]\n",
    "W = perceptron.weights[1:3]\n",
    "print(W.shape)\n",
    "x1 = np.linspace(-1, 1, 100)\n",
    "x2 = - ( W[0] * x1 + b) / W[1]\n",
    "\n",
    "ax.plot(x1, x2, c='orange', lw=3)\n",
    "# ax.set_xlim(-1.2, 1.2), ax.set_ylim(-1.2, 1.2)"
   ]
  },
  {
   "cell_type": "markdown",
   "metadata": {},
   "source": [
    "## Task 1.19"
   ]
  },
  {
   "cell_type": "code",
   "execution_count": null,
   "metadata": {},
   "outputs": [],
   "source": [
    "test_size = .1\n",
    "train = np.array(data.loc[:len(data)*(1 - test_size)])\n",
    "test = np.array(data.loc[len(data)*(1 - test_size):])\n",
    "X_train, y_train = train[:,:2], train[:,2]\n",
    "X_test, y_test = test[:,:2], test[:,2]"
   ]
  },
  {
   "cell_type": "code",
   "execution_count": null,
   "metadata": {},
   "outputs": [],
   "source": [
    "def add_feature(input):\n",
    "    return np.insert(input, 0, input[0] ** 2 + input[1] ** 2)"
   ]
  },
  {
   "cell_type": "code",
   "execution_count": null,
   "metadata": {},
   "outputs": [],
   "source": [
    "# def add_feature(input):\n",
    "#     input = np.insert(input, 0, input[1] ** 2 )\n",
    "#     input = np.insert(input, 0, input[1] ** 2 )\n",
    "#     return input"
   ]
  },
  {
   "cell_type": "code",
   "execution_count": null,
   "metadata": {},
   "outputs": [],
   "source": [
    "X_train = np.array([add_feature(X) for X in X_train])\n",
    "X_test = np.array([add_feature(X) for X in X_test])"
   ]
  },
  {
   "cell_type": "code",
   "execution_count": null,
   "metadata": {},
   "outputs": [],
   "source": [
    "perceptron = Perceptron()\n",
    "\n",
    "perceptron.fit(X_train, y_train, epochs=500)\n",
    "\n",
    "predictions = []\n",
    "for X in X_test:\n",
    "    predictions.append(perceptron.predict(X))"
   ]
  },
  {
   "cell_type": "code",
   "execution_count": null,
   "metadata": {},
   "outputs": [],
   "source": [
    "b = perceptron.weights[0]\n",
    "W = perceptron.weights[1:]"
   ]
  },
  {
   "cell_type": "code",
   "execution_count": null,
   "metadata": {},
   "outputs": [],
   "source": [
    "import sympy as sy\n",
    "\n",
    "x0 = np.linspace(-1, 1, 100)\n",
    "x1 = sy.Symbol('x1')\n",
    "\n",
    "# eqs = np.array([sy.Eq( x1 ** 2 + W[0] / W[1] * x ** 2 + W[3] / W[1] * x1  + W[2] / W[1] * x + b / W[1] , 0) for x in x0])\n",
    "eqs = np.array([sy.Eq( (x1 ** 2 + x ** 2) + W[2] / W[0] * x1  + W[1] / W[0] * x + b / W[0] , 0) for x in x0])\n",
    "\n",
    "x1 = np.array([sy.solve(eq) for eq in eqs]).T\n",
    "x1, x2 = x1\n",
    "\n",
    "x1 = np.array([sy.re(x) for x in x1])\n",
    "x2 = np.array([sy.re(x) for x in x2])"
   ]
  },
  {
   "cell_type": "code",
   "execution_count": null,
   "metadata": {},
   "outputs": [],
   "source": [
    "fig, ax = plt.subplots(figsize=(5, 5))\n",
    "X = np.array(data[['# x0', 'x1']])\n",
    "y = np.array(data['y'])\n",
    "ax.scatter(X[:,0], X[:, 1], c=y, cmap='winter')\n",
    "\n",
    "ax.plot(x0, x1, c='orange', lw=3)\n",
    "ax.plot(x0, x2, c='orange', lw=3)"
   ]
  }
 ],
 "metadata": {
  "kernelspec": {
   "display_name": "mltask1",
   "language": "python",
   "name": "python3"
  },
  "language_info": {
   "codemirror_mode": {
    "name": "ipython",
    "version": 3
   },
   "file_extension": ".py",
   "mimetype": "text/x-python",
   "name": "python",
   "nbconvert_exporter": "python",
   "pygments_lexer": "ipython3",
   "version": "3.10.11"
  }
 },
 "nbformat": 4,
 "nbformat_minor": 2
}
