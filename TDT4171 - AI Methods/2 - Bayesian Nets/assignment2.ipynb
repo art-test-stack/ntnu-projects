{
 "cells": [
  {
   "cell_type": "code",
   "execution_count": null,
   "metadata": {},
   "outputs": [],
   "source": [
    "import numpy as np"
   ]
  },
  {
   "cell_type": "code",
   "execution_count": null,
   "metadata": {},
   "outputs": [],
   "source": [
    "A = 1/3 * np.array(\n",
    "    [\n",
    "        [0, .5, .5], \n",
    "        [0, 0, 1], \n",
    "        [0, 1, 0],\n",
    "        [0, 0, 1],\n",
    "        [.5, 0, .5],\n",
    "        [1, 0, 0],\n",
    "        [0, 1, 0],\n",
    "        [1, 0, 0],\n",
    "        [.5, .5, 0]\n",
    "    ])\n"
   ]
  },
  {
   "cell_type": "code",
   "execution_count": null,
   "metadata": {},
   "outputs": [],
   "source": [
    "B = 1/2 * np.array(\n",
    "    [\n",
    "        [0, 1, 1],\n",
    "        [1, 0, 1],\n",
    "        [1, 1, 0]\n",
    "    ]\n",
    ")"
   ]
  },
  {
   "cell_type": "code",
   "execution_count": null,
   "metadata": {},
   "outputs": [],
   "source": [
    "def compute_proba(M, C, O):\n",
    "    if M == O: return 0\n",
    "    p = 1/3 * A[M * 3 + C, O] / B[M, O]\n",
    "    return p"
   ]
  },
  {
   "cell_type": "code",
   "execution_count": null,
   "metadata": {},
   "outputs": [],
   "source": [
    "dic = {\n",
    "    0: 'A',\n",
    "    1: 'B',\n",
    "    2: 'C'\n",
    "}"
   ]
  },
  {
   "cell_type": "code",
   "execution_count": null,
   "metadata": {},
   "outputs": [],
   "source": [
    "P = []\n",
    "for M in range(3):\n",
    "    for O in range(3):\n",
    "        P.append([])\n",
    "        for C in range(3):\n",
    "            P[M*3 + O].append(compute_proba(M, C, O))\n",
    "            print(f\"P(C={dic[C]} | O={dic[O]}, M={dic[M]}) = {compute_proba(M, C, O)}\")"
   ]
  }
 ],
 "metadata": {
  "kernelspec": {
   "display_name": "aitask3",
   "language": "python",
   "name": "python3"
  },
  "language_info": {
   "codemirror_mode": {
    "name": "ipython",
    "version": 3
   },
   "file_extension": ".py",
   "mimetype": "text/x-python",
   "name": "python",
   "nbconvert_exporter": "python",
   "pygments_lexer": "ipython3",
   "version": "3.10.11"
  }
 },
 "nbformat": 4,
 "nbformat_minor": 2
}
