{
 "cells": [
  {
   "cell_type": "markdown",
   "metadata": {},
   "source": [
    "Student: Arthur Testard, id: 105022\n",
    "\n",
    "# TDT4171 - Assignment 3\n",
    "## Probabilistic Reasoning over time\n",
    "### Exercise 2\n",
    "\n",
    "Implement filtering using the Forward operation (see Equation 14.5 on Page 485 and Equation 14.12 on Page 492) by programming. The forward operation can be done with matrix operations in the HMM.\n",
    "\n",
    "$$P(X_{t+1}|e_{1:t+1}) = \\alpha P(e_{t+1} | X_{t+1}) \\sum_{x_t}P(X_{t+1}|x_t)P(x_t|e_{1:t})$$\n",
    "\n",
    "$$f_{1:t+1} = \\alpha O_{t+1}T^T f_{1:t}$$"
   ]
  },
  {
   "cell_type": "code",
   "execution_count": null,
   "metadata": {},
   "outputs": [],
   "source": [
    "import numpy as np\n",
    "\n",
    "O = np.array(\n",
    "    [ np.array([0.8, 0.2]),\n",
    "     np.array([0.1 ,0.9]), \n",
    "    ])\n",
    "\n",
    "T = np.array(\n",
    "    [ np.array([0.7, 0.3]),\n",
    "     np.array([0.3 ,0.7]), \n",
    "    ])\n",
    "\n",
    "def forward_operation(p_x0, e1_t, normalized = True):\n",
    "    p_x0 = np.array([1-p_x0, p_x0])\n",
    "    p_x1 = T.dot(p_x0)\n",
    "    tf = len(e1_t)\n",
    "    p_unnormalized = [ p_x1 ]\n",
    "    p_normalized = [ p_x1 ]\n",
    "    alpha = []\n",
    "    for t in range(tf):\n",
    "        p_unnormalized.append(O[:,e1_t[t]] * T.dot(p_unnormalized[t]))\n",
    "\n",
    "        alpha = 1 / np.sum(p_unnormalized[t+1])\n",
    "        p_normalized.append(p_unnormalized[t+1]*alpha)\n",
    "    return p_normalized if normalized else p_unnormalized"
   ]
  },
  {
   "cell_type": "markdown",
   "metadata": {},
   "source": [
    "• Verify your implementation by calculating P(X2|e1:2), where e1:2 is the evidence that the umbrella was used both on day 1 and day 2. The desired result is that the probability of rain at day 2 (after the observations) is 0.883."
   ]
  },
  {
   "cell_type": "code",
   "execution_count": null,
   "metadata": {},
   "outputs": [],
   "source": [
    "e12 = [1, 1]\n",
    "p_xk_e1k = forward_operation(.5, e12)\n",
    "print(f\"The probability of rain at day 2, after the observations that the umbrella was used both on day 1 and day 2 is P(X2|e1:2) = {p_xk_e1k[len(e12)][1]}\")"
   ]
  },
  {
   "cell_type": "markdown",
   "metadata": {},
   "source": [
    "• Use your program to calculate the probability of rain at day 5 given the following sequence\n",
    "of observations: \n",
    "\n",
    "<code>e1:5 = {Umbrella1 = true, Umbrella2 = true, Umbrella3 = false, Umbrella4 = true, Umbrella5 = true}.</code>"
   ]
  },
  {
   "cell_type": "code",
   "execution_count": null,
   "metadata": {},
   "outputs": [],
   "source": [
    "e15 = [1, 1, 0, 1, 1]\n",
    "p_xk_e15 = forward_operation(.5, e15, True)\n",
    "p_xk_e15[:]"
   ]
  }
 ],
 "metadata": {
  "kernelspec": {
   "display_name": "aitask3",
   "language": "python",
   "name": "python3"
  },
  "language_info": {
   "codemirror_mode": {
    "name": "ipython",
    "version": 3
   },
   "file_extension": ".py",
   "mimetype": "text/x-python",
   "name": "python",
   "nbconvert_exporter": "python",
   "pygments_lexer": "ipython3",
   "version": "3.10.11"
  }
 },
 "nbformat": 4,
 "nbformat_minor": 2
}
