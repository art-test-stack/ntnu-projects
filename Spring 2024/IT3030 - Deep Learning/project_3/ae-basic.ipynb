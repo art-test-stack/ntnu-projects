{
 "cells": [
  {
   "cell_type": "code",
   "execution_count": null,
   "metadata": {},
   "outputs": [],
   "source": [
    "from model_trainer import ModelTrainer\n",
    "from verification_net import VerificationNet\n",
    "from stacked_mnist import StackedMNIST, DataMode\n",
    "\n",
    "from autoencoder import AutoEncoder\n",
    "\n",
    "import numpy as np\n",
    "import torch\n",
    "import torch.nn as nn\n",
    "import torch.optim as optim\n",
    "\n",
    "from torch.utils.data import DataLoader\n",
    "\n",
    "from tqdm import tqdm\n",
    "import matplotlib.pyplot as plt\n",
    "\n",
    "from pathlib import Path\n",
    "from typing import Tuple\n",
    "\n",
    "device = torch.device(\"mps\")\n",
    "torch.mps.set_per_process_memory_fraction(0.)\n",
    "\n",
    "trainer_file = Path(\"trainers/ae-basic.pkl\")\n",
    "model_file = Path(\"models/ae-basic\")\n",
    "\n",
    "latent_space_size = 64\n",
    "mode = DataMode.MONO"
   ]
  },
  {
   "cell_type": "code",
   "execution_count": null,
   "metadata": {},
   "outputs": [],
   "source": [
    "class AutoEncoderTrainer(ModelTrainer):\n",
    "    def __init__(\n",
    "            self, \n",
    "            model, \n",
    "            loss, \n",
    "            optimizer,\n",
    "            device = torch.device(\"mps\"),\n",
    "            file_name: str | Path = model_file, \n",
    "            force_learn: bool = False\n",
    "        ) -> None:\n",
    "        super().__init__(model, loss, optimizer, device, file_name, force_learn)\n",
    "\n",
    "    def get_output_from_batch(self, batch):\n",
    "        x, _, _ = batch\n",
    "        x = x.to(self.device)\n",
    "        _, output = self.model(x)\n",
    "        return x, output"
   ]
  },
  {
   "cell_type": "code",
   "execution_count": null,
   "metadata": {},
   "outputs": [],
   "source": [
    "AE = AutoEncoder(latent_space_size=latent_space_size)\n",
    "loss = nn.MSELoss()\n",
    "opt = optim.Adam(AE.parameters(), lr=1e-5)\n",
    "device = torch.device(\"mps\")\n",
    "\n",
    "trainset = StackedMNIST(train=True, mode=mode)\n",
    "testset = StackedMNIST(train=False, mode=mode)\n",
    "\n",
    "Trainer = AutoEncoderTrainer(\n",
    "        model=AE, \n",
    "        loss=loss, \n",
    "        optimizer=opt, \n",
    "        file_name='models/ae-basic',\n",
    "        force_learn=False\n",
    "    )\n",
    "\n",
    "# Trainer = Trainer.load_trainer(trainer_file)\n",
    "\n",
    "train_set = DataLoader(trainset, shuffle=True, batch_size=2048)\n",
    "test_set = DataLoader(testset, shuffle=True, batch_size=2048)\n",
    "\n",
    "Trainer.print_reconstructed_img(testset)\n",
    "\n",
    "VerifNet = VerificationNet(file_name='models/verification_model_torch_ok_copy')\n",
    "Trainer.print_class_coverage_and_predictability(VerifNet, trainset)\n",
    "Trainer.print_class_coverage_and_predictability(VerifNet, testset)\n"
   ]
  }
 ],
 "metadata": {
  "kernelspec": {
   "display_name": "deeplearning",
   "language": "python",
   "name": "deeplearning"
  },
  "language_info": {
   "codemirror_mode": {
    "name": "ipython",
    "version": 3
   },
   "file_extension": ".py",
   "mimetype": "text/x-python",
   "name": "python",
   "nbconvert_exporter": "python",
   "pygments_lexer": "ipython3",
   "version": "3.10.11"
  }
 },
 "nbformat": 4,
 "nbformat_minor": 2
}
