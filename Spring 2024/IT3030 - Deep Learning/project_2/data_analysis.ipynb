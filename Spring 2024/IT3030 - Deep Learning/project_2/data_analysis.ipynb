{
 "cells": [
  {
   "cell_type": "code",
   "execution_count": null,
   "metadata": {},
   "outputs": [],
   "source": [
    "import pandas as pd\n",
    "import numpy as np\n",
    "from matplotlib import pyplot as plt\n",
    "import seaborn as sns\n",
    "\n",
    "import preprocessing as pp"
   ]
  },
  {
   "cell_type": "code",
   "execution_count": null,
   "metadata": {},
   "outputs": [],
   "source": [
    "raw_data = pd.read_csv('consumption_and_temperatures.csv')\n",
    "raw_data"
   ]
  },
  {
   "cell_type": "markdown",
   "metadata": {},
   "source": [
    "### Look for na values"
   ]
  },
  {
   "cell_type": "code",
   "execution_count": null,
   "metadata": {},
   "outputs": [],
   "source": [
    "raw_data.isna().sum().sort_values(ascending=False)"
   ]
  },
  {
   "cell_type": "code",
   "execution_count": null,
   "metadata": {},
   "outputs": [],
   "source": [
    "raw_data.isnull().sum().sort_values(ascending=False)"
   ]
  },
  {
   "cell_type": "code",
   "execution_count": null,
   "metadata": {},
   "outputs": [],
   "source": [
    "raw_data['timestamp'] = pd.to_datetime(raw_data['timestamp'])"
   ]
  },
  {
   "cell_type": "markdown",
   "metadata": {},
   "source": [
    "### Plot inputs and targets"
   ]
  },
  {
   "cell_type": "code",
   "execution_count": null,
   "metadata": {},
   "outputs": [],
   "source": [
    "for i in range(1, 6):\n",
    "    fig, axs = plt.subplots(2, 1, figsize=(30, 20), sharex=True)\n",
    "\n",
    "    raw_data[['timestamp',f'NO{i}_temperature']].set_index('timestamp').plot(ax=axs[0], title=f'temperature on location {i}')\n",
    "    raw_data[['timestamp',f'NO{i}_consumption']].set_index('timestamp').plot(ax=axs[1], title=f'consumption on location {i}')\n",
    "    plt.plot()"
   ]
  },
  {
   "cell_type": "markdown",
   "metadata": {},
   "source": [
    "### Look for correlations"
   ]
  },
  {
   "cell_type": "code",
   "execution_count": null,
   "metadata": {},
   "outputs": [],
   "source": [
    "plt.figure()\n",
    "sns.heatmap(raw_data.corr(method='pearson', numeric_only=True), annot=True, cmap=plt.cm.Reds)\n"
   ]
  },
  {
   "cell_type": "code",
   "execution_count": null,
   "metadata": {},
   "outputs": [],
   "source": [
    "data_seasons, _ = pp.add_season_columns(raw_data)\n",
    "plt.figure(figsize=(20, 20))\n",
    "sns.heatmap(data_seasons.corr(method='pearson', numeric_only=True), annot=True, cmap=plt.cm.Reds)"
   ]
  },
  {
   "cell_type": "markdown",
   "metadata": {},
   "source": [
    "### Plot output by input"
   ]
  },
  {
   "cell_type": "code",
   "execution_count": null,
   "metadata": {},
   "outputs": [],
   "source": [
    "for i in range(1, 6):\n",
    "    plt.figure()\n",
    "    plt.scatter(raw_data[f'NO{i}_temperature'], raw_data[f'NO{i}_consumption'], alpha=0.2)\n",
    "    plt.title(f'NO{i}_consumption by NO{i}_temperature')\n",
    "    plt.xlabel(f'NO{i}_temperature')\n",
    "    plt.ylabel(f'NO{i}_consumption')\n",
    "    plt.plot()"
   ]
  },
  {
   "cell_type": "code",
   "execution_count": null,
   "metadata": {},
   "outputs": [],
   "source": [
    "data_hours, _ = pp.add_hour_columns(raw_data)\n",
    "data_hours.columns"
   ]
  },
  {
   "cell_type": "code",
   "execution_count": null,
   "metadata": {},
   "outputs": [],
   "source": [
    "for i in range(1, 6):\n",
    "    fig, axs = plt.subplots(2, 1, figsize=(30, 40), sharex=True)\n",
    "    for h in range(24):\n",
    "        data_hours[data_hours[f'hour_{h}']][['timestamp',f'NO{i}_temperature']].set_index('timestamp').plot(ax=axs[0], title=f'temperature on location {i}', label=f'temp hour={h}')\n",
    "        data_hours[data_hours[f'hour_{h}']][['timestamp',f'NO{i}_consumption']].set_index('timestamp').plot(ax=axs[1], title=f'consumption on location {i}', label=f'cons hour={h}')\n",
    "    plt.legend()\n",
    "    plt.plot()"
   ]
  },
  {
   "cell_type": "code",
   "execution_count": null,
   "metadata": {},
   "outputs": [],
   "source": [
    "targets = [ f'NO{k}_consumption' for k in range(1, 6) ]"
   ]
  },
  {
   "cell_type": "code",
   "execution_count": null,
   "metadata": {},
   "outputs": [],
   "source": [
    "inputs = [ f'NO{k}_temperature' for k in range(1, 6) ]"
   ]
  },
  {
   "cell_type": "code",
   "execution_count": null,
   "metadata": {},
   "outputs": [],
   "source": [
    "columns_to_plot = raw_data.drop(columns='timestamp', inplace=False).columns\n",
    "columns_to_plot = inputs"
   ]
  },
  {
   "cell_type": "code",
   "execution_count": null,
   "metadata": {},
   "outputs": [],
   "source": [
    "df = raw_data.copy()\n",
    "mean = df[columns_to_plot].mean()\n",
    "mean['timestamp'] = raw_data['timestamp']\n",
    "\n",
    "std = df[columns_to_plot].std()\n",
    "std['timestamp'] = raw_data['timestamp']\n",
    "\n",
    "threshold = 3.5 * std[columns_to_plot]\n",
    "anomalies = (df[columns_to_plot] - mean[columns_to_plot]).abs() > threshold\n",
    "\n",
    "df_anomalies = df[columns_to_plot][anomalies[columns_to_plot]]\n",
    "\n",
    "df_anomalies['timestamp'] = raw_data['timestamp']\n",
    "\n",
    "\n",
    "for target in columns_to_plot:\n",
    "    plt.figure(figsize=(10, 6))\n",
    "    plt.plot(df['timestamp'], df[target], zorder=1)\n",
    "    plt.scatter(df_anomalies['timestamp'], df_anomalies[target], color='red', label='Anomalies', zorder=2)\n",
    "    plt.title(f'{target} with Anomalies Detected by Standard Deviation Thresholding')\n",
    "    plt.xlabel('Time')\n",
    "    plt.ylabel('Value')\n",
    "    plt.show()"
   ]
  },
  {
   "cell_type": "code",
   "execution_count": null,
   "metadata": {},
   "outputs": [],
   "source": [
    "df_anomalies = pp.manage_anomalies(raw_data, threshold=3.5)"
   ]
  },
  {
   "cell_type": "code",
   "execution_count": null,
   "metadata": {},
   "outputs": [],
   "source": [
    "df1 = df_anomalies[:30000]\n",
    "df2 = df_anomalies[30000:]"
   ]
  },
  {
   "cell_type": "code",
   "execution_count": null,
   "metadata": {},
   "outputs": [],
   "source": [
    "df1.max(), df2.max()"
   ]
  },
  {
   "cell_type": "code",
   "execution_count": null,
   "metadata": {},
   "outputs": [],
   "source": [
    "columns = df1.drop(columns='timestamp', inplace=False).columns\n",
    "for column in columns:\n",
    "    df2[column][df2[column] > df1.max()[column]] = df1.max()[column]\n",
    "    df2[column][df2[column] < df1.min()[column]] = df1.min()[column]"
   ]
  },
  {
   "cell_type": "code",
   "execution_count": null,
   "metadata": {},
   "outputs": [],
   "source": [
    "df2.describe()"
   ]
  },
  {
   "cell_type": "code",
   "execution_count": null,
   "metadata": {},
   "outputs": [],
   "source": []
  }
 ],
 "metadata": {
  "kernelspec": {
   "display_name": "mlsolar",
   "language": "python",
   "name": "python3"
  },
  "language_info": {
   "codemirror_mode": {
    "name": "ipython",
    "version": 3
   },
   "file_extension": ".py",
   "mimetype": "text/x-python",
   "name": "python",
   "nbconvert_exporter": "python",
   "pygments_lexer": "ipython3",
   "version": "3.10.11"
  }
 },
 "nbformat": 4,
 "nbformat_minor": 2
}
