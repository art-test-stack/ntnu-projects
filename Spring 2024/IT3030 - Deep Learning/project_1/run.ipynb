{
 "cells": [
  {
   "cell_type": "code",
   "execution_count": null,
   "metadata": {},
   "outputs": [],
   "source": [
    "import numpy as np\n",
    "\n",
    "import doodler_forall as dd\n",
    "import utils as u\n",
    "\n",
    "import functions as f\n",
    "import network as n"
   ]
  },
  {
   "cell_type": "code",
   "execution_count": null,
   "metadata": {},
   "outputs": [],
   "source": [
    "global_config, layers_config, dataset_config = u.open_config('configs/config_20_5.yaml')\n",
    "\n",
    "training_set, testing_set, val_set = u.load_dataset(dataset_config)\n",
    "X_train, y_train, _ = training_set\n",
    "X_val, y_val, _ = val_set\n",
    "X_test, y_test, _ = testing_set\n",
    "\n",
    "model = n.Network(global_config, layers_config)\n",
    "\n",
    "y_pred = model.fit(X_train, y_train, X_val, y_val, X_test, y_test, epoch=5000)\n"
   ]
  },
  {
   "cell_type": "code",
   "execution_count": null,
   "metadata": {},
   "outputs": [],
   "source": [
    "model_gradcustom = n.Network(global_config, layers_config)\n",
    "model_gradcustom.grad_custom = True\n",
    "y_pred = model_gradcustom.fit(X_train, y_train, X_val, y_val, X_test, y_test, epoch=4000)"
   ]
  },
  {
   "cell_type": "code",
   "execution_count": null,
   "metadata": {},
   "outputs": [],
   "source": [
    "model_batched = n.Network(global_config, layers_config)\n",
    "y_pred = model_batched.fit(X_train, y_train, X_val, y_val, X_test, y_test, epoch=5000, size_minibatch=.3)"
   ]
  }
 ],
 "metadata": {
  "kernelspec": {
   "display_name": "aitask3",
   "language": "python",
   "name": "python3"
  },
  "language_info": {
   "codemirror_mode": {
    "name": "ipython",
    "version": 3
   },
   "file_extension": ".py",
   "mimetype": "text/x-python",
   "name": "python",
   "nbconvert_exporter": "python",
   "pygments_lexer": "ipython3",
   "version": "3.10.11"
  }
 },
 "nbformat": 4,
 "nbformat_minor": 2
}
