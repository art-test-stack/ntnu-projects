{
 "cells": [
  {
   "cell_type": "markdown",
   "metadata": {},
   "source": [
    "Student: Arthur Testard\n",
    "\n",
    "Student id: 105022"
   ]
  },
  {
   "cell_type": "markdown",
   "metadata": {},
   "source": [
    "# Methods in Artificial Intelligence\n",
    "## Assignment 1 - Uncertainty\n",
    "\n",
    "### Exercise 2\n",
    "\n",
    "c. Estimate the mean and median number of plays you can expect to make until you go broke, if you start with\n",
    "10 coins"
   ]
  },
  {
   "cell_type": "code",
   "execution_count": null,
   "metadata": {},
   "outputs": [],
   "source": [
    "from scipy.special import perm, comb, factorial\n",
    "from random import randint\n",
    "from statistics import median\n",
    "\n",
    "outputs = ['BAR', 'BELL', 'LEMON', 'CHERRY']\n",
    "\n",
    "def run_wheel():\n",
    "    return outputs[randint(0, 3)]\n",
    "\n",
    "def play_one_game(coins = 1):\n",
    "    if coins < 1: \n",
    "        print(\"Do not have enough coin\")\n",
    "        return coins\n",
    "    coins -= 1\n",
    "    output = [run_wheel(), run_wheel(), run_wheel()]\n",
    "\n",
    "    payout = 0\n",
    "    \n",
    "    if output[0] == 'CHERRY':\n",
    "        payout = 1\n",
    "    if output[0] == output[1]:\n",
    "        if output[0] == 'CHERRY':\n",
    "            payout = 2\n",
    "        if output[0] == output[2]:\n",
    "            payout = 20 if output[0] == 'BAR' else 15 if output[0] == 'BELL' else 5 if output[0] == 'LEMON' else 3\n",
    "\n",
    "    return coins + payout\n",
    "    \n",
    "def play_parties_until_broke(coins = 10):\n",
    "    parties_output = []\n",
    "    while coins > 0:\n",
    "        coins = play_one_game(coins)\n",
    "        parties_output.append(coins)\n",
    "    return parties_output\n",
    "\n",
    "def compute_mean_and_median_of_parties_to_get_broke(number_of_parties = 100):\n",
    "    parties = []\n",
    "    for _ in range(number_of_parties):\n",
    "        parties.append(len(play_parties_until_broke()))\n",
    "    \n",
    "    return sum(parties) / len(parties), median(parties)\n",
    "\n",
    "compute_mean_and_median_of_parties_to_get_broke(10000)"
   ]
  },
  {
   "cell_type": "markdown",
   "metadata": {},
   "source": [
    "### Exercise 3\n",
    "\n",
    "#### Part 1\n",
    "\n",
    "Peter is interested in knowing the possibility that at least two people from a group of N people have a birthday on the same day. Your task is to find out what N has to be for this event to occur with at least 50% chance. We will disregard the existence of leap years and assume there are 365 days in a year that are equally likely to be the birthday of a randomly selected person.\n",
    "\n",
    "a. Create a function that takes N and computes the probability of the event via simulation."
   ]
  },
  {
   "cell_type": "code",
   "execution_count": null,
   "metadata": {},
   "outputs": [],
   "source": [
    "def compute_probability_birthday_same_date(N):\n",
    "    P1 = perm(365, N) / (365 ** N)\n",
    "    return 1 - P1\n",
    "\n",
    "compute_probability_birthday_same_date(22)"
   ]
  },
  {
   "cell_type": "markdown",
   "metadata": {},
   "source": [
    "b. Use the function created in the previous task to compute the probability of the event given N in the interval [10, 50]. In this interval, what is the proportion of N where the event happens with the least 50% chance? What is the smallest N where the probability of the event occurring is at least 50%?"
   ]
  },
  {
   "cell_type": "code",
   "execution_count": null,
   "metadata": {},
   "outputs": [],
   "source": [
    "range_of_N = range(10, 51)\n",
    "\n",
    "def get_proportion_of_N_and_smallest_N(range_of_N):\n",
    "    Ns = []\n",
    "    for N in range_of_N:\n",
    "        P = compute_probability_birthday_same_date(N)\n",
    "        if P > .5:\n",
    "            Ns.append(N)\n",
    "    return min(Ns), len(Ns)/len(range_of_N)\n",
    "\n",
    "result = get_proportion_of_N_and_smallest_N(range_of_N)\n",
    "print(f\"In this interval, the proportion of N where the event happens with the least 50% chance is {int(result[1]*100)}%.\\nThe smallest N where the probability of the event occurring is at least 50% is {result[0]}.\")"
   ]
  },
  {
   "cell_type": "markdown",
   "metadata": {},
   "source": [
    "#### Part 2"
   ]
  },
  {
   "cell_type": "code",
   "execution_count": null,
   "metadata": {},
   "outputs": [],
   "source": [
    "randint(1, 365)\n",
    "\n",
    "def check_group_full(group):\n",
    "    \"\"\"Check if every values in group are not equal to zero\"\"\"\n",
    "    for g in group:\n",
    "        if g == 0:\n",
    "            return False\n",
    "    return True\n",
    "\n",
    "def make_a_group():\n",
    "    \"\"\"Create a group according to the instructions in the statement\"\"\"\n",
    "    group = [ 0 for k in range(365)]\n",
    "    while not check_group_full(group):\n",
    "        index = randint(1, 365) - 1\n",
    "        group[index] += 1\n",
    "    return sum(group)\n",
    "\n",
    "def compute_group_size_mean(nb_of_gp = 50000):\n",
    "    groups = []\n",
    "    for g in range(nb_of_gp):\n",
    "        groups.append(make_a_group())\n",
    "    return sum(groups)/len(groups), groups\n",
    "\n",
    "mean, groups = compute_group_size_mean()\n",
    "\n",
    "def max_group():\n",
    "    group = [ 0 for k in range(365)]\n",
    "    while not check_group_full(group):\n",
    "        index = randint(1, 365) - 1\n",
    "        group[index] += 1\n",
    "    return max(group)\n",
    "\n",
    "def harmonic_number(n):\n",
    "    h = 0\n",
    "    for k in range(1, n + 1):\n",
    "        h += 1 / k\n",
    "    return h\n",
    "\n",
    "def get_number_of_people_needed(n = 365):\n",
    "    return n * harmonic_number(n)\n",
    "\n",
    "max_group()\n",
    "get_number_of_people_needed()\n",
    "import matplotlib.pyplot as plt\n",
    "plt.hist(groups, bins=100)"
   ]
  }
 ],
 "metadata": {
  "kernelspec": {
   "display_name": "aitask3",
   "language": "python",
   "name": "python3"
  },
  "language_info": {
   "codemirror_mode": {
    "name": "ipython",
    "version": 3
   },
   "file_extension": ".py",
   "mimetype": "text/x-python",
   "name": "python",
   "nbconvert_exporter": "python",
   "pygments_lexer": "ipython3",
   "version": "3.10.11"
  }
 },
 "nbformat": 4,
 "nbformat_minor": 2
}
