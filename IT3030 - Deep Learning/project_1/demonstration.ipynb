{
 "cells": [
  {
   "cell_type": "code",
   "execution_count": null,
   "metadata": {},
   "outputs": [],
   "source": [
    "import numpy as np\n",
    "\n",
    "import utils as u\n",
    "import network as n"
   ]
  },
  {
   "cell_type": "markdown",
   "metadata": {},
   "source": [
    "## 1. Network with at least 2 hidden layers"
   ]
  },
  {
   "cell_type": "markdown",
   "metadata": {},
   "source": [
    "### 1.1 Get the configuration file"
   ]
  },
  {
   "cell_type": "code",
   "execution_count": null,
   "metadata": {},
   "outputs": [],
   "source": [
    "global_config, layers_config, dataset_config = u.open_config('configs/demo_config_1.yaml')"
   ]
  },
  {
   "cell_type": "markdown",
   "metadata": {},
   "source": [
    "### 1.2 Load the dataset"
   ]
  },
  {
   "cell_type": "code",
   "execution_count": null,
   "metadata": {},
   "outputs": [],
   "source": [
    "training_set, testing_set, val_set = u.load_dataset(dataset_config)\n",
    "X_train, y_train, _ = training_set\n",
    "X_val, y_val, _ = val_set\n",
    "X_test, y_test, _ = testing_set"
   ]
  },
  {
   "cell_type": "markdown",
   "metadata": {},
   "source": [
    "Possible to show some cases:"
   ]
  },
  {
   "cell_type": "code",
   "execution_count": null,
   "metadata": {},
   "outputs": [],
   "source": [
    "# u.show_img_cases(dataset_config.name)"
   ]
  },
  {
   "cell_type": "markdown",
   "metadata": {},
   "source": [
    "### 1.3 Create the model with the configuration"
   ]
  },
  {
   "cell_type": "code",
   "execution_count": null,
   "metadata": {},
   "outputs": [],
   "source": [
    "model = n.Network(global_config, layers_config)"
   ]
  },
  {
   "cell_type": "markdown",
   "metadata": {},
   "source": [
    "### 1.4 Train the model"
   ]
  },
  {
   "cell_type": "code",
   "execution_count": null,
   "metadata": {},
   "outputs": [],
   "source": [
    "# model.fit(X_train, y_train, X_val, y_val, X_test, y_test, epoch=5000, size_minibatch=.5)\n",
    "model.fit(X_train, y_train, X_val, y_val, X_test, y_test, epoch=5000)"
   ]
  },
  {
   "cell_type": "markdown",
   "metadata": {},
   "source": [
    "## 2. Network without hidden layer"
   ]
  },
  {
   "cell_type": "code",
   "execution_count": null,
   "metadata": {},
   "outputs": [],
   "source": [
    "global_config_2, layers_config_2, _ = u.open_config('configs/demo_config_2.yaml')\n",
    "\n",
    "model2 = n.Network(global_config_2, layers_config_2)\n",
    "model2.fit(X_train, y_train, X_val, y_val, X_test, y_test, epoch=500)"
   ]
  },
  {
   "cell_type": "markdown",
   "metadata": {},
   "source": [
    "## 3. Network with at least 5 hidden layers"
   ]
  },
  {
   "cell_type": "code",
   "execution_count": null,
   "metadata": {},
   "outputs": [],
   "source": [
    "import numpy as np\n",
    "\n",
    "import utils as u\n",
    "import network as n\n",
    "\n",
    "global_config_3, layers_config_3, dataset_config_3 = u.open_config('configs/demo_config_3.yaml')\n",
    "training_set_3, testing_set_3, val_set_3 = u.load_dataset(dataset_config_3)\n",
    "X_train_3, y_train_3, _ = training_set_3\n",
    "X_val_3, y_val_3, _ = val_set_3\n",
    "X_test_3, y_test_3, _ = testing_set_3\n",
    "\n",
    "model3 = n.Network(global_config_3, layers_config_3)\n",
    "model3.fit(X_train_3, y_train_3, X_val_3, y_val_3, X_test_3, y_test_3, epoch=1000)"
   ]
  }
 ],
 "metadata": {
  "kernelspec": {
   "display_name": "aitask3",
   "language": "python",
   "name": "python3"
  },
  "language_info": {
   "codemirror_mode": {
    "name": "ipython",
    "version": 3
   },
   "file_extension": ".py",
   "mimetype": "text/x-python",
   "name": "python",
   "nbconvert_exporter": "python",
   "pygments_lexer": "ipython3",
   "version": "3.10.11"
  }
 },
 "nbformat": 4,
 "nbformat_minor": 2
}
