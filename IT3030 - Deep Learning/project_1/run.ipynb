{
 "cells": [
  {
   "cell_type": "code",
   "execution_count": 1,
   "metadata": {},
   "outputs": [],
   "source": [
    "import numpy as np"
   ]
  },
  {
   "cell_type": "code",
   "execution_count": 2,
   "metadata": {},
   "outputs": [],
   "source": [
    "import doodler_forall as dd\n",
    "import utils as u\n",
    "# import model as m\n",
    "import functions as f\n",
    "import network as n\n"
   ]
  },
  {
   "cell_type": "code",
   "execution_count": 3,
   "metadata": {},
   "outputs": [],
   "source": [
    "config = u.read_config('configs/config.yaml')"
   ]
  },
  {
   "cell_type": "code",
   "execution_count": 4,
   "metadata": {},
   "outputs": [],
   "source": [
    "global_config, layers_config = u.adapt_config(config)"
   ]
  },
  {
   "cell_type": "code",
   "execution_count": 5,
   "metadata": {},
   "outputs": [
    {
     "data": {
      "text/plain": [
       "{'loss': 'cross_entropy', 'lrate': 1, 'wreg': 0.1, 'wrt': 'L2'}"
      ]
     },
     "execution_count": 5,
     "metadata": {},
     "output_type": "execute_result"
    }
   ],
   "source": [
    "global_config.__dict__"
   ]
  },
  {
   "cell_type": "code",
   "execution_count": 6,
   "metadata": {},
   "outputs": [
    {
     "data": {
      "text/plain": [
       "{'input': 20,\n",
       " 'hidden_layers': [{'size': 20, 'act': 'sigmoid', 'lrate': 1},\n",
       "  {'size': 5, 'act': 'sigmoid', 'br': '(0 1)'}],\n",
       " 'type': 'softmax'}"
      ]
     },
     "execution_count": 6,
     "metadata": {},
     "output_type": "execute_result"
    }
   ],
   "source": [
    "layers_config.__dict__"
   ]
  },
  {
   "cell_type": "code",
   "execution_count": 7,
   "metadata": {},
   "outputs": [
    {
     "name": "stdout",
     "output_type": "stream",
     "text": [
      "|----------------------------------------|\n",
      "| GLOBAL   |                             |\n",
      "|----------------------------------------|\n",
      "| loss     | cross_entropy               |\n",
      "| lrate    | 1                           |\n",
      "| wreg     | 0.1                         |\n",
      "| wrt      | L2                          |\n",
      "|----------------------------------------|\n",
      "| LAYERS   |                             |\n",
      "|----------------------------------------|\n",
      "| input    | 20                          |\n",
      "| layer 1  |                             |\n",
      "|          | size: 20                    |\n",
      "|          | act: sigmoid                |\n",
      "|          | lrate: 1                    |\n",
      "| layer 2  |                             |\n",
      "|          | size: 5                     |\n",
      "|          | act: sigmoid                |\n",
      "|          | br: (0 1)                   |\n",
      "| type     | softmax                     |\n",
      "|----------------------------------------|\n"
     ]
    }
   ],
   "source": [
    "model = n.Network(global_config, layers_config)"
   ]
  },
  {
   "cell_type": "code",
   "execution_count": 8,
   "metadata": {},
   "outputs": [
    {
     "data": {
      "text/plain": [
       "{'loss': 'cross_entropy',\n",
       " 'lrate': 1,\n",
       " 'wreg': 0.1,\n",
       " 'wrt': 'L2',\n",
       " 'input': 20,\n",
       " 'type': 'softmax',\n",
       " 'layers': [<layer.Layer at 0x120e7ffa0>, <layer.Layer at 0x120e7fdf0>],\n",
       " 'global_config': <utils.GlobalConfig at 0x120e7fbb0>,\n",
       " 'layers_config': <utils.LayersConfig at 0x120e7e830>}"
      ]
     },
     "execution_count": 8,
     "metadata": {},
     "output_type": "execute_result"
    }
   ],
   "source": [
    "model.__dict__"
   ]
  },
  {
   "cell_type": "code",
   "execution_count": 9,
   "metadata": {},
   "outputs": [],
   "source": [
    "dataset_name = 'dataset_2024-02-09_200_5_20'\n",
    "training_set, testing_set, val_set = u.load_dataset(dataset_name)"
   ]
  },
  {
   "cell_type": "code",
   "execution_count": 10,
   "metadata": {},
   "outputs": [],
   "source": [
    "X_train, y_train = training_set[0], training_set[1]\n",
    "X_val, y_val = val_set[0], val_set[1]\n",
    "X_test, y_test = testing_set[0], testing_set[1]"
   ]
  },
  {
   "cell_type": "code",
   "execution_count": 11,
   "metadata": {},
   "outputs": [
    {
     "name": "stdout",
     "output_type": "stream",
     "text": [
      "Epoch: 1,     loss: 1.6094379124340954, val loss: 1.6094379124340954\n",
      "Epoch: 2,     loss: 1.6094837753266569, val loss: 1.6095425224111857\n",
      "Epoch: 3,     loss: 1.6096091808949546, val loss: 1.609947776154722\n",
      "Epoch: 4,     loss: 1.6100827639246773, val loss: 1.6122368960641624\n",
      "Epoch: 5,     loss: 1.6153738319860114, val loss: 1.6378007838550268\n",
      "Epoch: 6,     loss: 1.6189837187027303, val loss: 1.644829008963069\n",
      "Epoch: 7,     loss: 1.6098422763674267, val loss: 1.6122002977317327\n",
      "Epoch: 8,     loss: 1.60970339629594,   val loss: 1.611104112589608\n",
      "Epoch: 9,     loss: 1.6096353969760628, val loss: 1.6105723904320186\n",
      "Epoch: 10,    loss: 1.6095951032319002, val loss: 1.6102673520050144\n",
      "Epoch: 11,    loss: 1.609568534098503,  val loss: 1.6100740388095987\n",
      "Epoch: 12,    loss: 1.6095497494045952, val loss: 1.6099429777681988\n",
      "Epoch: 13,    loss: 1.6095357936603354, val loss: 1.6098496358070744\n",
      "Epoch: 14,    loss: 1.609525032427239,  val loss: 1.6097806005546602\n",
      "Epoch: 15,    loss: 1.6095164899109806, val loss: 1.6097279907113622\n",
      "Epoch: 16,    loss: 1.609509548526018,  val loss: 1.6096869087746626\n",
      "Epoch: 17,    loss: 1.6095037989374008, val loss: 1.6096541719921291\n",
      "Epoch: 18,    loss: 1.6094989594700742, val loss: 1.6096276344900975\n",
      "Epoch: 19,    loss: 1.6094948301649967, val loss: 1.6096058042264012\n",
      "Epoch: 20,    loss: 1.6094912652895883, val loss: 1.6095876162319904\n",
      "Epoch: 21,    loss: 1.6094881562115064, val loss: 1.6095722930066274\n",
      "Epoch: 22,    loss: 1.6094854203560405, val loss: 1.609559255640292\n",
      "Epoch: 23,    loss: 1.6094829938723214, val loss: 1.6095480655613774\n",
      "Epoch: 24,    loss: 1.6094808266355585, val loss: 1.609538385374852\n",
      "Epoch: 25,    loss: 1.6094788787631513, val loss: 1.6095299519364117\n",
      "Epoch: 26,    loss: 1.6094771181367935, val loss: 1.6095225574657257\n",
      "Epoch: 27,    loss: 1.6094755186081573, val loss: 1.6095160360590886\n",
      "Epoch: 28,    loss: 1.6094740586784275, val loss: 1.609510253901\n",
      "Epoch: 29,    loss: 1.6094727205122574, val loss: 1.609505102055418\n",
      "Epoch: 30,    loss: 1.609471489191615,  val loss: 1.6095004910855086\n",
      "Epoch: 31,    loss: 1.6094703521442746, val loss: 1.6094963469887782\n",
      "Epoch: 32,    loss: 1.6094692987011814, val loss: 1.609492608091349\n",
      "Epoch: 33,    loss: 1.6094683197501156, val loss: 1.6094892226504116\n",
      "Epoch: 34,    loss: 1.6094674074621202, val loss: 1.609486146985577\n",
      "Epoch: 35,    loss: 1.6094665550735183, val loss: 1.6094833440094776\n",
      "Epoch: 36,    loss: 1.6094657567107982, val loss: 1.6094807820627375\n",
      "Epoch: 37,    loss: 1.60946500724887,   val loss: 1.6094784339831223\n",
      "Epoch: 38,    loss: 1.6094643021955235, val loss: 1.609476276356424\n",
      "Epoch: 39,    loss: 1.6094636375966074, val loss: 1.6094742889095173\n",
      "Epoch: 40,    loss: 1.609463009957741,  val loss: 1.609472454015478\n",
      "Epoch: 41,    loss: 1.609462416179289,  val loss: 1.609470756287663\n",
      "Epoch: 42,    loss: 1.6094618535020602, val loss: 1.6094691822448774\n",
      "Epoch: 43,    loss: 1.6094613194617176, val loss: 1.6094677200337146\n",
      "Epoch: 44,    loss: 1.6094608118503266, val loss: 1.6094663591971454\n",
      "Epoch: 45,    loss: 1.6094603286837583, val loss: 1.6094650904807333\n",
      "Epoch: 46,    loss: 1.609459868173948,  val loss: 1.6094639056696245\n",
      "Epoch: 47,    loss: 1.6094594287051753, val loss: 1.6094627974508353\n",
      "Epoch: 48,    loss: 1.6094590088137122, val loss: 1.6094617592964355\n",
      "Epoch: 49,    loss: 1.609458607170287,  val loss: 1.6094607853640746\n",
      "Epoch: 50,    loss: 1.6094582225649252, val loss: 1.6094598704119556\n",
      "Epoch: 51,    loss: 1.6094578538937943, val loss: 1.609459009725908\n",
      "Epoch: 52,    loss: 1.6094575001477611, val loss: 1.6094581990566184\n",
      "Epoch: 53,    loss: 1.6094571604023915, val loss: 1.6094574345654362\n",
      "Epoch: 54,    loss: 1.6094568338092006, val loss: 1.6094567127774342\n",
      "Epoch: 55,    loss: 1.6094565195879607, val loss: 1.6094560305406322\n",
      "Epoch: 56,    loss: 1.6094562170199336, val loss: 1.6094553849904736\n",
      "Epoch: 57,    loss: 1.6094559254418919, val loss: 1.6094547735187945\n",
      "Epoch: 58,    loss: 1.6094556442408237, val loss: 1.6094541937466464\n",
      "Epoch: 59,    loss: 1.609455372849237,  val loss: 1.60945364350043\n",
      "Epoch: 60,    loss: 1.6094551107409814, val loss: 1.6094531207908915\n",
      "Epoch: 61,    loss: 1.6094548574275234, val loss: 1.6094526237945872\n",
      "Epoch: 62,    loss: 1.6094546124546172, val loss: 1.6094521508374997\n",
      "Epoch: 63,    loss: 1.6094543753993271, val loss: 1.6094517003805124\n",
      "Epoch: 64,    loss: 1.6094541458673515, val loss: 1.6094512710065143\n",
      "Epoch: 65,    loss: 1.6094539234906222, val loss: 1.6094508614089251\n",
      "Epoch: 66,    loss: 1.6094537079251385, val loss: 1.6094504703814616\n",
      "Epoch: 67,    loss: 1.6094534988490163, val loss: 1.6094500968089969\n",
      "Epoch: 68,    loss: 1.6094532959607224, val loss: 1.6094497396593832\n",
      "Epoch: 69,    loss: 1.6094530989774762, val loss: 1.6094493979761169\n",
      "Epoch: 70,    loss: 1.6094529076338024, val loss: 1.6094490708717542\n",
      "Epoch: 71,    loss: 1.6094527216802141, val loss: 1.6094487575219851\n",
      "Epoch: 72,    loss: 1.6094525408820157, val loss: 1.609448457160297\n",
      "Epoch: 73,    loss: 1.609452365018211,  val loss: 1.6094481690731575\n",
      "Epoch: 74,    loss: 1.609452193880512,  val loss: 1.6094478925956617\n",
      "Epoch: 75,    loss: 1.6094520272724235, val loss: 1.6094476271075906\n",
      "Epoch: 76,    loss: 1.6094518650084184, val loss: 1.609447372029841\n",
      "Epoch: 77,    loss: 1.6094517069131697, val loss: 1.609447126821182\n",
      "Epoch: 78,    loss: 1.6094515528208542, val loss: 1.6094468909753095\n",
      "Epoch: 79,    loss: 1.6094514025745101, val loss: 1.6094466640181642\n",
      "Epoch: 80,    loss: 1.6094512560254486, val loss: 1.6094464455054878\n",
      "Epoch: 81,    loss: 1.6094511130327054, val loss: 1.6094462350205938\n",
      "Epoch: 82,    loss: 1.6094509734625444, val loss: 1.60944603217233\n",
      "Epoch: 83,    loss: 1.6094508371879936, val loss: 1.6094458365932156\n",
      "Epoch: 84,    loss: 1.6094507040884172, val loss: 1.6094456479377357\n",
      "Epoch: 85,    loss: 1.6094505740491236, val loss: 1.6094454658807793\n",
      "Epoch: 86,    loss: 1.6094504469609958, val loss: 1.6094452901162004\n",
      "Epoch: 87,    loss: 1.609450322720156,  val loss: 1.6094451203555047\n",
      "Epoch: 88,    loss: 1.6094502012276508, val loss: 1.6094449563266338\n",
      "Epoch: 89,    loss: 1.6094500823891578, val loss: 1.6094447977728519\n",
      "Epoch: 90,    loss: 1.6094499661147161, val loss: 1.6094446444517148\n",
      "Epoch: 91,    loss: 1.6094498523184744, val loss: 1.609444496134126\n",
      "Epoch: 92,    loss: 1.6094497409184543, val loss: 1.6094443526034556\n",
      "Epoch: 93,    loss: 1.609449631836335,  val loss: 1.6094442136547373\n",
      "Epoch: 94,    loss: 1.6094495249972451, val loss: 1.609444079093914\n",
      "Epoch: 95,    loss: 1.6094494203295762, val loss: 1.6094439487371504\n",
      "Epoch: 96,    loss: 1.6094493177648022, val loss: 1.6094438224101895\n",
      "Epoch: 97,    loss: 1.6094492172373158, val loss: 1.6094436999477553\n",
      "Epoch: 98,    loss: 1.609449118684269,  val loss: 1.6094435811930041\n",
      "Epoch: 99,    loss: 1.6094490220454323, val loss: 1.6094434659970098\n",
      "Epoch: 100,   loss: 1.6094489272630552, val loss: 1.609443354218287\n"
     ]
    },
    {
     "data": {
      "image/png": "[encoded data removed]",
      "text/plain": [
       "<Figure size 640x480 with 1 Axes>"
      ]
     },
     "metadata": {},
     "output_type": "display_data"
    }
   ],
   "source": [
    "# y_pred = model.fit(X_train, y_train, epoch=1000)\n",
    "y_pred = model.fit(X_train, y_train, X_val, y_val, epoch=100)\n",
    "# y_pred = model.fit(X_train, y_train, X_val, y_val, X_test, y_test, 20)"
   ]
  },
  {
   "cell_type": "code",
   "execution_count": 12,
   "metadata": {},
   "outputs": [
    {
     "data": {
      "text/plain": [
       "array([[0.19999829, 0.19998787, 0.20000195, 0.20002204, 0.19998985],\n",
       "       [0.19999773, 0.19998363, 0.20000272, 0.20002964, 0.19998627],\n",
       "       [0.19999822, 0.19998731, 0.20000205, 0.20002304, 0.19998938],\n",
       "       [0.19999791, 0.199985  , 0.20000247, 0.20002719, 0.19998743],\n",
       "       [0.19999853, 0.19998965, 0.20000163, 0.20001884, 0.19999135],\n",
       "       [0.19999807, 0.19998617, 0.20000225, 0.20002509, 0.19998842],\n",
       "       [0.19999742, 0.19998124, 0.20000317, 0.20003392, 0.19998425],\n",
       "       [0.19999833, 0.19998814, 0.2000019 , 0.20002155, 0.19999008],\n",
       "       [0.19999817, 0.19998693, 0.20000211, 0.20002372, 0.19998906],\n",
       "       [0.1999983 , 0.19998792, 0.20000194, 0.20002195, 0.1999899 ],\n",
       "       [0.19999816, 0.19998687, 0.20000213, 0.20002383, 0.19998901],\n",
       "       [0.19999826, 0.19998761, 0.20000199, 0.2000225 , 0.19998964],\n",
       "       [0.19999834, 0.19998822, 0.20000188, 0.2000214 , 0.19999015],\n",
       "       [0.19999734, 0.19998061, 0.20000329, 0.20003504, 0.19998372],\n",
       "       [0.19999804, 0.19998598, 0.20000229, 0.20002543, 0.19998826],\n",
       "       [0.19999744, 0.19998137, 0.20000315, 0.2000337 , 0.19998435],\n",
       "       [0.19999718, 0.19997938, 0.20000353, 0.20003724, 0.19998267],\n",
       "       [0.19999763, 0.19998285, 0.20000287, 0.20003105, 0.19998561],\n",
       "       [0.19999742, 0.19998119, 0.20000318, 0.20003401, 0.19998421],\n",
       "       [0.19999817, 0.19998693, 0.20000211, 0.20002373, 0.19998906],\n",
       "       [0.19999777, 0.19998389, 0.20000267, 0.20002917, 0.1999865 ],\n",
       "       [0.19999803, 0.19998588, 0.20000231, 0.2000256 , 0.19998818],\n",
       "       [0.19999814, 0.1999867 , 0.20000216, 0.20002413, 0.19998887],\n",
       "       [0.19999645, 0.19997373, 0.20000463, 0.20004734, 0.19997786],\n",
       "       [0.19999785, 0.19998453, 0.20000256, 0.20002804, 0.19998703],\n",
       "       [0.1999975 , 0.19998184, 0.20000306, 0.20003286, 0.19998475],\n",
       "       [0.19999705, 0.19997839, 0.20000372, 0.20003901, 0.19998183],\n",
       "       [0.19999785, 0.19998452, 0.20000256, 0.20002804, 0.19998703],\n",
       "       [0.19999741, 0.19998115, 0.20000319, 0.20003408, 0.19998417],\n",
       "       [0.1999981 , 0.19998642, 0.20000221, 0.20002465, 0.19998863],\n",
       "       [0.19999823, 0.19998737, 0.20000204, 0.20002293, 0.19998943],\n",
       "       [0.19999751, 0.19998188, 0.20000305, 0.20003278, 0.19998479],\n",
       "       [0.19999763, 0.19998282, 0.20000287, 0.20003109, 0.19998559],\n",
       "       [0.19999827, 0.19998767, 0.20000198, 0.20002239, 0.19998969],\n",
       "       [0.19999648, 0.19997396, 0.20000458, 0.20004691, 0.19997806],\n",
       "       [0.19999828, 0.19998773, 0.20000197, 0.20002228, 0.19998974],\n",
       "       [0.19999749, 0.19998179, 0.20000307, 0.20003293, 0.19998471],\n",
       "       [0.19999762, 0.19998275, 0.20000289, 0.20003121, 0.19998553],\n",
       "       [0.19999809, 0.19998632, 0.20000223, 0.20002482, 0.19998855],\n",
       "       [0.19999764, 0.19998288, 0.20000286, 0.20003099, 0.19998564],\n",
       "       [0.19999795, 0.1999853 , 0.20000241, 0.20002665, 0.19998768],\n",
       "       [0.19999831, 0.19998801, 0.20000192, 0.20002179, 0.19998997],\n",
       "       [0.19999805, 0.19998599, 0.20000229, 0.2000254 , 0.19998827],\n",
       "       [0.19999756, 0.1999823 , 0.20000297, 0.20003203, 0.19998514],\n",
       "       [0.19999694, 0.19997751, 0.20000389, 0.20004059, 0.19998108],\n",
       "       [0.19999726, 0.19998   , 0.20000341, 0.20003613, 0.1999832 ],\n",
       "       [0.19999785, 0.19998454, 0.20000255, 0.20002801, 0.19998704],\n",
       "       [0.19999574, 0.19996819, 0.20000574, 0.20005719, 0.19997314],\n",
       "       [0.19999781, 0.19998419, 0.20000262, 0.20002864, 0.19998674],\n",
       "       [0.19999762, 0.19998277, 0.20000288, 0.20003119, 0.19998554],\n",
       "       [0.19999828, 0.19998772, 0.20000197, 0.2000223 , 0.19998973],\n",
       "       [0.19999795, 0.19998526, 0.20000242, 0.20002672, 0.19998765],\n",
       "       [0.19999814, 0.19998667, 0.20000216, 0.20002419, 0.19998884],\n",
       "       [0.19999814, 0.19998673, 0.20000215, 0.20002409, 0.19998889],\n",
       "       [0.19999733, 0.19998051, 0.20000331, 0.20003522, 0.19998363],\n",
       "       [0.19999804, 0.19998592, 0.2000023 , 0.20002553, 0.19998821],\n",
       "       [0.19999834, 0.19998821, 0.20000188, 0.20002143, 0.19999014],\n",
       "       [0.19999726, 0.19998002, 0.2000034 , 0.2000361 , 0.19998321],\n",
       "       [0.19999795, 0.19998524, 0.20000242, 0.20002675, 0.19998763],\n",
       "       [0.19999838, 0.19998854, 0.20000183, 0.20002084, 0.19999042],\n",
       "       [0.19999771, 0.19998342, 0.20000276, 0.20003003, 0.19998609],\n",
       "       [0.19999737, 0.19998081, 0.20000325, 0.20003468, 0.19998389],\n",
       "       [0.19999817, 0.1999869 , 0.20000212, 0.20002377, 0.19998904],\n",
       "       [0.19999837, 0.19998841, 0.20000185, 0.20002106, 0.19999031],\n",
       "       [0.19999749, 0.19998174, 0.20000308, 0.20003302, 0.19998467],\n",
       "       [0.19999741, 0.19998114, 0.20000319, 0.2000341 , 0.19998416],\n",
       "       [0.19999758, 0.19998243, 0.20000295, 0.20003179, 0.19998526],\n",
       "       [0.19999802, 0.1999858 , 0.20000232, 0.20002575, 0.19998811],\n",
       "       [0.19999768, 0.19998322, 0.2000028 , 0.20003037, 0.19998593],\n",
       "       [0.1999978 , 0.19998414, 0.20000263, 0.20002874, 0.1999867 ],\n",
       "       [0.19999672, 0.19997581, 0.20000422, 0.20004362, 0.19997963],\n",
       "       [0.19999814, 0.19998669, 0.20000216, 0.20002415, 0.19998886],\n",
       "       [0.1999985 , 0.19998938, 0.20000168, 0.20001931, 0.19999113],\n",
       "       [0.19999846, 0.19998913, 0.20000172, 0.20001978, 0.19999091],\n",
       "       [0.19999735, 0.19998069, 0.20000328, 0.2000349 , 0.19998378],\n",
       "       [0.19999848, 0.19998921, 0.20000171, 0.20001962, 0.19999099],\n",
       "       [0.19999786, 0.19998455, 0.20000255, 0.20002799, 0.19998705],\n",
       "       [0.19999816, 0.19998683, 0.20000213, 0.2000239 , 0.19998898],\n",
       "       [0.19999765, 0.19998295, 0.20000285, 0.20003086, 0.19998569],\n",
       "       [0.19999776, 0.19998384, 0.20000268, 0.20002927, 0.19998645],\n",
       "       [0.19999813, 0.19998665, 0.20000217, 0.20002423, 0.19998882],\n",
       "       [0.19999697, 0.19997775, 0.20000384, 0.20004015, 0.19998129],\n",
       "       [0.1999982 , 0.19998716, 0.20000207, 0.20002331, 0.19998926],\n",
       "       [0.19999826, 0.19998758, 0.200002  , 0.20002256, 0.19998961],\n",
       "       [0.19999847, 0.19998921, 0.20000171, 0.20001963, 0.19999098],\n",
       "       [0.19999796, 0.19998531, 0.20000241, 0.20002663, 0.19998769],\n",
       "       [0.19999714, 0.19997909, 0.20000358, 0.20003777, 0.19998242],\n",
       "       [0.19999748, 0.19998165, 0.20000309, 0.20003319, 0.19998459],\n",
       "       [0.19999799, 0.19998554, 0.20000237, 0.20002622, 0.19998789],\n",
       "       [0.19999828, 0.19998776, 0.20000196, 0.20002223, 0.19998976],\n",
       "       [0.19999786, 0.19998458, 0.20000255, 0.20002795, 0.19998707],\n",
       "       [0.19999827, 0.19998768, 0.20000198, 0.20002237, 0.1999897 ],\n",
       "       [0.19999794, 0.19998518, 0.20000243, 0.20002687, 0.19998758],\n",
       "       [0.19999744, 0.19998141, 0.20000314, 0.20003361, 0.19998439],\n",
       "       [0.19999717, 0.19997932, 0.20000354, 0.20003735, 0.19998262],\n",
       "       [0.19999786, 0.1999846 , 0.20000254, 0.20002791, 0.19998709],\n",
       "       [0.1999983 , 0.1999879 , 0.20000194, 0.20002199, 0.19998988],\n",
       "       [0.19999807, 0.19998617, 0.20000225, 0.20002509, 0.19998842],\n",
       "       [0.19999807, 0.19998616, 0.20000226, 0.20002511, 0.19998841],\n",
       "       [0.19999832, 0.19998808, 0.20000191, 0.20002165, 0.19999003],\n",
       "       [0.19999822, 0.19998729, 0.20000205, 0.20002308, 0.19998936],\n",
       "       [0.19999737, 0.19998083, 0.20000325, 0.20003465, 0.1999839 ],\n",
       "       [0.19999708, 0.19997858, 0.20000368, 0.20003868, 0.19998199],\n",
       "       [0.19999757, 0.19998236, 0.20000296, 0.20003191, 0.1999852 ],\n",
       "       [0.19999803, 0.19998584, 0.20000231, 0.20002568, 0.19998814],\n",
       "       [0.19999801, 0.19998571, 0.20000234, 0.20002592, 0.19998803],\n",
       "       [0.19999726, 0.19998002, 0.2000034 , 0.2000361 , 0.19998321],\n",
       "       [0.19999743, 0.19998127, 0.20000317, 0.20003387, 0.19998427],\n",
       "       [0.19999806, 0.19998611, 0.20000226, 0.20002519, 0.19998837],\n",
       "       [0.19999764, 0.19998293, 0.20000285, 0.20003089, 0.19998568],\n",
       "       [0.1999982 , 0.19998719, 0.20000207, 0.20002326, 0.19998928],\n",
       "       [0.19999769, 0.1999833 , 0.20000278, 0.20003023, 0.19998599],\n",
       "       [0.19999855, 0.19998978, 0.20000161, 0.20001861, 0.19999146],\n",
       "       [0.19999807, 0.19998616, 0.20000225, 0.2000251 , 0.19998841],\n",
       "       [0.19999782, 0.19998426, 0.2000026 , 0.20002852, 0.1999868 ],\n",
       "       [0.19999743, 0.19998127, 0.20000317, 0.20003387, 0.19998427],\n",
       "       [0.19999799, 0.19998555, 0.20000237, 0.2000262 , 0.1999879 ],\n",
       "       [0.19999763, 0.19998284, 0.20000287, 0.20003105, 0.1999856 ],\n",
       "       [0.19999786, 0.19998457, 0.20000255, 0.20002796, 0.19998706],\n",
       "       [0.19999765, 0.199983  , 0.20000284, 0.20003076, 0.19998574],\n",
       "       [0.19999814, 0.19998673, 0.20000215, 0.20002409, 0.19998889],\n",
       "       [0.19999844, 0.19998899, 0.20000175, 0.20002002, 0.1999908 ],\n",
       "       [0.19999717, 0.1999793 , 0.20000354, 0.20003739, 0.1999826 ],\n",
       "       [0.19999807, 0.19998616, 0.20000225, 0.20002511, 0.19998841],\n",
       "       [0.19999822, 0.19998731, 0.20000205, 0.20002305, 0.19998938],\n",
       "       [0.199998  , 0.19998563, 0.20000235, 0.20002606, 0.19998796],\n",
       "       [0.19999815, 0.19998676, 0.20000214, 0.20002402, 0.19998892],\n",
       "       [0.19999824, 0.19998743, 0.20000202, 0.20002282, 0.19998949],\n",
       "       [0.19999802, 0.19998576, 0.20000233, 0.20002581, 0.19998808],\n",
       "       [0.19999785, 0.19998454, 0.20000255, 0.20002801, 0.19998704],\n",
       "       [0.19999769, 0.19998331, 0.20000278, 0.20003022, 0.199986  ],\n",
       "       [0.19999726, 0.19998002, 0.2000034 , 0.20003611, 0.19998321],\n",
       "       [0.1999978 , 0.19998412, 0.20000263, 0.20002876, 0.19998669],\n",
       "       [0.19999853, 0.1999896 , 0.20000164, 0.20001893, 0.19999131],\n",
       "       [0.1999979 , 0.1999849 , 0.20000249, 0.20002736, 0.19998735],\n",
       "       [0.19999776, 0.19998379, 0.20000269, 0.20002936, 0.1999864 ],\n",
       "       [0.19999807, 0.1999862 , 0.20000225, 0.20002503, 0.19998845],\n",
       "       [0.19999673, 0.19997593, 0.20000419, 0.2000434 , 0.19997974],\n",
       "       [0.19999795, 0.19998524, 0.20000242, 0.20002675, 0.19998764],\n",
       "       [0.19999718, 0.19997937, 0.20000353, 0.20003726, 0.19998266],\n",
       "       [0.19999823, 0.19998739, 0.20000203, 0.20002289, 0.19998945],\n",
       "       [0.199998  , 0.19998567, 0.20000235, 0.20002599, 0.19998799],\n",
       "       [0.19999813, 0.19998664, 0.20000217, 0.20002424, 0.19998882],\n",
       "       [0.19999764, 0.1999829 , 0.20000286, 0.20003095, 0.19998566],\n",
       "       [0.19999834, 0.19998821, 0.20000188, 0.20002143, 0.19999014],\n",
       "       [0.1999982 , 0.19998717, 0.20000207, 0.2000233 , 0.19998926],\n",
       "       [0.19999734, 0.19998063, 0.20000329, 0.200035  , 0.19998373],\n",
       "       [0.19999724, 0.19997986, 0.20000343, 0.20003639, 0.19998308],\n",
       "       [0.19999803, 0.1999859 , 0.2000023 , 0.20002558, 0.19998819],\n",
       "       [0.19999823, 0.19998736, 0.20000204, 0.20002294, 0.19998943],\n",
       "       [0.19999836, 0.19998833, 0.20000186, 0.2000212 , 0.19999025],\n",
       "       [0.19999816, 0.19998684, 0.20000213, 0.20002388, 0.19998899],\n",
       "       [0.19999743, 0.19998127, 0.20000317, 0.20003387, 0.19998427],\n",
       "       [0.19999742, 0.19998124, 0.20000317, 0.20003393, 0.19998424],\n",
       "       [0.19999786, 0.19998459, 0.20000254, 0.20002791, 0.19998709],\n",
       "       [0.19999845, 0.19998904, 0.20000174, 0.20001992, 0.19999084],\n",
       "       [0.19999595, 0.19996979, 0.20000542, 0.20005435, 0.1999745 ],\n",
       "       [0.19999756, 0.19998228, 0.20000297, 0.20003206, 0.19998513],\n",
       "       [0.199998  , 0.19998562, 0.20000235, 0.20002607, 0.19998796],\n",
       "       [0.19999765, 0.19998299, 0.20000284, 0.20003079, 0.19998573],\n",
       "       [0.19999779, 0.19998408, 0.20000264, 0.20002883, 0.19998666],\n",
       "       [0.19999672, 0.19997583, 0.20000421, 0.20004358, 0.19997965],\n",
       "       [0.19999809, 0.19998636, 0.20000222, 0.20002475, 0.19998858],\n",
       "       [0.19999787, 0.19998467, 0.20000253, 0.20002778, 0.19998715],\n",
       "       [0.19999627, 0.1999723 , 0.20000491, 0.20004987, 0.19997665],\n",
       "       [0.19999741, 0.19998116, 0.20000319, 0.20003406, 0.19998418],\n",
       "       [0.19999824, 0.19998745, 0.20000202, 0.20002279, 0.1999895 ],\n",
       "       [0.19999771, 0.19998344, 0.20000276, 0.20002999, 0.19998611],\n",
       "       [0.19999717, 0.19997932, 0.20000354, 0.20003735, 0.19998262],\n",
       "       [0.19999776, 0.19998381, 0.20000269, 0.20002931, 0.19998643],\n",
       "       [0.19999611, 0.19997105, 0.20000516, 0.2000521 , 0.19997558],\n",
       "       [0.1999979 , 0.19998488, 0.20000249, 0.20002741, 0.19998733],\n",
       "       [0.19999806, 0.1999861 , 0.20000227, 0.20002522, 0.19998836],\n",
       "       [0.19999792, 0.19998503, 0.20000246, 0.20002714, 0.19998745],\n",
       "       [0.19999819, 0.19998709, 0.20000209, 0.20002343, 0.1999892 ],\n",
       "       [0.19999756, 0.19998231, 0.20000297, 0.200032  , 0.19998516],\n",
       "       [0.19999715, 0.19997918, 0.20000356, 0.2000376 , 0.1999825 ],\n",
       "       [0.19999726, 0.19998   , 0.20000341, 0.20003614, 0.1999832 ],\n",
       "       [0.19999834, 0.19998823, 0.20000188, 0.20002138, 0.19999016],\n",
       "       [0.19999786, 0.19998459, 0.20000254, 0.20002791, 0.19998709]])"
      ]
     },
     "execution_count": 12,
     "metadata": {},
     "output_type": "execute_result"
    }
   ],
   "source": [
    "y_pred = model.forward_pass(X_train.reshape(-1, 20**2))\n",
    "y_pred"
   ]
  },
  {
   "cell_type": "code",
   "execution_count": 13,
   "metadata": {},
   "outputs": [],
   "source": [
    "dL = f.d_loss['cross_entropy'](y_train, y_pred)"
   ]
  },
  {
   "cell_type": "code",
   "execution_count": 14,
   "metadata": {},
   "outputs": [
    {
     "data": {
      "text/plain": [
       "array([[-0.00051586, -0.00049754, -0.00049868, -0.00050541, -0.00052483],\n",
       "       [-0.00051586, -0.00049754, -0.00049868, -0.00050541, -0.00052483],\n",
       "       [-0.00051586, -0.00049754, -0.00049868, -0.00050541, -0.00052483],\n",
       "       [-0.00051586, -0.00049754, -0.00049868, -0.00050541, -0.00052483],\n",
       "       [-0.00051586, -0.00049754, -0.00049868, -0.00050541, -0.00052483],\n",
       "       [-0.00051586, -0.00049754, -0.00049868, -0.00050541, -0.00052483],\n",
       "       [-0.00051586, -0.00049754, -0.00049868, -0.00050541, -0.00052483],\n",
       "       [-0.00051586, -0.00049754, -0.00049868, -0.00050541, -0.00052483],\n",
       "       [-0.00051586, -0.00049754, -0.00049868, -0.00050541, -0.00052483],\n",
       "       [-0.00051586, -0.00049754, -0.00049868, -0.00050541, -0.00052483],\n",
       "       [-0.00051586, -0.00049754, -0.00049868, -0.00050541, -0.00052483],\n",
       "       [-0.00051586, -0.00049754, -0.00049868, -0.00050541, -0.00052483],\n",
       "       [-0.00051586, -0.00049754, -0.00049868, -0.00050541, -0.00052483],\n",
       "       [-0.00051586, -0.00049754, -0.00049868, -0.00050541, -0.00052483],\n",
       "       [-0.00051586, -0.00049754, -0.00049868, -0.00050541, -0.00052483],\n",
       "       [-0.00051586, -0.00049754, -0.00049868, -0.00050541, -0.00052483],\n",
       "       [-0.00051586, -0.00049754, -0.00049868, -0.00050541, -0.00052483],\n",
       "       [-0.00051586, -0.00049754, -0.00049868, -0.00050541, -0.00052483],\n",
       "       [-0.00051586, -0.00049754, -0.00049868, -0.00050541, -0.00052483],\n",
       "       [-0.00051586, -0.00049754, -0.00049868, -0.00050541, -0.00052483]])"
      ]
     },
     "execution_count": 14,
     "metadata": {},
     "output_type": "execute_result"
    }
   ],
   "source": [
    "model.layers[1].dw"
   ]
  },
  {
   "cell_type": "code",
   "execution_count": 15,
   "metadata": {},
   "outputs": [],
   "source": [
    "# model.layers[1].W -= model.layers[1].dw"
   ]
  },
  {
   "cell_type": "code",
   "execution_count": 16,
   "metadata": {},
   "outputs": [
    {
     "data": {
      "text/plain": [
       "array([[-0.38475526, -0.39126485, -0.38332043, -0.37310373, -0.38941306],\n",
       "       [-0.38475526, -0.39126485, -0.38332043, -0.37310373, -0.38941306],\n",
       "       [-0.38475526, -0.39126485, -0.38332043, -0.37310373, -0.38941306],\n",
       "       [-0.38475526, -0.39126485, -0.38332043, -0.37310373, -0.38941306],\n",
       "       [-0.38475526, -0.39126485, -0.38332043, -0.37310373, -0.38941306],\n",
       "       [-0.38475526, -0.39126485, -0.38332043, -0.37310373, -0.38941306],\n",
       "       [-0.38475526, -0.39126485, -0.38332043, -0.37310373, -0.38941306],\n",
       "       [-0.38475526, -0.39126485, -0.38332043, -0.37310373, -0.38941306],\n",
       "       [-0.38475526, -0.39126485, -0.38332043, -0.37310373, -0.38941306],\n",
       "       [-0.38475526, -0.39126485, -0.38332043, -0.37310373, -0.38941306],\n",
       "       [-0.38475526, -0.39126485, -0.38332043, -0.37310373, -0.38941306],\n",
       "       [-0.38475526, -0.39126485, -0.38332043, -0.37310373, -0.38941306],\n",
       "       [-0.38475526, -0.39126485, -0.38332043, -0.37310373, -0.38941306],\n",
       "       [-0.38475526, -0.39126485, -0.38332043, -0.37310373, -0.38941306],\n",
       "       [-0.38475526, -0.39126485, -0.38332043, -0.37310373, -0.38941306],\n",
       "       [-0.38475526, -0.39126485, -0.38332043, -0.37310373, -0.38941306],\n",
       "       [-0.38475526, -0.39126485, -0.38332043, -0.37310373, -0.38941306],\n",
       "       [-0.38475526, -0.39126485, -0.38332043, -0.37310373, -0.38941306],\n",
       "       [-0.38475526, -0.39126485, -0.38332043, -0.37310373, -0.38941306],\n",
       "       [-0.38475526, -0.39126485, -0.38332043, -0.37310373, -0.38941306]])"
      ]
     },
     "execution_count": 16,
     "metadata": {},
     "output_type": "execute_result"
    }
   ],
   "source": [
    "model.layers[1].W"
   ]
  },
  {
   "cell_type": "code",
   "execution_count": 17,
   "metadata": {},
   "outputs": [
    {
     "data": {
      "text/plain": [
       "<function functions.sigmoid(x)>"
      ]
     },
     "execution_count": 17,
     "metadata": {},
     "output_type": "execute_result"
    }
   ],
   "source": [
    "f.sigmoid"
   ]
  },
  {
   "cell_type": "code",
   "execution_count": 18,
   "metadata": {},
   "outputs": [
    {
     "data": {
      "text/plain": [
       "(10, 5)"
      ]
     },
     "execution_count": 18,
     "metadata": {},
     "output_type": "execute_result"
    }
   ],
   "source": [
    "y_val.shape"
   ]
  },
  {
   "cell_type": "code",
   "execution_count": 19,
   "metadata": {},
   "outputs": [
    {
     "name": "stdout",
     "output_type": "stream",
     "text": [
      "|----------------------------------------|\n",
      "| GLOBAL   |                             |\n",
      "|----------------------------------------|\n",
      "| loss     | cross_entropy               |\n",
      "| lrate    | 1                           |\n",
      "| wreg     | 0.1                         |\n",
      "| wrt      | L2                          |\n",
      "|----------------------------------------|\n",
      "| LAYERS   |                             |\n",
      "|----------------------------------------|\n",
      "| input    | 20                          |\n",
      "| layer 1  |                             |\n",
      "|          | size: 20                    |\n",
      "|          | act: sigmoid                |\n",
      "|          | lrate: 1                    |\n",
      "| layer 2  |                             |\n",
      "|          | size: 5                     |\n",
      "|          | act: sigmoid                |\n",
      "|          | br: (0 1)                   |\n",
      "| type     | softmax                     |\n",
      "|----------------------------------------|\n"
     ]
    }
   ],
   "source": [
    "model.print_config()"
   ]
  },
  {
   "cell_type": "code",
   "execution_count": 20,
   "metadata": {},
   "outputs": [
    {
     "data": {
      "text/plain": [
       "<matplotlib.legend.Legend at 0x120ffba60>"
      ]
     },
     "execution_count": 20,
     "metadata": {},
     "output_type": "execute_result"
    },
    {
     "data": {
      "image/png": "[encoded data removed]",
      "text/plain": [
       "<Figure size 640x480 with 1 Axes>"
      ]
     },
     "metadata": {},
     "output_type": "display_data"
    }
   ],
   "source": [
    "from matplotlib import pyplot as plt\n",
    "\n",
    "x = np.arange(- 10, 10, .1)\n",
    "s = f.sigmoid(x)\n",
    "d_s = f.d_sigmoid(s)\n",
    "\n",
    "plt.plot(x, s, label='sigmoid')\n",
    "plt.plot(x, d_s, label='d_sigmoid')\n",
    "plt.legend()"
   ]
  },
  {
   "cell_type": "code",
   "execution_count": null,
   "metadata": {},
   "outputs": [],
   "source": []
  }
 ],
 "metadata": {
  "kernelspec": {
   "display_name": "aitask3",
   "language": "python",
   "name": "python3"
  },
  "language_info": {
   "codemirror_mode": {
    "name": "ipython",
    "version": 3
   },
   "file_extension": ".py",
   "mimetype": "text/x-python",
   "name": "python",
   "nbconvert_exporter": "python",
   "pygments_lexer": "ipython3",
   "version": "3.10.11"
  }
 },
 "nbformat": 4,
 "nbformat_minor": 2
}
