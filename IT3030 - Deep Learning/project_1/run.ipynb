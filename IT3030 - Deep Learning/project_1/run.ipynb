{
 "cells": [
  {
   "cell_type": "code",
   "execution_count": 1,
   "metadata": {},
   "outputs": [],
   "source": [
    "import numpy as np"
   ]
  },
  {
   "cell_type": "code",
   "execution_count": 2,
   "metadata": {},
   "outputs": [],
   "source": [
    "import doodler_forall as dd\n",
    "import utils as u\n",
    "import model as m"
   ]
  },
  {
   "cell_type": "code",
   "execution_count": 3,
   "metadata": {},
   "outputs": [],
   "source": [
    "def init_weights():\n",
    "    return"
   ]
  },
  {
   "cell_type": "code",
   "execution_count": 4,
   "metadata": {},
   "outputs": [],
   "source": [
    "def forward():\n",
    "    pass"
   ]
  },
  {
   "cell_type": "code",
   "execution_count": 5,
   "metadata": {},
   "outputs": [],
   "source": [
    "config = u.read_config('configs/config.yaml')"
   ]
  },
  {
   "cell_type": "code",
   "execution_count": 6,
   "metadata": {},
   "outputs": [],
   "source": [
    "global_config, layers_config = u.adapt_config(config)"
   ]
  },
  {
   "cell_type": "code",
   "execution_count": 7,
   "metadata": {},
   "outputs": [
    {
     "data": {
      "text/plain": [
       "{'loss': 'cross_entropy', 'lrate': 0.1, 'wreg': 0.001, 'wrt': 'L2'}"
      ]
     },
     "execution_count": 7,
     "metadata": {},
     "output_type": "execute_result"
    }
   ],
   "source": [
    "global_config.__dict__"
   ]
  },
  {
   "cell_type": "code",
   "execution_count": 8,
   "metadata": {},
   "outputs": [
    {
     "data": {
      "text/plain": [
       "{'input': 20,\n",
       " 'hidden_layers': [{'size': 100,\n",
       "   'act': 'relu',\n",
       "   'wr': '(-0.1 0.1)',\n",
       "   'lrate': 0.01},\n",
       "  {'size': 5, 'act': 'relu', 'wr': 'glorot', 'br': '(0 1)'}],\n",
       " 'type': 'softmax'}"
      ]
     },
     "execution_count": 8,
     "metadata": {},
     "output_type": "execute_result"
    }
   ],
   "source": [
    "layers_config.__dict__"
   ]
  },
  {
   "cell_type": "code",
   "execution_count": 9,
   "metadata": {},
   "outputs": [
    {
     "name": "stdout",
     "output_type": "stream",
     "text": [
      "|----------------------------------------|\n",
      "| GLOBAL   |                             |\n",
      "|----------------------------------------|\n",
      "| loss     | cross_entropy               |\n",
      "| lrate    | 0.1                         |\n",
      "| wreg     | 0.001                       |\n",
      "| wrt      | L2                          |\n",
      "|----------------------------------------|\n",
      "| LAYERS   |                             |\n",
      "|----------------------------------------|\n",
      "| input    | 20                          |\n",
      "| layer 1  |                             |\n",
      "|          | size: 100                   |\n",
      "|          | act: relu                   |\n",
      "|          | wr: (-0.1 0.1)              |\n",
      "|          | lrate: 0.01                 |\n",
      "| layer 2  |                             |\n",
      "|          | size: 5                     |\n",
      "|          | act: relu                   |\n",
      "|          | wr: glorot                  |\n",
      "|          | br: (0 1)                   |\n",
      "| type     | softmax                     |\n",
      "|----------------------------------------|\n"
     ]
    }
   ],
   "source": [
    "model = m.MLP(global_config, layers_config)"
   ]
  },
  {
   "cell_type": "code",
   "execution_count": 10,
   "metadata": {},
   "outputs": [
    {
     "data": {
      "text/plain": [
       "{'loss': 'cross_entropy',\n",
       " 'lrate': 0.1,\n",
       " 'wreg': 0.001,\n",
       " 'wrt': 'L2',\n",
       " 'input': 20,\n",
       " 'type': 'softmax',\n",
       " 'layers': [{'size': 100, 'act': 'relu', 'wr': '(-0.1 0.1)', 'lrate': 0.01},\n",
       "  {'size': 5, 'act': 'relu', 'wr': 'glorot', 'br': '(0 1)'}],\n",
       " 'global_config': <utils.GlobalConfig at 0x10fcfc0d0>,\n",
       " 'layers_config': <utils.LayersConfig at 0x10fcfc610>}"
      ]
     },
     "execution_count": 10,
     "metadata": {},
     "output_type": "execute_result"
    }
   ],
   "source": [
    "model.__dict__"
   ]
  },
  {
   "cell_type": "code",
   "execution_count": 11,
   "metadata": {},
   "outputs": [
    {
     "name": "stdout",
     "output_type": "stream",
     "text": [
      "|----------------------------------------|\n",
      "| GLOBAL   |                             |\n",
      "|----------------------------------------|\n",
      "| loss     | cross_entropy               |\n",
      "| lrate    | 0.1                         |\n",
      "| wreg     | 0.001                       |\n",
      "| wrt      | L2                          |\n",
      "|----------------------------------------|\n",
      "| LAYERS   |                             |\n",
      "|----------------------------------------|\n",
      "| input    | 20                          |\n",
      "| layer 1  |                             |\n",
      "|          | size: 100                   |\n",
      "|          | act: relu                   |\n",
      "|          | wr: (-0.1 0.1)              |\n",
      "|          | lrate: 0.01                 |\n",
      "| layer 2  |                             |\n",
      "|          | size: 5                     |\n",
      "|          | act: relu                   |\n",
      "|          | wr: glorot                  |\n",
      "|          | br: (0 1)                   |\n",
      "| type     | softmax                     |\n",
      "|----------------------------------------|\n"
     ]
    }
   ],
   "source": [
    "model.print_config()"
   ]
  },
  {
   "cell_type": "code",
   "execution_count": null,
   "metadata": {},
   "outputs": [],
   "source": []
  }
 ],
 "metadata": {
  "kernelspec": {
   "display_name": "aitask3",
   "language": "python",
   "name": "python3"
  },
  "language_info": {
   "codemirror_mode": {
    "name": "ipython",
    "version": 3
   },
   "file_extension": ".py",
   "mimetype": "text/x-python",
   "name": "python",
   "nbconvert_exporter": "python",
   "pygments_lexer": "ipython3",
   "version": "3.10.11"
  }
 },
 "nbformat": 4,
 "nbformat_minor": 2
}
