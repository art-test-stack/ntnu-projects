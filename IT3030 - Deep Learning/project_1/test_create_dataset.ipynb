{
 "cells": [
  {
   "cell_type": "code",
   "execution_count": 41,
   "metadata": {},
   "outputs": [],
   "source": [
    "import doodler_forall as dd\n",
    "import numpy as np\n",
    "import utils as u\n",
    "from pathlib import Path\n",
    "from datetime import datetime\n",
    "\n",
    "import matplotlib.pyplot as plt"
   ]
  },
  {
   "cell_type": "code",
   "execution_count": 42,
   "metadata": {},
   "outputs": [],
   "source": [
    "_doodle_image_types = dd._doodle_image_types_"
   ]
  },
  {
   "cell_type": "code",
   "execution_count": 43,
   "metadata": {},
   "outputs": [],
   "source": [
    "def create_empty_subsets(path):\n",
    "    train_set = path / 'train_set'\n",
    "    test_set = path / 'test_set'\n",
    "    val_set = path / 'val_set'\n",
    "\n",
    "    train_set.mkdir()\n",
    "    test_set.mkdir()\n",
    "    val_set.mkdir()"
   ]
  },
  {
   "cell_type": "code",
   "execution_count": 44,
   "metadata": {},
   "outputs": [],
   "source": [
    "def generate_dataset_folder_name(size, nb_classes, n):\n",
    "    address = Path('datasets')\n",
    "    name_folder = f\"dataset_{str(datetime.now().date())}_{size}_{nb_classes}_{n}\"\n",
    "\n",
    "    path = address / name_folder\n",
    "    if not path.exists():\n",
    "        path.mkdir()\n",
    "        # create_empty_subsets(path)\n",
    "        return name_folder\n",
    "    \n",
    "    k = 1\n",
    "    folder = name_folder + f\"_v{k}\"\n",
    "    path = address / folder\n",
    "    while path.exists():\n",
    "        k += 1\n",
    "        folder = name_folder + f\"_v{k}\"\n",
    "        path = address / folder\n",
    "    \n",
    "    path.mkdir()\n",
    "\n",
    "    # create_empty_subsets(path)\n",
    "    \n",
    "    return folder"
   ]
  },
  {
   "cell_type": "code",
   "execution_count": 45,
   "metadata": {},
   "outputs": [],
   "source": [
    "def split_dataset(dataset, proportions = (70, 20, 10)):\n",
    "    assert sum(proportions) == 100, \"Proportions do not make 100%\"\n",
    "\n",
    "    train_size = int(proportions[0] * len(dataset[0]) / 100)\n",
    "    test_size = int(proportions[1] * len(dataset[0]) / 100)\n",
    "\n",
    "    inputs, targets, labels, _, _ = dataset\n",
    "    # dataset = (inputs.astype(np.float32), targets, target_labels,(rows,cols),flat)\n",
    "    X_train = inputs[:train_size]\n",
    "    Y_train = targets[:train_size]\n",
    "    labels_train = labels[:train_size]\n",
    "\n",
    "    X_test = inputs[train_size:train_size + test_size]\n",
    "    Y_test = targets[train_size:train_size + test_size]\n",
    "    labels_test = labels[train_size:train_size + test_size]\n",
    "\n",
    "    X_val = inputs[train_size + test_size:]\n",
    "    Y_val = targets[train_size + test_size:]\n",
    "    labels_val = labels[train_size + test_size:]\n",
    "    \n",
    "    return (X_train, Y_train, labels_train), (X_test, Y_test, labels_test), (X_val, Y_val, labels_val)"
   ]
  },
  {
   "cell_type": "code",
   "execution_count": 46,
   "metadata": {},
   "outputs": [],
   "source": [
    "def save_data_in_folder(address, data_subset, X, Y, labels):\n",
    "    \n",
    "    np.save(address / f\"X_{data_subset}.npy\", X)\n",
    "    np.save(address / f\"Y_{data_subset}.npy\", Y)\n",
    "    np.save(address / f\"labels_{data_subset}.npy\", labels)"
   ]
  },
  {
   "cell_type": "code",
   "execution_count": 47,
   "metadata": {},
   "outputs": [],
   "source": [
    "def create_dataset(proportions = (70, 20, 10), \n",
    "                   dataset_size = 100, image_size = 30, noise = .1, relative_sizes = [0.15,0.3], \n",
    "                #    size_range, \n",
    "                   flattening = False, centered = True, image_types = _doodle_image_types):\n",
    "    dataset_name = generate_dataset_folder_name(dataset_size, len(image_types), image_size)\n",
    "    \n",
    "    dataset = dd.gen_doodle_cases(count=dataset_size,rows=image_size,cols=image_size,imt=image_types, hr=relative_sizes,wr=relative_sizes,\n",
    "                    nbias=noise,cent=centered, show=False,\n",
    "                    one_hots=True,auto=False, flat=flattening,bkg=0, d4=False, fog=1, fillfrac=None, fc=(1,1),\n",
    "                    gap=1,multi=False,mono=True, dbias=0.7,poly=(4,5,6))\n",
    "    \n",
    "    (X_train, Y_train, labels_train), (X_test, Y_test, labels_test), (X_val, Y_val, labels_val) = split_dataset(dataset, proportions)\n",
    "\n",
    "    save_data_in_folder(Path('datasets') / dataset_name, 'train', X_train, Y_train, labels_train)\n",
    "    save_data_in_folder(Path('datasets') / dataset_name, 'test', X_test, Y_test, labels_test)\n",
    "    save_data_in_folder(Path('datasets') / dataset_name, 'val', X_val, Y_val, labels_val)\n",
    "    \n",
    "    return dataset_name"
   ]
  },
  {
   "cell_type": "code",
   "execution_count": 48,
   "metadata": {},
   "outputs": [],
   "source": [
    "def load_subsets(address, data_subset):\n",
    "\n",
    "    X = np.load(address / f\"X_{data_subset}.npy\")\n",
    "    Y = np.load(address / f\"Y_{data_subset}.npy\")\n",
    "    labels = np.load(address / f\"labels_{data_subset}.npy\")\n",
    "\n",
    "    return (X, Y, labels)"
   ]
  },
  {
   "cell_type": "code",
   "execution_count": 49,
   "metadata": {},
   "outputs": [],
   "source": [
    "def load_dataset(dataset_folder):\n",
    "    address = Path('datasets') / dataset_folder\n",
    "    \n",
    "    training_set = load_subsets(address, 'train')\n",
    "    testing_set = load_subsets(address, 'test')\n",
    "    val_set = load_subsets(address, 'val')\n",
    "\n",
    "    return training_set, testing_set, val_set"
   ]
  },
  {
   "cell_type": "code",
   "execution_count": 50,
   "metadata": {},
   "outputs": [],
   "source": [
    "dataset_name = u.create_dataset(dataset_size=1000)"
   ]
  },
  {
   "cell_type": "code",
   "execution_count": 51,
   "metadata": {},
   "outputs": [],
   "source": [
    "training_set, testing_set, val_set = u.load_dataset(dataset_name)"
   ]
  },
  {
   "cell_type": "code",
   "execution_count": 58,
   "metadata": {},
   "outputs": [],
   "source": [
    "def verify_distribution_in_dataset(dataset_name):\n",
    "    training_set, testing_set, val_set = u.load_dataset(dataset_name)\n",
    "    _, _, labels_train = training_set\n",
    "    _, _, labels_test = testing_set\n",
    "    _, _, labels_val = val_set\n",
    "\n",
    "    plt.hist(labels_train, bins=20)\n",
    "    plt.show()\n",
    "\n",
    "    plt.hist(labels_test, bins=20)\n",
    "    plt.show()\n",
    "\n",
    "    plt.hist(labels_val, bins=20)\n",
    "    plt.show()"
   ]
  },
  {
   "cell_type": "code",
   "execution_count": 59,
   "metadata": {},
   "outputs": [
    {
     "data": {
      "image/png": "[encoded data removed]",
      "text/plain": [
       "<Figure size 640x480 with 1 Axes>"
      ]
     },
     "metadata": {},
     "output_type": "display_data"
    },
    {
     "data": {
      "image/png": "[encoded data removed]",
      "text/plain": [
       "<Figure size 640x480 with 1 Axes>"
      ]
     },
     "metadata": {},
     "output_type": "display_data"
    },
    {
     "data": {
      "image/png": "[encoded data removed]",
      "text/plain": [
       "<Figure size 640x480 with 1 Axes>"
      ]
     },
     "metadata": {},
     "output_type": "display_data"
    }
   ],
   "source": [
    "verify_distribution_in_dataset(dataset_name)"
   ]
  },
  {
   "cell_type": "code",
   "execution_count": 54,
   "metadata": {},
   "outputs": [
    {
     "data": {
      "text/plain": [
       "numpy.ndarray"
      ]
     },
     "execution_count": 54,
     "metadata": {},
     "output_type": "execute_result"
    }
   ],
   "source": [
    "type(val_set[2])"
   ]
  },
  {
   "cell_type": "code",
   "execution_count": 55,
   "metadata": {},
   "outputs": [],
   "source": [
    "labels = np.concatenate((training_set[2], testing_set[2], val_set[2]))"
   ]
  },
  {
   "cell_type": "code",
   "execution_count": 56,
   "metadata": {},
   "outputs": [
    {
     "data": {
      "image/png": "[encoded data removed]",
      "text/plain": [
       "<Figure size 640x480 with 1 Axes>"
      ]
     },
     "metadata": {},
     "output_type": "display_data"
    }
   ],
   "source": [
    "plt.hist(labels, bins=20)\n",
    "plt.show()"
   ]
  }
 ],
 "metadata": {
  "kernelspec": {
   "display_name": "aitask3",
   "language": "python",
   "name": "python3"
  },
  "language_info": {
   "codemirror_mode": {
    "name": "ipython",
    "version": 3
   },
   "file_extension": ".py",
   "mimetype": "text/x-python",
   "name": "python",
   "nbconvert_exporter": "python",
   "pygments_lexer": "ipython3",
   "version": "3.10.11"
  }
 },
 "nbformat": 4,
 "nbformat_minor": 2
}
