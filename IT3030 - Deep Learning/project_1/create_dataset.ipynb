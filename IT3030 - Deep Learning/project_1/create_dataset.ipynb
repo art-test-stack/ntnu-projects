{
 "cells": [
  {
   "cell_type": "code",
   "execution_count": null,
   "metadata": {},
   "outputs": [],
   "source": [
    "import doodler_forall as dd\n",
    "import utils as u\n",
    "from pathlib import Path"
   ]
  },
  {
   "cell_type": "code",
   "execution_count": null,
   "metadata": {},
   "outputs": [],
   "source": [
    "def verify_distribution_in_dataset(dataset):\n",
    "    pass"
   ]
  },
  {
   "cell_type": "code",
   "execution_count": null,
   "metadata": {},
   "outputs": [],
   "source": [
    "def generate_dataset(dataset_size, image_size, nb_of_classes, noise, relative_sizes, size_range, flattening = False, centered = True):\n",
    "    dd.gen_doodle_cases(count=dataset_size,rows=image_size,cols=image_size,imt=None, hr=[0.15,0.3],wr=[0.15,0.3],\n",
    "                     nbias=0.0,cent=False, show=True,\n",
    "                     one_hots=True,auto=False, flat=False,bkg=0, d4=False, fog=1, fillfrac=None, fc=(1,5),\n",
    "                     gap=1,multi=False,mono=False, dbias=0.7,poly=(4,5,6))"
   ]
  },
  {
   "cell_type": "code",
   "execution_count": null,
   "metadata": {},
   "outputs": [],
   "source": [
    "dd.gen_standard_cases()"
   ]
  },
  {
   "cell_type": "code",
   "execution_count": null,
   "metadata": {},
   "outputs": [],
   "source": [
    "dd.gen_doodle_cases(count,rows=30,cols=30,imt=None, hr=[0.15,0.3],wr=[0.15,0.3],\n",
    "                     nbias=0.0,cent=False, show=True,\n",
    "                     one_hots=True,auto=False, flat=False,bkg=0, d4=False, fog=1, fillfrac=None, fc=(1,5),\n",
    "                     gap=1,multi=False,mono=False, dbias=0.7,poly=(4,5,6))"
   ]
  }
 ],
 "metadata": {
  "kernelspec": {
   "display_name": "aitask3",
   "language": "python",
   "name": "python3"
  },
  "language_info": {
   "codemirror_mode": {
    "name": "ipython",
    "version": 3
   },
   "file_extension": ".py",
   "mimetype": "text/x-python",
   "name": "python",
   "nbconvert_exporter": "python",
   "pygments_lexer": "ipython3",
   "version": "3.10.11"
  }
 },
 "nbformat": 4,
 "nbformat_minor": 2
}
