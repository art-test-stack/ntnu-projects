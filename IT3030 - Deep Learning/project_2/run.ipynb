{
 "cells": [
  {
   "cell_type": "code",
   "execution_count": 1,
   "metadata": {},
   "outputs": [],
   "source": [
    "import pandas as pd\n",
    "import numpy as np\n",
    "from matplotlib import pyplot as plt\n",
    "import torch\n",
    "import torch.optim as optim\n",
    "import scipy\n",
    "import seaborn as sns\n",
    "from datetime import datetime, timedelta\n",
    "\n",
    "from tqdm import tqdm\n",
    "\n",
    "from sklearn.preprocessing import StandardScaler, MinMaxScaler, PolynomialFeatures\n",
    "import preprocessing as pp\n",
    "\n",
    "from rnn import RNN\n",
    "from lstm import LSTM"
   ]
  },
  {
   "cell_type": "code",
   "execution_count": 2,
   "metadata": {},
   "outputs": [
    {
     "data": {
      "text/html": [
       "<div>\n",
       "<style scoped>\n",
       "    .dataframe tbody tr th:only-of-type {\n",
       "        vertical-align: middle;\n",
       "    }\n",
       "\n",
       "    .dataframe tbody tr th {\n",
       "        vertical-align: top;\n",
       "    }\n",
       "\n",
       "    .dataframe thead th {\n",
       "        text-align: right;\n",
       "    }\n",
       "</style>\n",
       "<table border=\"1\" class=\"dataframe\">\n",
       "  <thead>\n",
       "    <tr style=\"text-align: right;\">\n",
       "      <th></th>\n",
       "      <th>timestamp</th>\n",
       "      <th>NO1_consumption</th>\n",
       "      <th>NO1_temperature</th>\n",
       "      <th>NO2_consumption</th>\n",
       "      <th>NO2_temperature</th>\n",
       "      <th>NO3_consumption</th>\n",
       "      <th>NO3_temperature</th>\n",
       "      <th>NO4_consumption</th>\n",
       "      <th>NO4_temperature</th>\n",
       "      <th>NO5_consumption</th>\n",
       "      <th>NO5_temperature</th>\n",
       "    </tr>\n",
       "  </thead>\n",
       "  <tbody>\n",
       "    <tr>\n",
       "      <th>0</th>\n",
       "      <td>2017-05-01 00:00:00+00:00</td>\n",
       "      <td>3325.431995</td>\n",
       "      <td>2.1</td>\n",
       "      <td>3534.588000</td>\n",
       "      <td>5.0</td>\n",
       "      <td>2674.838000</td>\n",
       "      <td>5.5</td>\n",
       "      <td>2061.209000</td>\n",
       "      <td>0.2</td>\n",
       "      <td>1609.089000</td>\n",
       "      <td>3.9</td>\n",
       "    </tr>\n",
       "    <tr>\n",
       "      <th>1</th>\n",
       "      <td>2017-05-01 01:00:00+00:00</td>\n",
       "      <td>3344.690998</td>\n",
       "      <td>1.8</td>\n",
       "      <td>3560.209000</td>\n",
       "      <td>4.1</td>\n",
       "      <td>2678.188000</td>\n",
       "      <td>4.0</td>\n",
       "      <td>2045.436000</td>\n",
       "      <td>0.1</td>\n",
       "      <td>1623.485000</td>\n",
       "      <td>3.2</td>\n",
       "    </tr>\n",
       "    <tr>\n",
       "      <th>2</th>\n",
       "      <td>2017-05-01 02:00:00+00:00</td>\n",
       "      <td>3398.359002</td>\n",
       "      <td>3.2</td>\n",
       "      <td>3596.149000</td>\n",
       "      <td>3.1</td>\n",
       "      <td>2678.341000</td>\n",
       "      <td>3.7</td>\n",
       "      <td>2020.007000</td>\n",
       "      <td>0.1</td>\n",
       "      <td>1634.128000</td>\n",
       "      <td>2.7</td>\n",
       "    </tr>\n",
       "    <tr>\n",
       "      <th>3</th>\n",
       "      <td>2017-05-01 03:00:00+00:00</td>\n",
       "      <td>3430.220001</td>\n",
       "      <td>3.6</td>\n",
       "      <td>3594.042000</td>\n",
       "      <td>2.3</td>\n",
       "      <td>2684.172000</td>\n",
       "      <td>3.2</td>\n",
       "      <td>2021.920000</td>\n",
       "      <td>0.1</td>\n",
       "      <td>1647.906000</td>\n",
       "      <td>2.3</td>\n",
       "    </tr>\n",
       "    <tr>\n",
       "      <th>4</th>\n",
       "      <td>2017-05-01 04:00:00+00:00</td>\n",
       "      <td>3606.750000</td>\n",
       "      <td>3.4</td>\n",
       "      <td>3665.091000</td>\n",
       "      <td>2.6</td>\n",
       "      <td>2733.345000</td>\n",
       "      <td>2.7</td>\n",
       "      <td>2045.913000</td>\n",
       "      <td>0.1</td>\n",
       "      <td>1679.176000</td>\n",
       "      <td>2.3</td>\n",
       "    </tr>\n",
       "    <tr>\n",
       "      <th>...</th>\n",
       "      <td>...</td>\n",
       "      <td>...</td>\n",
       "      <td>...</td>\n",
       "      <td>...</td>\n",
       "      <td>...</td>\n",
       "      <td>...</td>\n",
       "      <td>...</td>\n",
       "      <td>...</td>\n",
       "      <td>...</td>\n",
       "      <td>...</td>\n",
       "      <td>...</td>\n",
       "    </tr>\n",
       "    <tr>\n",
       "      <th>58459</th>\n",
       "      <td>2023-12-31 19:00:00+00:00</td>\n",
       "      <td>5608.067736</td>\n",
       "      <td>-4.7</td>\n",
       "      <td>4962.057148</td>\n",
       "      <td>4.1</td>\n",
       "      <td>3837.204332</td>\n",
       "      <td>-3.7</td>\n",
       "      <td>2806.182692</td>\n",
       "      <td>-6.5</td>\n",
       "      <td>2224.449164</td>\n",
       "      <td>6.3</td>\n",
       "    </tr>\n",
       "    <tr>\n",
       "      <th>58460</th>\n",
       "      <td>2023-12-31 20:00:00+00:00</td>\n",
       "      <td>5469.722792</td>\n",
       "      <td>-4.6</td>\n",
       "      <td>4864.162484</td>\n",
       "      <td>4.7</td>\n",
       "      <td>3773.021260</td>\n",
       "      <td>-3.6</td>\n",
       "      <td>2764.928700</td>\n",
       "      <td>-6.4</td>\n",
       "      <td>2175.957992</td>\n",
       "      <td>6.3</td>\n",
       "    </tr>\n",
       "    <tr>\n",
       "      <th>58461</th>\n",
       "      <td>2023-12-31 21:00:00+00:00</td>\n",
       "      <td>5321.221040</td>\n",
       "      <td>-4.5</td>\n",
       "      <td>4793.361440</td>\n",
       "      <td>4.6</td>\n",
       "      <td>3725.022064</td>\n",
       "      <td>-4.2</td>\n",
       "      <td>2738.213476</td>\n",
       "      <td>-6.4</td>\n",
       "      <td>2137.724404</td>\n",
       "      <td>6.2</td>\n",
       "    </tr>\n",
       "    <tr>\n",
       "      <th>58462</th>\n",
       "      <td>2023-12-31 22:00:00+00:00</td>\n",
       "      <td>5222.770756</td>\n",
       "      <td>-4.5</td>\n",
       "      <td>4742.807424</td>\n",
       "      <td>4.6</td>\n",
       "      <td>3668.956000</td>\n",
       "      <td>-4.2</td>\n",
       "      <td>2699.056760</td>\n",
       "      <td>-6.5</td>\n",
       "      <td>2110.928436</td>\n",
       "      <td>5.7</td>\n",
       "    </tr>\n",
       "    <tr>\n",
       "      <th>58463</th>\n",
       "      <td>2023-12-31 23:00:00+00:00</td>\n",
       "      <td>5210.969016</td>\n",
       "      <td>-4.4</td>\n",
       "      <td>4719.826460</td>\n",
       "      <td>4.4</td>\n",
       "      <td>3657.079824</td>\n",
       "      <td>-4.0</td>\n",
       "      <td>2696.672540</td>\n",
       "      <td>-6.6</td>\n",
       "      <td>2100.524368</td>\n",
       "      <td>5.7</td>\n",
       "    </tr>\n",
       "  </tbody>\n",
       "</table>\n",
       "<p>58464 rows × 11 columns</p>\n",
       "</div>"
      ],
      "text/plain": [
       "                       timestamp  NO1_consumption  NO1_temperature  \\\n",
       "0      2017-05-01 00:00:00+00:00      3325.431995              2.1   \n",
       "1      2017-05-01 01:00:00+00:00      3344.690998              1.8   \n",
       "2      2017-05-01 02:00:00+00:00      3398.359002              3.2   \n",
       "3      2017-05-01 03:00:00+00:00      3430.220001              3.6   \n",
       "4      2017-05-01 04:00:00+00:00      3606.750000              3.4   \n",
       "...                          ...              ...              ...   \n",
       "58459  2023-12-31 19:00:00+00:00      5608.067736             -4.7   \n",
       "58460  2023-12-31 20:00:00+00:00      5469.722792             -4.6   \n",
       "58461  2023-12-31 21:00:00+00:00      5321.221040             -4.5   \n",
       "58462  2023-12-31 22:00:00+00:00      5222.770756             -4.5   \n",
       "58463  2023-12-31 23:00:00+00:00      5210.969016             -4.4   \n",
       "\n",
       "       NO2_consumption  NO2_temperature  NO3_consumption  NO3_temperature  \\\n",
       "0          3534.588000              5.0      2674.838000              5.5   \n",
       "1          3560.209000              4.1      2678.188000              4.0   \n",
       "2          3596.149000              3.1      2678.341000              3.7   \n",
       "3          3594.042000              2.3      2684.172000              3.2   \n",
       "4          3665.091000              2.6      2733.345000              2.7   \n",
       "...                ...              ...              ...              ...   \n",
       "58459      4962.057148              4.1      3837.204332             -3.7   \n",
       "58460      4864.162484              4.7      3773.021260             -3.6   \n",
       "58461      4793.361440              4.6      3725.022064             -4.2   \n",
       "58462      4742.807424              4.6      3668.956000             -4.2   \n",
       "58463      4719.826460              4.4      3657.079824             -4.0   \n",
       "\n",
       "       NO4_consumption  NO4_temperature  NO5_consumption  NO5_temperature  \n",
       "0          2061.209000              0.2      1609.089000              3.9  \n",
       "1          2045.436000              0.1      1623.485000              3.2  \n",
       "2          2020.007000              0.1      1634.128000              2.7  \n",
       "3          2021.920000              0.1      1647.906000              2.3  \n",
       "4          2045.913000              0.1      1679.176000              2.3  \n",
       "...                ...              ...              ...              ...  \n",
       "58459      2806.182692             -6.5      2224.449164              6.3  \n",
       "58460      2764.928700             -6.4      2175.957992              6.3  \n",
       "58461      2738.213476             -6.4      2137.724404              6.2  \n",
       "58462      2699.056760             -6.5      2110.928436              5.7  \n",
       "58463      2696.672540             -6.6      2100.524368              5.7  \n",
       "\n",
       "[58464 rows x 11 columns]"
      ]
     },
     "execution_count": 2,
     "metadata": {},
     "output_type": "execute_result"
    }
   ],
   "source": [
    "raw_data = pd.read_csv('consumption_and_temperatures.csv')\n",
    "raw_data"
   ]
  },
  {
   "cell_type": "markdown",
   "metadata": {},
   "source": [
    "### Change timestamp to datetime formate"
   ]
  },
  {
   "cell_type": "code",
   "execution_count": 5,
   "metadata": {},
   "outputs": [],
   "source": [
    "raw_data['timestamp'] = pd.to_datetime(raw_data['timestamp'])"
   ]
  },
  {
   "cell_type": "code",
   "execution_count": 7,
   "metadata": {},
   "outputs": [],
   "source": [
    "data_timestamp_modified = raw_data.copy()\n",
    "data_timestamp_modified['timestamp'] = pd.to_datetime(data_timestamp_modified['timestamp']).astype(int) // (3600 * 10 ** 9) - 414888"
   ]
  },
  {
   "cell_type": "code",
   "execution_count": 8,
   "metadata": {},
   "outputs": [
    {
     "data": {
      "text/plain": [
       "(58464, 11)"
      ]
     },
     "execution_count": 8,
     "metadata": {},
     "output_type": "execute_result"
    }
   ],
   "source": [
    "scaler = StandardScaler()\n",
    "scaled_data = scaler.fit_transform(data_timestamp_modified)\n",
    "scaled_data.shape"
   ]
  },
  {
   "cell_type": "code",
   "execution_count": null,
   "metadata": {},
   "outputs": [],
   "source": []
  },
  {
   "cell_type": "code",
   "execution_count": null,
   "metadata": {},
   "outputs": [],
   "source": [
    "data_seasons = pp.add_season_columns(raw_data)"
   ]
  },
  {
   "cell_type": "code",
   "execution_count": null,
   "metadata": {},
   "outputs": [],
   "source": [
    "data_seasons_hours = pp.add_hour_columns(data_seasons)"
   ]
  },
  {
   "cell_type": "markdown",
   "metadata": {},
   "source": [
    "## Feed-forward model"
   ]
  },
  {
   "cell_type": "code",
   "execution_count": 19,
   "metadata": {},
   "outputs": [],
   "source": [
    "from feed_forward_network import *"
   ]
  },
  {
   "cell_type": "code",
   "execution_count": 21,
   "metadata": {},
   "outputs": [],
   "source": [
    "raw_data['timestamp'] = pd.to_datetime(raw_data['timestamp']).astype(int) // (3600 * 10 ** 9) - 414888"
   ]
  },
  {
   "cell_type": "code",
   "execution_count": 22,
   "metadata": {},
   "outputs": [
    {
     "data": {
      "text/plain": [
       "numpy.int64"
      ]
     },
     "execution_count": 22,
     "metadata": {},
     "output_type": "execute_result"
    }
   ],
   "source": [
    "type(raw_data['timestamp'][2])"
   ]
  },
  {
   "cell_type": "code",
   "execution_count": 23,
   "metadata": {},
   "outputs": [
    {
     "data": {
      "text/html": [
       "<div>\n",
       "<style scoped>\n",
       "    .dataframe tbody tr th:only-of-type {\n",
       "        vertical-align: middle;\n",
       "    }\n",
       "\n",
       "    .dataframe tbody tr th {\n",
       "        vertical-align: top;\n",
       "    }\n",
       "\n",
       "    .dataframe thead th {\n",
       "        text-align: right;\n",
       "    }\n",
       "</style>\n",
       "<table border=\"1\" class=\"dataframe\">\n",
       "  <thead>\n",
       "    <tr style=\"text-align: right;\">\n",
       "      <th></th>\n",
       "      <th>timestamp</th>\n",
       "      <th>NO1_consumption</th>\n",
       "      <th>NO1_temperature</th>\n",
       "      <th>NO2_consumption</th>\n",
       "      <th>NO2_temperature</th>\n",
       "      <th>NO3_consumption</th>\n",
       "      <th>NO3_temperature</th>\n",
       "      <th>NO4_consumption</th>\n",
       "      <th>NO4_temperature</th>\n",
       "      <th>NO5_consumption</th>\n",
       "      <th>NO5_temperature</th>\n",
       "      <th>season</th>\n",
       "    </tr>\n",
       "  </thead>\n",
       "  <tbody>\n",
       "    <tr>\n",
       "      <th>0</th>\n",
       "      <td>0</td>\n",
       "      <td>3325.431995</td>\n",
       "      <td>2.1</td>\n",
       "      <td>3534.588000</td>\n",
       "      <td>5.0</td>\n",
       "      <td>2674.838000</td>\n",
       "      <td>5.5</td>\n",
       "      <td>2061.209000</td>\n",
       "      <td>0.2</td>\n",
       "      <td>1609.089000</td>\n",
       "      <td>3.9</td>\n",
       "      <td>spring</td>\n",
       "    </tr>\n",
       "    <tr>\n",
       "      <th>1</th>\n",
       "      <td>1</td>\n",
       "      <td>3344.690998</td>\n",
       "      <td>1.8</td>\n",
       "      <td>3560.209000</td>\n",
       "      <td>4.1</td>\n",
       "      <td>2678.188000</td>\n",
       "      <td>4.0</td>\n",
       "      <td>2045.436000</td>\n",
       "      <td>0.1</td>\n",
       "      <td>1623.485000</td>\n",
       "      <td>3.2</td>\n",
       "      <td>spring</td>\n",
       "    </tr>\n",
       "    <tr>\n",
       "      <th>2</th>\n",
       "      <td>2</td>\n",
       "      <td>3398.359002</td>\n",
       "      <td>3.2</td>\n",
       "      <td>3596.149000</td>\n",
       "      <td>3.1</td>\n",
       "      <td>2678.341000</td>\n",
       "      <td>3.7</td>\n",
       "      <td>2020.007000</td>\n",
       "      <td>0.1</td>\n",
       "      <td>1634.128000</td>\n",
       "      <td>2.7</td>\n",
       "      <td>spring</td>\n",
       "    </tr>\n",
       "    <tr>\n",
       "      <th>3</th>\n",
       "      <td>3</td>\n",
       "      <td>3430.220001</td>\n",
       "      <td>3.6</td>\n",
       "      <td>3594.042000</td>\n",
       "      <td>2.3</td>\n",
       "      <td>2684.172000</td>\n",
       "      <td>3.2</td>\n",
       "      <td>2021.920000</td>\n",
       "      <td>0.1</td>\n",
       "      <td>1647.906000</td>\n",
       "      <td>2.3</td>\n",
       "      <td>spring</td>\n",
       "    </tr>\n",
       "    <tr>\n",
       "      <th>4</th>\n",
       "      <td>4</td>\n",
       "      <td>3606.750000</td>\n",
       "      <td>3.4</td>\n",
       "      <td>3665.091000</td>\n",
       "      <td>2.6</td>\n",
       "      <td>2733.345000</td>\n",
       "      <td>2.7</td>\n",
       "      <td>2045.913000</td>\n",
       "      <td>0.1</td>\n",
       "      <td>1679.176000</td>\n",
       "      <td>2.3</td>\n",
       "      <td>spring</td>\n",
       "    </tr>\n",
       "    <tr>\n",
       "      <th>...</th>\n",
       "      <td>...</td>\n",
       "      <td>...</td>\n",
       "      <td>...</td>\n",
       "      <td>...</td>\n",
       "      <td>...</td>\n",
       "      <td>...</td>\n",
       "      <td>...</td>\n",
       "      <td>...</td>\n",
       "      <td>...</td>\n",
       "      <td>...</td>\n",
       "      <td>...</td>\n",
       "      <td>...</td>\n",
       "    </tr>\n",
       "    <tr>\n",
       "      <th>58459</th>\n",
       "      <td>58459</td>\n",
       "      <td>5608.067736</td>\n",
       "      <td>-4.7</td>\n",
       "      <td>4962.057148</td>\n",
       "      <td>4.1</td>\n",
       "      <td>3837.204332</td>\n",
       "      <td>-3.7</td>\n",
       "      <td>2806.182692</td>\n",
       "      <td>-6.5</td>\n",
       "      <td>2224.449164</td>\n",
       "      <td>6.3</td>\n",
       "      <td>winter</td>\n",
       "    </tr>\n",
       "    <tr>\n",
       "      <th>58460</th>\n",
       "      <td>58460</td>\n",
       "      <td>5469.722792</td>\n",
       "      <td>-4.6</td>\n",
       "      <td>4864.162484</td>\n",
       "      <td>4.7</td>\n",
       "      <td>3773.021260</td>\n",
       "      <td>-3.6</td>\n",
       "      <td>2764.928700</td>\n",
       "      <td>-6.4</td>\n",
       "      <td>2175.957992</td>\n",
       "      <td>6.3</td>\n",
       "      <td>winter</td>\n",
       "    </tr>\n",
       "    <tr>\n",
       "      <th>58461</th>\n",
       "      <td>58461</td>\n",
       "      <td>5321.221040</td>\n",
       "      <td>-4.5</td>\n",
       "      <td>4793.361440</td>\n",
       "      <td>4.6</td>\n",
       "      <td>3725.022064</td>\n",
       "      <td>-4.2</td>\n",
       "      <td>2738.213476</td>\n",
       "      <td>-6.4</td>\n",
       "      <td>2137.724404</td>\n",
       "      <td>6.2</td>\n",
       "      <td>winter</td>\n",
       "    </tr>\n",
       "    <tr>\n",
       "      <th>58462</th>\n",
       "      <td>58462</td>\n",
       "      <td>5222.770756</td>\n",
       "      <td>-4.5</td>\n",
       "      <td>4742.807424</td>\n",
       "      <td>4.6</td>\n",
       "      <td>3668.956000</td>\n",
       "      <td>-4.2</td>\n",
       "      <td>2699.056760</td>\n",
       "      <td>-6.5</td>\n",
       "      <td>2110.928436</td>\n",
       "      <td>5.7</td>\n",
       "      <td>winter</td>\n",
       "    </tr>\n",
       "    <tr>\n",
       "      <th>58463</th>\n",
       "      <td>58463</td>\n",
       "      <td>5210.969016</td>\n",
       "      <td>-4.4</td>\n",
       "      <td>4719.826460</td>\n",
       "      <td>4.4</td>\n",
       "      <td>3657.079824</td>\n",
       "      <td>-4.0</td>\n",
       "      <td>2696.672540</td>\n",
       "      <td>-6.6</td>\n",
       "      <td>2100.524368</td>\n",
       "      <td>5.7</td>\n",
       "      <td>winter</td>\n",
       "    </tr>\n",
       "  </tbody>\n",
       "</table>\n",
       "<p>58464 rows × 12 columns</p>\n",
       "</div>"
      ],
      "text/plain": [
       "       timestamp  NO1_consumption  NO1_temperature  NO2_consumption  \\\n",
       "0              0      3325.431995              2.1      3534.588000   \n",
       "1              1      3344.690998              1.8      3560.209000   \n",
       "2              2      3398.359002              3.2      3596.149000   \n",
       "3              3      3430.220001              3.6      3594.042000   \n",
       "4              4      3606.750000              3.4      3665.091000   \n",
       "...          ...              ...              ...              ...   \n",
       "58459      58459      5608.067736             -4.7      4962.057148   \n",
       "58460      58460      5469.722792             -4.6      4864.162484   \n",
       "58461      58461      5321.221040             -4.5      4793.361440   \n",
       "58462      58462      5222.770756             -4.5      4742.807424   \n",
       "58463      58463      5210.969016             -4.4      4719.826460   \n",
       "\n",
       "       NO2_temperature  NO3_consumption  NO3_temperature  NO4_consumption  \\\n",
       "0                  5.0      2674.838000              5.5      2061.209000   \n",
       "1                  4.1      2678.188000              4.0      2045.436000   \n",
       "2                  3.1      2678.341000              3.7      2020.007000   \n",
       "3                  2.3      2684.172000              3.2      2021.920000   \n",
       "4                  2.6      2733.345000              2.7      2045.913000   \n",
       "...                ...              ...              ...              ...   \n",
       "58459              4.1      3837.204332             -3.7      2806.182692   \n",
       "58460              4.7      3773.021260             -3.6      2764.928700   \n",
       "58461              4.6      3725.022064             -4.2      2738.213476   \n",
       "58462              4.6      3668.956000             -4.2      2699.056760   \n",
       "58463              4.4      3657.079824             -4.0      2696.672540   \n",
       "\n",
       "       NO4_temperature  NO5_consumption  NO5_temperature  season  \n",
       "0                  0.2      1609.089000              3.9  spring  \n",
       "1                  0.1      1623.485000              3.2  spring  \n",
       "2                  0.1      1634.128000              2.7  spring  \n",
       "3                  0.1      1647.906000              2.3  spring  \n",
       "4                  0.1      1679.176000              2.3  spring  \n",
       "...                ...              ...              ...     ...  \n",
       "58459             -6.5      2224.449164              6.3  winter  \n",
       "58460             -6.4      2175.957992              6.3  winter  \n",
       "58461             -6.4      2137.724404              6.2  winter  \n",
       "58462             -6.5      2110.928436              5.7  winter  \n",
       "58463             -6.6      2100.524368              5.7  winter  \n",
       "\n",
       "[58464 rows x 12 columns]"
      ]
     },
     "execution_count": 23,
     "metadata": {},
     "output_type": "execute_result"
    }
   ],
   "source": [
    "raw_data"
   ]
  },
  {
   "cell_type": "markdown",
   "metadata": {},
   "source": [
    "Note: No time data missing"
   ]
  },
  {
   "cell_type": "code",
   "execution_count": 24,
   "metadata": {},
   "outputs": [],
   "source": [
    "data_shifted = raw_data.copy()\n",
    "data_shifted['NO1_temperature_t-1'] = data_shifted['NO1_temperature'].shift(1)"
   ]
  },
  {
   "cell_type": "code",
   "execution_count": 25,
   "metadata": {},
   "outputs": [
    {
     "data": {
      "text/html": [
       "<div>\n",
       "<style scoped>\n",
       "    .dataframe tbody tr th:only-of-type {\n",
       "        vertical-align: middle;\n",
       "    }\n",
       "\n",
       "    .dataframe tbody tr th {\n",
       "        vertical-align: top;\n",
       "    }\n",
       "\n",
       "    .dataframe thead th {\n",
       "        text-align: right;\n",
       "    }\n",
       "</style>\n",
       "<table border=\"1\" class=\"dataframe\">\n",
       "  <thead>\n",
       "    <tr style=\"text-align: right;\">\n",
       "      <th></th>\n",
       "      <th>timestamp</th>\n",
       "      <th>NO1_consumption</th>\n",
       "      <th>NO1_temperature</th>\n",
       "      <th>NO2_consumption</th>\n",
       "      <th>NO2_temperature</th>\n",
       "      <th>NO3_consumption</th>\n",
       "      <th>NO3_temperature</th>\n",
       "      <th>NO4_consumption</th>\n",
       "      <th>NO4_temperature</th>\n",
       "      <th>NO5_consumption</th>\n",
       "      <th>NO5_temperature</th>\n",
       "      <th>season</th>\n",
       "      <th>NO1_temperature_t-1</th>\n",
       "    </tr>\n",
       "  </thead>\n",
       "  <tbody>\n",
       "    <tr>\n",
       "      <th>0</th>\n",
       "      <td>0</td>\n",
       "      <td>3325.431995</td>\n",
       "      <td>2.1</td>\n",
       "      <td>3534.588000</td>\n",
       "      <td>5.0</td>\n",
       "      <td>2674.838000</td>\n",
       "      <td>5.5</td>\n",
       "      <td>2061.209000</td>\n",
       "      <td>0.2</td>\n",
       "      <td>1609.089000</td>\n",
       "      <td>3.9</td>\n",
       "      <td>spring</td>\n",
       "      <td>NaN</td>\n",
       "    </tr>\n",
       "    <tr>\n",
       "      <th>1</th>\n",
       "      <td>1</td>\n",
       "      <td>3344.690998</td>\n",
       "      <td>1.8</td>\n",
       "      <td>3560.209000</td>\n",
       "      <td>4.1</td>\n",
       "      <td>2678.188000</td>\n",
       "      <td>4.0</td>\n",
       "      <td>2045.436000</td>\n",
       "      <td>0.1</td>\n",
       "      <td>1623.485000</td>\n",
       "      <td>3.2</td>\n",
       "      <td>spring</td>\n",
       "      <td>2.1</td>\n",
       "    </tr>\n",
       "    <tr>\n",
       "      <th>2</th>\n",
       "      <td>2</td>\n",
       "      <td>3398.359002</td>\n",
       "      <td>3.2</td>\n",
       "      <td>3596.149000</td>\n",
       "      <td>3.1</td>\n",
       "      <td>2678.341000</td>\n",
       "      <td>3.7</td>\n",
       "      <td>2020.007000</td>\n",
       "      <td>0.1</td>\n",
       "      <td>1634.128000</td>\n",
       "      <td>2.7</td>\n",
       "      <td>spring</td>\n",
       "      <td>1.8</td>\n",
       "    </tr>\n",
       "    <tr>\n",
       "      <th>3</th>\n",
       "      <td>3</td>\n",
       "      <td>3430.220001</td>\n",
       "      <td>3.6</td>\n",
       "      <td>3594.042000</td>\n",
       "      <td>2.3</td>\n",
       "      <td>2684.172000</td>\n",
       "      <td>3.2</td>\n",
       "      <td>2021.920000</td>\n",
       "      <td>0.1</td>\n",
       "      <td>1647.906000</td>\n",
       "      <td>2.3</td>\n",
       "      <td>spring</td>\n",
       "      <td>3.2</td>\n",
       "    </tr>\n",
       "    <tr>\n",
       "      <th>4</th>\n",
       "      <td>4</td>\n",
       "      <td>3606.750000</td>\n",
       "      <td>3.4</td>\n",
       "      <td>3665.091000</td>\n",
       "      <td>2.6</td>\n",
       "      <td>2733.345000</td>\n",
       "      <td>2.7</td>\n",
       "      <td>2045.913000</td>\n",
       "      <td>0.1</td>\n",
       "      <td>1679.176000</td>\n",
       "      <td>2.3</td>\n",
       "      <td>spring</td>\n",
       "      <td>3.6</td>\n",
       "    </tr>\n",
       "    <tr>\n",
       "      <th>...</th>\n",
       "      <td>...</td>\n",
       "      <td>...</td>\n",
       "      <td>...</td>\n",
       "      <td>...</td>\n",
       "      <td>...</td>\n",
       "      <td>...</td>\n",
       "      <td>...</td>\n",
       "      <td>...</td>\n",
       "      <td>...</td>\n",
       "      <td>...</td>\n",
       "      <td>...</td>\n",
       "      <td>...</td>\n",
       "      <td>...</td>\n",
       "    </tr>\n",
       "    <tr>\n",
       "      <th>58459</th>\n",
       "      <td>58459</td>\n",
       "      <td>5608.067736</td>\n",
       "      <td>-4.7</td>\n",
       "      <td>4962.057148</td>\n",
       "      <td>4.1</td>\n",
       "      <td>3837.204332</td>\n",
       "      <td>-3.7</td>\n",
       "      <td>2806.182692</td>\n",
       "      <td>-6.5</td>\n",
       "      <td>2224.449164</td>\n",
       "      <td>6.3</td>\n",
       "      <td>winter</td>\n",
       "      <td>-4.7</td>\n",
       "    </tr>\n",
       "    <tr>\n",
       "      <th>58460</th>\n",
       "      <td>58460</td>\n",
       "      <td>5469.722792</td>\n",
       "      <td>-4.6</td>\n",
       "      <td>4864.162484</td>\n",
       "      <td>4.7</td>\n",
       "      <td>3773.021260</td>\n",
       "      <td>-3.6</td>\n",
       "      <td>2764.928700</td>\n",
       "      <td>-6.4</td>\n",
       "      <td>2175.957992</td>\n",
       "      <td>6.3</td>\n",
       "      <td>winter</td>\n",
       "      <td>-4.7</td>\n",
       "    </tr>\n",
       "    <tr>\n",
       "      <th>58461</th>\n",
       "      <td>58461</td>\n",
       "      <td>5321.221040</td>\n",
       "      <td>-4.5</td>\n",
       "      <td>4793.361440</td>\n",
       "      <td>4.6</td>\n",
       "      <td>3725.022064</td>\n",
       "      <td>-4.2</td>\n",
       "      <td>2738.213476</td>\n",
       "      <td>-6.4</td>\n",
       "      <td>2137.724404</td>\n",
       "      <td>6.2</td>\n",
       "      <td>winter</td>\n",
       "      <td>-4.6</td>\n",
       "    </tr>\n",
       "    <tr>\n",
       "      <th>58462</th>\n",
       "      <td>58462</td>\n",
       "      <td>5222.770756</td>\n",
       "      <td>-4.5</td>\n",
       "      <td>4742.807424</td>\n",
       "      <td>4.6</td>\n",
       "      <td>3668.956000</td>\n",
       "      <td>-4.2</td>\n",
       "      <td>2699.056760</td>\n",
       "      <td>-6.5</td>\n",
       "      <td>2110.928436</td>\n",
       "      <td>5.7</td>\n",
       "      <td>winter</td>\n",
       "      <td>-4.5</td>\n",
       "    </tr>\n",
       "    <tr>\n",
       "      <th>58463</th>\n",
       "      <td>58463</td>\n",
       "      <td>5210.969016</td>\n",
       "      <td>-4.4</td>\n",
       "      <td>4719.826460</td>\n",
       "      <td>4.4</td>\n",
       "      <td>3657.079824</td>\n",
       "      <td>-4.0</td>\n",
       "      <td>2696.672540</td>\n",
       "      <td>-6.6</td>\n",
       "      <td>2100.524368</td>\n",
       "      <td>5.7</td>\n",
       "      <td>winter</td>\n",
       "      <td>-4.5</td>\n",
       "    </tr>\n",
       "  </tbody>\n",
       "</table>\n",
       "<p>58464 rows × 13 columns</p>\n",
       "</div>"
      ],
      "text/plain": [
       "       timestamp  NO1_consumption  NO1_temperature  NO2_consumption  \\\n",
       "0              0      3325.431995              2.1      3534.588000   \n",
       "1              1      3344.690998              1.8      3560.209000   \n",
       "2              2      3398.359002              3.2      3596.149000   \n",
       "3              3      3430.220001              3.6      3594.042000   \n",
       "4              4      3606.750000              3.4      3665.091000   \n",
       "...          ...              ...              ...              ...   \n",
       "58459      58459      5608.067736             -4.7      4962.057148   \n",
       "58460      58460      5469.722792             -4.6      4864.162484   \n",
       "58461      58461      5321.221040             -4.5      4793.361440   \n",
       "58462      58462      5222.770756             -4.5      4742.807424   \n",
       "58463      58463      5210.969016             -4.4      4719.826460   \n",
       "\n",
       "       NO2_temperature  NO3_consumption  NO3_temperature  NO4_consumption  \\\n",
       "0                  5.0      2674.838000              5.5      2061.209000   \n",
       "1                  4.1      2678.188000              4.0      2045.436000   \n",
       "2                  3.1      2678.341000              3.7      2020.007000   \n",
       "3                  2.3      2684.172000              3.2      2021.920000   \n",
       "4                  2.6      2733.345000              2.7      2045.913000   \n",
       "...                ...              ...              ...              ...   \n",
       "58459              4.1      3837.204332             -3.7      2806.182692   \n",
       "58460              4.7      3773.021260             -3.6      2764.928700   \n",
       "58461              4.6      3725.022064             -4.2      2738.213476   \n",
       "58462              4.6      3668.956000             -4.2      2699.056760   \n",
       "58463              4.4      3657.079824             -4.0      2696.672540   \n",
       "\n",
       "       NO4_temperature  NO5_consumption  NO5_temperature  season  \\\n",
       "0                  0.2      1609.089000              3.9  spring   \n",
       "1                  0.1      1623.485000              3.2  spring   \n",
       "2                  0.1      1634.128000              2.7  spring   \n",
       "3                  0.1      1647.906000              2.3  spring   \n",
       "4                  0.1      1679.176000              2.3  spring   \n",
       "...                ...              ...              ...     ...   \n",
       "58459             -6.5      2224.449164              6.3  winter   \n",
       "58460             -6.4      2175.957992              6.3  winter   \n",
       "58461             -6.4      2137.724404              6.2  winter   \n",
       "58462             -6.5      2110.928436              5.7  winter   \n",
       "58463             -6.6      2100.524368              5.7  winter   \n",
       "\n",
       "       NO1_temperature_t-1  \n",
       "0                      NaN  \n",
       "1                      2.1  \n",
       "2                      1.8  \n",
       "3                      3.2  \n",
       "4                      3.6  \n",
       "...                    ...  \n",
       "58459                 -4.7  \n",
       "58460                 -4.7  \n",
       "58461                 -4.6  \n",
       "58462                 -4.5  \n",
       "58463                 -4.5  \n",
       "\n",
       "[58464 rows x 13 columns]"
      ]
     },
     "execution_count": 25,
     "metadata": {},
     "output_type": "execute_result"
    }
   ],
   "source": [
    "data_shifted"
   ]
  },
  {
   "cell_type": "code",
   "execution_count": 26,
   "metadata": {},
   "outputs": [
    {
     "data": {
      "text/html": [
       "<div>\n",
       "<style scoped>\n",
       "    .dataframe tbody tr th:only-of-type {\n",
       "        vertical-align: middle;\n",
       "    }\n",
       "\n",
       "    .dataframe tbody tr th {\n",
       "        vertical-align: top;\n",
       "    }\n",
       "\n",
       "    .dataframe thead th {\n",
       "        text-align: right;\n",
       "    }\n",
       "</style>\n",
       "<table border=\"1\" class=\"dataframe\">\n",
       "  <thead>\n",
       "    <tr style=\"text-align: right;\">\n",
       "      <th></th>\n",
       "      <th>timestamp</th>\n",
       "      <th>NO1_temperature</th>\n",
       "      <th>season_spring</th>\n",
       "      <th>season_summer</th>\n",
       "      <th>season_fall</th>\n",
       "      <th>season_winter</th>\n",
       "      <th>NO1_consumption</th>\n",
       "    </tr>\n",
       "  </thead>\n",
       "  <tbody>\n",
       "    <tr>\n",
       "      <th>0</th>\n",
       "      <td>2017-05-01 00:00:00+00:00</td>\n",
       "      <td>2.1</td>\n",
       "      <td>True</td>\n",
       "      <td>False</td>\n",
       "      <td>False</td>\n",
       "      <td>False</td>\n",
       "      <td>3325.431995</td>\n",
       "    </tr>\n",
       "    <tr>\n",
       "      <th>1</th>\n",
       "      <td>2017-05-01 01:00:00+00:00</td>\n",
       "      <td>1.8</td>\n",
       "      <td>True</td>\n",
       "      <td>False</td>\n",
       "      <td>False</td>\n",
       "      <td>False</td>\n",
       "      <td>3344.690998</td>\n",
       "    </tr>\n",
       "    <tr>\n",
       "      <th>2</th>\n",
       "      <td>2017-05-01 02:00:00+00:00</td>\n",
       "      <td>3.2</td>\n",
       "      <td>True</td>\n",
       "      <td>False</td>\n",
       "      <td>False</td>\n",
       "      <td>False</td>\n",
       "      <td>3398.359002</td>\n",
       "    </tr>\n",
       "    <tr>\n",
       "      <th>3</th>\n",
       "      <td>2017-05-01 03:00:00+00:00</td>\n",
       "      <td>3.6</td>\n",
       "      <td>True</td>\n",
       "      <td>False</td>\n",
       "      <td>False</td>\n",
       "      <td>False</td>\n",
       "      <td>3430.220001</td>\n",
       "    </tr>\n",
       "    <tr>\n",
       "      <th>4</th>\n",
       "      <td>2017-05-01 04:00:00+00:00</td>\n",
       "      <td>3.4</td>\n",
       "      <td>True</td>\n",
       "      <td>False</td>\n",
       "      <td>False</td>\n",
       "      <td>False</td>\n",
       "      <td>3606.750000</td>\n",
       "    </tr>\n",
       "    <tr>\n",
       "      <th>...</th>\n",
       "      <td>...</td>\n",
       "      <td>...</td>\n",
       "      <td>...</td>\n",
       "      <td>...</td>\n",
       "      <td>...</td>\n",
       "      <td>...</td>\n",
       "      <td>...</td>\n",
       "    </tr>\n",
       "    <tr>\n",
       "      <th>58459</th>\n",
       "      <td>2023-12-31 19:00:00+00:00</td>\n",
       "      <td>-4.7</td>\n",
       "      <td>False</td>\n",
       "      <td>False</td>\n",
       "      <td>False</td>\n",
       "      <td>True</td>\n",
       "      <td>5608.067736</td>\n",
       "    </tr>\n",
       "    <tr>\n",
       "      <th>58460</th>\n",
       "      <td>2023-12-31 20:00:00+00:00</td>\n",
       "      <td>-4.6</td>\n",
       "      <td>False</td>\n",
       "      <td>False</td>\n",
       "      <td>False</td>\n",
       "      <td>True</td>\n",
       "      <td>5469.722792</td>\n",
       "    </tr>\n",
       "    <tr>\n",
       "      <th>58461</th>\n",
       "      <td>2023-12-31 21:00:00+00:00</td>\n",
       "      <td>-4.5</td>\n",
       "      <td>False</td>\n",
       "      <td>False</td>\n",
       "      <td>False</td>\n",
       "      <td>True</td>\n",
       "      <td>5321.221040</td>\n",
       "    </tr>\n",
       "    <tr>\n",
       "      <th>58462</th>\n",
       "      <td>2023-12-31 22:00:00+00:00</td>\n",
       "      <td>-4.5</td>\n",
       "      <td>False</td>\n",
       "      <td>False</td>\n",
       "      <td>False</td>\n",
       "      <td>True</td>\n",
       "      <td>5222.770756</td>\n",
       "    </tr>\n",
       "    <tr>\n",
       "      <th>58463</th>\n",
       "      <td>2023-12-31 23:00:00+00:00</td>\n",
       "      <td>-4.4</td>\n",
       "      <td>False</td>\n",
       "      <td>False</td>\n",
       "      <td>False</td>\n",
       "      <td>True</td>\n",
       "      <td>5210.969016</td>\n",
       "    </tr>\n",
       "  </tbody>\n",
       "</table>\n",
       "<p>58464 rows × 7 columns</p>\n",
       "</div>"
      ],
      "text/plain": [
       "                      timestamp  NO1_temperature  season_spring  \\\n",
       "0     2017-05-01 00:00:00+00:00              2.1           True   \n",
       "1     2017-05-01 01:00:00+00:00              1.8           True   \n",
       "2     2017-05-01 02:00:00+00:00              3.2           True   \n",
       "3     2017-05-01 03:00:00+00:00              3.6           True   \n",
       "4     2017-05-01 04:00:00+00:00              3.4           True   \n",
       "...                         ...              ...            ...   \n",
       "58459 2023-12-31 19:00:00+00:00             -4.7          False   \n",
       "58460 2023-12-31 20:00:00+00:00             -4.6          False   \n",
       "58461 2023-12-31 21:00:00+00:00             -4.5          False   \n",
       "58462 2023-12-31 22:00:00+00:00             -4.5          False   \n",
       "58463 2023-12-31 23:00:00+00:00             -4.4          False   \n",
       "\n",
       "       season_summer  season_fall  season_winter  NO1_consumption  \n",
       "0              False        False          False      3325.431995  \n",
       "1              False        False          False      3344.690998  \n",
       "2              False        False          False      3398.359002  \n",
       "3              False        False          False      3430.220001  \n",
       "4              False        False          False      3606.750000  \n",
       "...              ...          ...            ...              ...  \n",
       "58459          False        False           True      5608.067736  \n",
       "58460          False        False           True      5469.722792  \n",
       "58461          False        False           True      5321.221040  \n",
       "58462          False        False           True      5222.770756  \n",
       "58463          False        False           True      5210.969016  \n",
       "\n",
       "[58464 rows x 7 columns]"
      ]
     },
     "execution_count": 26,
     "metadata": {},
     "output_type": "execute_result"
    }
   ],
   "source": [
    "data_seasons_NO1 = data_seasons[['timestamp', 'NO1_temperature', 'season_spring', 'season_summer', 'season_fall', 'season_winter', 'NO1_consumption']]\n",
    "data_seasons_NO1"
   ]
  },
  {
   "cell_type": "code",
   "execution_count": 27,
   "metadata": {},
   "outputs": [
    {
     "name": "stderr",
     "output_type": "stream",
     "text": [
      "/var/folders/dv/nzlg6jm168311nq7f93wfrd80000gn/T/ipykernel_17829/1061277147.py:4: SettingWithCopyWarning: \n",
      "A value is trying to be set on a copy of a slice from a DataFrame.\n",
      "Try using .loc[row_indexer,col_indexer] = value instead\n",
      "\n",
      "See the caveats in the documentation: https://pandas.pydata.org/pandas-docs/stable/user_guide/indexing.html#returning-a-view-versus-a-copy\n",
      "  data_seasons_NO1[columns_to_scale_season_NO1] = scaler_seasons_NO1.fit_transform(data_seasons_NO1[columns_to_scale_season_NO1])\n"
     ]
    },
    {
     "data": {
      "text/html": [
       "<div>\n",
       "<style scoped>\n",
       "    .dataframe tbody tr th:only-of-type {\n",
       "        vertical-align: middle;\n",
       "    }\n",
       "\n",
       "    .dataframe tbody tr th {\n",
       "        vertical-align: top;\n",
       "    }\n",
       "\n",
       "    .dataframe thead th {\n",
       "        text-align: right;\n",
       "    }\n",
       "</style>\n",
       "<table border=\"1\" class=\"dataframe\">\n",
       "  <thead>\n",
       "    <tr style=\"text-align: right;\">\n",
       "      <th></th>\n",
       "      <th>timestamp</th>\n",
       "      <th>NO1_temperature</th>\n",
       "      <th>season_spring</th>\n",
       "      <th>season_summer</th>\n",
       "      <th>season_fall</th>\n",
       "      <th>season_winter</th>\n",
       "      <th>NO1_consumption</th>\n",
       "    </tr>\n",
       "  </thead>\n",
       "  <tbody>\n",
       "    <tr>\n",
       "      <th>0</th>\n",
       "      <td>2017-05-01 00:00:00+00:00</td>\n",
       "      <td>-0.644266</td>\n",
       "      <td>True</td>\n",
       "      <td>False</td>\n",
       "      <td>False</td>\n",
       "      <td>False</td>\n",
       "      <td>-0.490278</td>\n",
       "    </tr>\n",
       "    <tr>\n",
       "      <th>1</th>\n",
       "      <td>2017-05-01 01:00:00+00:00</td>\n",
       "      <td>-0.680446</td>\n",
       "      <td>True</td>\n",
       "      <td>False</td>\n",
       "      <td>False</td>\n",
       "      <td>False</td>\n",
       "      <td>-0.475559</td>\n",
       "    </tr>\n",
       "    <tr>\n",
       "      <th>2</th>\n",
       "      <td>2017-05-01 02:00:00+00:00</td>\n",
       "      <td>-0.511608</td>\n",
       "      <td>True</td>\n",
       "      <td>False</td>\n",
       "      <td>False</td>\n",
       "      <td>False</td>\n",
       "      <td>-0.434544</td>\n",
       "    </tr>\n",
       "    <tr>\n",
       "      <th>3</th>\n",
       "      <td>2017-05-01 03:00:00+00:00</td>\n",
       "      <td>-0.463369</td>\n",
       "      <td>True</td>\n",
       "      <td>False</td>\n",
       "      <td>False</td>\n",
       "      <td>False</td>\n",
       "      <td>-0.410195</td>\n",
       "    </tr>\n",
       "    <tr>\n",
       "      <th>4</th>\n",
       "      <td>2017-05-01 04:00:00+00:00</td>\n",
       "      <td>-0.487489</td>\n",
       "      <td>True</td>\n",
       "      <td>False</td>\n",
       "      <td>False</td>\n",
       "      <td>False</td>\n",
       "      <td>-0.275284</td>\n",
       "    </tr>\n",
       "    <tr>\n",
       "      <th>...</th>\n",
       "      <td>...</td>\n",
       "      <td>...</td>\n",
       "      <td>...</td>\n",
       "      <td>...</td>\n",
       "      <td>...</td>\n",
       "      <td>...</td>\n",
       "      <td>...</td>\n",
       "    </tr>\n",
       "    <tr>\n",
       "      <th>58459</th>\n",
       "      <td>2023-12-31 19:00:00+00:00</td>\n",
       "      <td>-1.464334</td>\n",
       "      <td>False</td>\n",
       "      <td>False</td>\n",
       "      <td>False</td>\n",
       "      <td>True</td>\n",
       "      <td>1.254197</td>\n",
       "    </tr>\n",
       "    <tr>\n",
       "      <th>58460</th>\n",
       "      <td>2023-12-31 20:00:00+00:00</td>\n",
       "      <td>-1.452275</td>\n",
       "      <td>False</td>\n",
       "      <td>False</td>\n",
       "      <td>False</td>\n",
       "      <td>True</td>\n",
       "      <td>1.148469</td>\n",
       "    </tr>\n",
       "    <tr>\n",
       "      <th>58461</th>\n",
       "      <td>2023-12-31 21:00:00+00:00</td>\n",
       "      <td>-1.440215</td>\n",
       "      <td>False</td>\n",
       "      <td>False</td>\n",
       "      <td>False</td>\n",
       "      <td>True</td>\n",
       "      <td>1.034979</td>\n",
       "    </tr>\n",
       "    <tr>\n",
       "      <th>58462</th>\n",
       "      <td>2023-12-31 22:00:00+00:00</td>\n",
       "      <td>-1.440215</td>\n",
       "      <td>False</td>\n",
       "      <td>False</td>\n",
       "      <td>False</td>\n",
       "      <td>True</td>\n",
       "      <td>0.959739</td>\n",
       "    </tr>\n",
       "    <tr>\n",
       "      <th>58463</th>\n",
       "      <td>2023-12-31 23:00:00+00:00</td>\n",
       "      <td>-1.428155</td>\n",
       "      <td>False</td>\n",
       "      <td>False</td>\n",
       "      <td>False</td>\n",
       "      <td>True</td>\n",
       "      <td>0.950720</td>\n",
       "    </tr>\n",
       "  </tbody>\n",
       "</table>\n",
       "<p>58464 rows × 7 columns</p>\n",
       "</div>"
      ],
      "text/plain": [
       "                      timestamp  NO1_temperature  season_spring  \\\n",
       "0     2017-05-01 00:00:00+00:00        -0.644266           True   \n",
       "1     2017-05-01 01:00:00+00:00        -0.680446           True   \n",
       "2     2017-05-01 02:00:00+00:00        -0.511608           True   \n",
       "3     2017-05-01 03:00:00+00:00        -0.463369           True   \n",
       "4     2017-05-01 04:00:00+00:00        -0.487489           True   \n",
       "...                         ...              ...            ...   \n",
       "58459 2023-12-31 19:00:00+00:00        -1.464334          False   \n",
       "58460 2023-12-31 20:00:00+00:00        -1.452275          False   \n",
       "58461 2023-12-31 21:00:00+00:00        -1.440215          False   \n",
       "58462 2023-12-31 22:00:00+00:00        -1.440215          False   \n",
       "58463 2023-12-31 23:00:00+00:00        -1.428155          False   \n",
       "\n",
       "       season_summer  season_fall  season_winter  NO1_consumption  \n",
       "0              False        False          False        -0.490278  \n",
       "1              False        False          False        -0.475559  \n",
       "2              False        False          False        -0.434544  \n",
       "3              False        False          False        -0.410195  \n",
       "4              False        False          False        -0.275284  \n",
       "...              ...          ...            ...              ...  \n",
       "58459          False        False           True         1.254197  \n",
       "58460          False        False           True         1.148469  \n",
       "58461          False        False           True         1.034979  \n",
       "58462          False        False           True         0.959739  \n",
       "58463          False        False           True         0.950720  \n",
       "\n",
       "[58464 rows x 7 columns]"
      ]
     },
     "execution_count": 27,
     "metadata": {},
     "output_type": "execute_result"
    }
   ],
   "source": [
    "scaler_seasons_NO1 = StandardScaler()\n",
    "\n",
    "columns_to_scale_season_NO1 = ['NO1_temperature', 'NO1_consumption']\n",
    "data_seasons_NO1[columns_to_scale_season_NO1] = scaler_seasons_NO1.fit_transform(data_seasons_NO1[columns_to_scale_season_NO1])\n",
    "data_seasons_NO1"
   ]
  },
  {
   "cell_type": "code",
   "execution_count": 28,
   "metadata": {},
   "outputs": [
    {
     "data": {
      "text/html": [
       "<div>\n",
       "<style scoped>\n",
       "    .dataframe tbody tr th:only-of-type {\n",
       "        vertical-align: middle;\n",
       "    }\n",
       "\n",
       "    .dataframe tbody tr th {\n",
       "        vertical-align: top;\n",
       "    }\n",
       "\n",
       "    .dataframe thead th {\n",
       "        text-align: right;\n",
       "    }\n",
       "</style>\n",
       "<table border=\"1\" class=\"dataframe\">\n",
       "  <thead>\n",
       "    <tr style=\"text-align: right;\">\n",
       "      <th></th>\n",
       "      <th>NO1_temperature</th>\n",
       "      <th>season_spring</th>\n",
       "      <th>season_summer</th>\n",
       "      <th>season_fall</th>\n",
       "      <th>season_winter</th>\n",
       "      <th>NO1_consumption</th>\n",
       "    </tr>\n",
       "  </thead>\n",
       "  <tbody>\n",
       "    <tr>\n",
       "      <th>0</th>\n",
       "      <td>-0.644266</td>\n",
       "      <td>1</td>\n",
       "      <td>0</td>\n",
       "      <td>0</td>\n",
       "      <td>0</td>\n",
       "      <td>-0.490278</td>\n",
       "    </tr>\n",
       "    <tr>\n",
       "      <th>1</th>\n",
       "      <td>-0.680446</td>\n",
       "      <td>1</td>\n",
       "      <td>0</td>\n",
       "      <td>0</td>\n",
       "      <td>0</td>\n",
       "      <td>-0.475559</td>\n",
       "    </tr>\n",
       "    <tr>\n",
       "      <th>2</th>\n",
       "      <td>-0.511608</td>\n",
       "      <td>1</td>\n",
       "      <td>0</td>\n",
       "      <td>0</td>\n",
       "      <td>0</td>\n",
       "      <td>-0.434544</td>\n",
       "    </tr>\n",
       "    <tr>\n",
       "      <th>3</th>\n",
       "      <td>-0.463369</td>\n",
       "      <td>1</td>\n",
       "      <td>0</td>\n",
       "      <td>0</td>\n",
       "      <td>0</td>\n",
       "      <td>-0.410195</td>\n",
       "    </tr>\n",
       "    <tr>\n",
       "      <th>4</th>\n",
       "      <td>-0.487489</td>\n",
       "      <td>1</td>\n",
       "      <td>0</td>\n",
       "      <td>0</td>\n",
       "      <td>0</td>\n",
       "      <td>-0.275284</td>\n",
       "    </tr>\n",
       "    <tr>\n",
       "      <th>...</th>\n",
       "      <td>...</td>\n",
       "      <td>...</td>\n",
       "      <td>...</td>\n",
       "      <td>...</td>\n",
       "      <td>...</td>\n",
       "      <td>...</td>\n",
       "    </tr>\n",
       "    <tr>\n",
       "      <th>58459</th>\n",
       "      <td>-1.464334</td>\n",
       "      <td>0</td>\n",
       "      <td>0</td>\n",
       "      <td>0</td>\n",
       "      <td>1</td>\n",
       "      <td>1.254197</td>\n",
       "    </tr>\n",
       "    <tr>\n",
       "      <th>58460</th>\n",
       "      <td>-1.452275</td>\n",
       "      <td>0</td>\n",
       "      <td>0</td>\n",
       "      <td>0</td>\n",
       "      <td>1</td>\n",
       "      <td>1.148469</td>\n",
       "    </tr>\n",
       "    <tr>\n",
       "      <th>58461</th>\n",
       "      <td>-1.440215</td>\n",
       "      <td>0</td>\n",
       "      <td>0</td>\n",
       "      <td>0</td>\n",
       "      <td>1</td>\n",
       "      <td>1.034979</td>\n",
       "    </tr>\n",
       "    <tr>\n",
       "      <th>58462</th>\n",
       "      <td>-1.440215</td>\n",
       "      <td>0</td>\n",
       "      <td>0</td>\n",
       "      <td>0</td>\n",
       "      <td>1</td>\n",
       "      <td>0.959739</td>\n",
       "    </tr>\n",
       "    <tr>\n",
       "      <th>58463</th>\n",
       "      <td>-1.428155</td>\n",
       "      <td>0</td>\n",
       "      <td>0</td>\n",
       "      <td>0</td>\n",
       "      <td>1</td>\n",
       "      <td>0.950720</td>\n",
       "    </tr>\n",
       "  </tbody>\n",
       "</table>\n",
       "<p>58464 rows × 6 columns</p>\n",
       "</div>"
      ],
      "text/plain": [
       "       NO1_temperature  season_spring  season_summer  season_fall  \\\n",
       "0            -0.644266              1              0            0   \n",
       "1            -0.680446              1              0            0   \n",
       "2            -0.511608              1              0            0   \n",
       "3            -0.463369              1              0            0   \n",
       "4            -0.487489              1              0            0   \n",
       "...                ...            ...            ...          ...   \n",
       "58459        -1.464334              0              0            0   \n",
       "58460        -1.452275              0              0            0   \n",
       "58461        -1.440215              0              0            0   \n",
       "58462        -1.440215              0              0            0   \n",
       "58463        -1.428155              0              0            0   \n",
       "\n",
       "       season_winter  NO1_consumption  \n",
       "0                  0        -0.490278  \n",
       "1                  0        -0.475559  \n",
       "2                  0        -0.434544  \n",
       "3                  0        -0.410195  \n",
       "4                  0        -0.275284  \n",
       "...              ...              ...  \n",
       "58459              1         1.254197  \n",
       "58460              1         1.148469  \n",
       "58461              1         1.034979  \n",
       "58462              1         0.959739  \n",
       "58463              1         0.950720  \n",
       "\n",
       "[58464 rows x 6 columns]"
      ]
     },
     "execution_count": 28,
     "metadata": {},
     "output_type": "execute_result"
    }
   ],
   "source": [
    "data_seasons_NO1_no_timestamp = data_seasons_NO1.drop(columns=['timestamp'])\n",
    "data_seasons_NO1_no_timestamp = data_seasons_NO1_no_timestamp.replace(True, 1)\n",
    "data_seasons_NO1_no_timestamp = data_seasons_NO1_no_timestamp.replace(False, 0)\n",
    "data_seasons_NO1_no_timestamp"
   ]
  },
  {
   "cell_type": "code",
   "execution_count": 29,
   "metadata": {},
   "outputs": [
    {
     "data": {
      "text/html": [
       "<div>\n",
       "<style scoped>\n",
       "    .dataframe tbody tr th:only-of-type {\n",
       "        vertical-align: middle;\n",
       "    }\n",
       "\n",
       "    .dataframe tbody tr th {\n",
       "        vertical-align: top;\n",
       "    }\n",
       "\n",
       "    .dataframe thead th {\n",
       "        text-align: right;\n",
       "    }\n",
       "</style>\n",
       "<table border=\"1\" class=\"dataframe\">\n",
       "  <thead>\n",
       "    <tr style=\"text-align: right;\">\n",
       "      <th></th>\n",
       "      <th>NO1_temperature</th>\n",
       "      <th>season_spring</th>\n",
       "      <th>season_summer</th>\n",
       "      <th>season_fall</th>\n",
       "      <th>season_winter</th>\n",
       "    </tr>\n",
       "  </thead>\n",
       "  <tbody>\n",
       "    <tr>\n",
       "      <th>0</th>\n",
       "      <td>-0.644266</td>\n",
       "      <td>1</td>\n",
       "      <td>0</td>\n",
       "      <td>0</td>\n",
       "      <td>0</td>\n",
       "    </tr>\n",
       "    <tr>\n",
       "      <th>1</th>\n",
       "      <td>-0.680446</td>\n",
       "      <td>1</td>\n",
       "      <td>0</td>\n",
       "      <td>0</td>\n",
       "      <td>0</td>\n",
       "    </tr>\n",
       "    <tr>\n",
       "      <th>2</th>\n",
       "      <td>-0.511608</td>\n",
       "      <td>1</td>\n",
       "      <td>0</td>\n",
       "      <td>0</td>\n",
       "      <td>0</td>\n",
       "    </tr>\n",
       "    <tr>\n",
       "      <th>3</th>\n",
       "      <td>-0.463369</td>\n",
       "      <td>1</td>\n",
       "      <td>0</td>\n",
       "      <td>0</td>\n",
       "      <td>0</td>\n",
       "    </tr>\n",
       "    <tr>\n",
       "      <th>4</th>\n",
       "      <td>-0.487489</td>\n",
       "      <td>1</td>\n",
       "      <td>0</td>\n",
       "      <td>0</td>\n",
       "      <td>0</td>\n",
       "    </tr>\n",
       "    <tr>\n",
       "      <th>...</th>\n",
       "      <td>...</td>\n",
       "      <td>...</td>\n",
       "      <td>...</td>\n",
       "      <td>...</td>\n",
       "      <td>...</td>\n",
       "    </tr>\n",
       "    <tr>\n",
       "      <th>58459</th>\n",
       "      <td>-1.464334</td>\n",
       "      <td>0</td>\n",
       "      <td>0</td>\n",
       "      <td>0</td>\n",
       "      <td>1</td>\n",
       "    </tr>\n",
       "    <tr>\n",
       "      <th>58460</th>\n",
       "      <td>-1.452275</td>\n",
       "      <td>0</td>\n",
       "      <td>0</td>\n",
       "      <td>0</td>\n",
       "      <td>1</td>\n",
       "    </tr>\n",
       "    <tr>\n",
       "      <th>58461</th>\n",
       "      <td>-1.440215</td>\n",
       "      <td>0</td>\n",
       "      <td>0</td>\n",
       "      <td>0</td>\n",
       "      <td>1</td>\n",
       "    </tr>\n",
       "    <tr>\n",
       "      <th>58462</th>\n",
       "      <td>-1.440215</td>\n",
       "      <td>0</td>\n",
       "      <td>0</td>\n",
       "      <td>0</td>\n",
       "      <td>1</td>\n",
       "    </tr>\n",
       "    <tr>\n",
       "      <th>58463</th>\n",
       "      <td>-1.428155</td>\n",
       "      <td>0</td>\n",
       "      <td>0</td>\n",
       "      <td>0</td>\n",
       "      <td>1</td>\n",
       "    </tr>\n",
       "  </tbody>\n",
       "</table>\n",
       "<p>58464 rows × 5 columns</p>\n",
       "</div>"
      ],
      "text/plain": [
       "       NO1_temperature  season_spring  season_summer  season_fall  \\\n",
       "0            -0.644266              1              0            0   \n",
       "1            -0.680446              1              0            0   \n",
       "2            -0.511608              1              0            0   \n",
       "3            -0.463369              1              0            0   \n",
       "4            -0.487489              1              0            0   \n",
       "...                ...            ...            ...          ...   \n",
       "58459        -1.464334              0              0            0   \n",
       "58460        -1.452275              0              0            0   \n",
       "58461        -1.440215              0              0            0   \n",
       "58462        -1.440215              0              0            0   \n",
       "58463        -1.428155              0              0            0   \n",
       "\n",
       "       season_winter  \n",
       "0                  0  \n",
       "1                  0  \n",
       "2                  0  \n",
       "3                  0  \n",
       "4                  0  \n",
       "...              ...  \n",
       "58459              1  \n",
       "58460              1  \n",
       "58461              1  \n",
       "58462              1  \n",
       "58463              1  \n",
       "\n",
       "[58464 rows x 5 columns]"
      ]
     },
     "execution_count": 29,
     "metadata": {},
     "output_type": "execute_result"
    }
   ],
   "source": [
    "df_X_train_NO1 = data_seasons_NO1_no_timestamp.drop(columns=['NO1_consumption'])\n",
    "df_y_train_NO1 = data_seasons_NO1_no_timestamp.drop(columns=[ c for c in data_seasons_NO1_no_timestamp.columns if c not in ['NO1_consumption']])\n",
    "df_X_train_NO1"
   ]
  },
  {
   "cell_type": "code",
   "execution_count": 30,
   "metadata": {},
   "outputs": [
    {
     "data": {
      "text/html": [
       "<div>\n",
       "<style scoped>\n",
       "    .dataframe tbody tr th:only-of-type {\n",
       "        vertical-align: middle;\n",
       "    }\n",
       "\n",
       "    .dataframe tbody tr th {\n",
       "        vertical-align: top;\n",
       "    }\n",
       "\n",
       "    .dataframe thead th {\n",
       "        text-align: right;\n",
       "    }\n",
       "</style>\n",
       "<table border=\"1\" class=\"dataframe\">\n",
       "  <thead>\n",
       "    <tr style=\"text-align: right;\">\n",
       "      <th></th>\n",
       "      <th>NO1_consumption</th>\n",
       "    </tr>\n",
       "  </thead>\n",
       "  <tbody>\n",
       "    <tr>\n",
       "      <th>0</th>\n",
       "      <td>-0.490278</td>\n",
       "    </tr>\n",
       "    <tr>\n",
       "      <th>1</th>\n",
       "      <td>-0.475559</td>\n",
       "    </tr>\n",
       "    <tr>\n",
       "      <th>2</th>\n",
       "      <td>-0.434544</td>\n",
       "    </tr>\n",
       "    <tr>\n",
       "      <th>3</th>\n",
       "      <td>-0.410195</td>\n",
       "    </tr>\n",
       "    <tr>\n",
       "      <th>4</th>\n",
       "      <td>-0.275284</td>\n",
       "    </tr>\n",
       "    <tr>\n",
       "      <th>...</th>\n",
       "      <td>...</td>\n",
       "    </tr>\n",
       "    <tr>\n",
       "      <th>58459</th>\n",
       "      <td>1.254197</td>\n",
       "    </tr>\n",
       "    <tr>\n",
       "      <th>58460</th>\n",
       "      <td>1.148469</td>\n",
       "    </tr>\n",
       "    <tr>\n",
       "      <th>58461</th>\n",
       "      <td>1.034979</td>\n",
       "    </tr>\n",
       "    <tr>\n",
       "      <th>58462</th>\n",
       "      <td>0.959739</td>\n",
       "    </tr>\n",
       "    <tr>\n",
       "      <th>58463</th>\n",
       "      <td>0.950720</td>\n",
       "    </tr>\n",
       "  </tbody>\n",
       "</table>\n",
       "<p>58464 rows × 1 columns</p>\n",
       "</div>"
      ],
      "text/plain": [
       "       NO1_consumption\n",
       "0            -0.490278\n",
       "1            -0.475559\n",
       "2            -0.434544\n",
       "3            -0.410195\n",
       "4            -0.275284\n",
       "...                ...\n",
       "58459         1.254197\n",
       "58460         1.148469\n",
       "58461         1.034979\n",
       "58462         0.959739\n",
       "58463         0.950720\n",
       "\n",
       "[58464 rows x 1 columns]"
      ]
     },
     "execution_count": 30,
     "metadata": {},
     "output_type": "execute_result"
    }
   ],
   "source": [
    "df_y_train_NO1"
   ]
  },
  {
   "cell_type": "code",
   "execution_count": 31,
   "metadata": {},
   "outputs": [],
   "source": [
    "X_NO1 = torch.tensor(df_X_train_NO1[df_X_train_NO1.columns].values, dtype=torch.float32)\n",
    "y_NO1 = torch.tensor(df_y_train_NO1[df_y_train_NO1.columns].values, dtype=torch.float32)"
   ]
  },
  {
   "cell_type": "code",
   "execution_count": 111,
   "metadata": {},
   "outputs": [],
   "source": [
    "X_train_NO1 = X_NO1 # [:len(X_NO1) // 2]\n",
    "y_train_NO1 = y_NO1 # [:len(y_NO1) // 2]"
   ]
  },
  {
   "cell_type": "code",
   "execution_count": 113,
   "metadata": {},
   "outputs": [],
   "source": [
    "ffn = FeedForwardNetwork(input_size=X_train_NO1.shape[1])"
   ]
  },
  {
   "cell_type": "code",
   "execution_count": 114,
   "metadata": {},
   "outputs": [],
   "source": [
    "lr = 0.01\n",
    "epochs = 100"
   ]
  },
  {
   "cell_type": "code",
   "execution_count": 115,
   "metadata": {},
   "outputs": [],
   "source": [
    "loss_func = nn.MSELoss()\n",
    "optimizer = optim.Adam(ffn.parameters(), lr=0.01)"
   ]
  },
  {
   "cell_type": "code",
   "execution_count": 130,
   "metadata": {},
   "outputs": [],
   "source": [
    "\n",
    "def fit(x_train, y_train, model, loss_func, optimizer, epochs=10):\n",
    "    losses = []\n",
    "    for epoch in tqdm(range(epochs)):\n",
    "        pred = model(x_train)\n",
    "        loss = loss_func(pred, y_train)\n",
    "        losses.append(loss.detach().numpy())\n",
    "        optimizer.zero_grad()\n",
    "        loss.backward()\n",
    "\n",
    "        optimizer.step()\n",
    "\n",
    "    return losses"
   ]
  },
  {
   "cell_type": "code",
   "execution_count": 117,
   "metadata": {},
   "outputs": [],
   "source": [
    "# X_train = torch.from_numpy(X_train_NO1)\n",
    "# X_train[0, 0], X_train[0, 1]\n",
    "# y_train = torch.from_numpy(y_train_NO1.reshape(-1))"
   ]
  },
  {
   "cell_type": "code",
   "execution_count": 118,
   "metadata": {},
   "outputs": [],
   "source": [
    "X_train = X_train_NO1\n",
    "y_train = y_train_NO1"
   ]
  },
  {
   "cell_type": "code",
   "execution_count": 131,
   "metadata": {},
   "outputs": [
    {
     "name": "stderr",
     "output_type": "stream",
     "text": [
      "100%|██████████| 100/100 [00:00<00:00, 257.61it/s]\n"
     ]
    }
   ],
   "source": [
    "# ffn.to(torch.float64)\n",
    "losses = fit(X_train, y_train, ffn, loss_func, optimizer, epochs=100)"
   ]
  },
  {
   "cell_type": "code",
   "execution_count": 132,
   "metadata": {},
   "outputs": [
    {
     "data": {
      "text/plain": [
       "[<matplotlib.lines.Line2D at 0x29b0fed10>]"
      ]
     },
     "execution_count": 132,
     "metadata": {},
     "output_type": "execute_result"
    },
    {
     "data": {
      "image/png": "[encoded data removed]",
      "text/plain": [
       "<Figure size 640x480 with 1 Axes>"
      ]
     },
     "metadata": {},
     "output_type": "display_data"
    }
   ],
   "source": [
    "# losses[0]\n",
    "plt.plot(losses)"
   ]
  },
  {
   "cell_type": "code",
   "execution_count": 133,
   "metadata": {},
   "outputs": [
    {
     "data": {
      "text/plain": [
       "torch.Size([58464, 5])"
      ]
     },
     "execution_count": 133,
     "metadata": {},
     "output_type": "execute_result"
    }
   ],
   "source": [
    "X_train.shape"
   ]
  },
  {
   "cell_type": "code",
   "execution_count": 134,
   "metadata": {},
   "outputs": [],
   "source": [
    "# X_train[:, 1].sum(), X_train[:, 2].sum(), X_train[:, 3].sum(), X_train[:, 4].sum()"
   ]
  },
  {
   "cell_type": "code",
   "execution_count": 135,
   "metadata": {},
   "outputs": [
    {
     "data": {
      "text/plain": [
       "torch.Size([58464, 1])"
      ]
     },
     "execution_count": 135,
     "metadata": {},
     "output_type": "execute_result"
    }
   ],
   "source": [
    "y_NO1.shape"
   ]
  },
  {
   "cell_type": "code",
   "execution_count": 165,
   "metadata": {},
   "outputs": [],
   "source": [
    "X_test = X_NO1[len(scaled_data) // 2:6 * len(scaled_data) // 10]\n",
    "y_test = y_NO1[len(scaled_data) // 2:6 * len(scaled_data) // 10]\n",
    "# X_test = torch.from_numpy(X_test_NO1)\n",
    "# y_test = torch.from_numpy(y_test_NO1.reshape(-1))\n",
    "\n",
    "pred_test = ffn(X_test)"
   ]
  },
  {
   "cell_type": "code",
   "execution_count": 166,
   "metadata": {},
   "outputs": [
    {
     "data": {
      "text/plain": [
       "<matplotlib.legend.Legend at 0x29f46e380>"
      ]
     },
     "execution_count": 166,
     "metadata": {},
     "output_type": "execute_result"
    },
    {
     "data": {
      "image/png": "[encoded data removed]",
      "text/plain": [
       "<Figure size 640x480 with 1 Axes>"
      ]
     },
     "metadata": {},
     "output_type": "display_data"
    }
   ],
   "source": [
    "plt.plot(pred_test.detach().numpy(), label='pred')\n",
    "plt.plot(y_test.detach().numpy(), label='target')\n",
    "plt.legend()"
   ]
  },
  {
   "cell_type": "code",
   "execution_count": 167,
   "metadata": {},
   "outputs": [
    {
     "data": {
      "text/plain": [
       "<matplotlib.legend.Legend at 0x29f4a3fd0>"
      ]
     },
     "execution_count": 167,
     "metadata": {},
     "output_type": "execute_result"
    },
    {
     "data": {
      "image/png": "[encoded data removed]",
      "text/plain": [
       "<Figure size 640x480 with 1 Axes>"
      ]
     },
     "metadata": {},
     "output_type": "display_data"
    }
   ],
   "source": [
    "plt.plot(y_test.detach().numpy() - pred_test.detach().numpy(), label='error')\n",
    "plt.legend()"
   ]
  },
  {
   "cell_type": "code",
   "execution_count": 168,
   "metadata": {},
   "outputs": [],
   "source": [
    "seq_dim = 72"
   ]
  },
  {
   "cell_type": "code",
   "execution_count": 169,
   "metadata": {},
   "outputs": [],
   "source": [
    "len_pred = 24 + 100"
   ]
  },
  {
   "cell_type": "code",
   "execution_count": 204,
   "metadata": {},
   "outputs": [
    {
     "data": {
      "text/html": [
       "<div>\n",
       "<style scoped>\n",
       "    .dataframe tbody tr th:only-of-type {\n",
       "        vertical-align: middle;\n",
       "    }\n",
       "\n",
       "    .dataframe tbody tr th {\n",
       "        vertical-align: top;\n",
       "    }\n",
       "\n",
       "    .dataframe thead th {\n",
       "        text-align: right;\n",
       "    }\n",
       "</style>\n",
       "<table border=\"1\" class=\"dataframe\">\n",
       "  <thead>\n",
       "    <tr style=\"text-align: right;\">\n",
       "      <th></th>\n",
       "      <th>timestamp</th>\n",
       "      <th>NO1_consumption</th>\n",
       "      <th>NO1_temperature</th>\n",
       "      <th>NO2_consumption</th>\n",
       "      <th>NO2_temperature</th>\n",
       "      <th>NO3_consumption</th>\n",
       "      <th>NO3_temperature</th>\n",
       "      <th>NO4_consumption</th>\n",
       "      <th>NO4_temperature</th>\n",
       "      <th>NO5_consumption</th>\n",
       "      <th>NO5_temperature</th>\n",
       "      <th>season_fall</th>\n",
       "      <th>season_spring</th>\n",
       "      <th>season_summer</th>\n",
       "      <th>season_winter</th>\n",
       "    </tr>\n",
       "  </thead>\n",
       "  <tbody>\n",
       "    <tr>\n",
       "      <th>43776</th>\n",
       "      <td>2022-04-29 00:00:00+00:00</td>\n",
       "      <td>3013.492067</td>\n",
       "      <td>6.4</td>\n",
       "      <td>3615.296941</td>\n",
       "      <td>5.7</td>\n",
       "      <td>3105.267791</td>\n",
       "      <td>0.5</td>\n",
       "      <td>2271.111525</td>\n",
       "      <td>-3.8</td>\n",
       "      <td>1582.885382</td>\n",
       "      <td>6.9</td>\n",
       "      <td>False</td>\n",
       "      <td>True</td>\n",
       "      <td>False</td>\n",
       "      <td>False</td>\n",
       "    </tr>\n",
       "    <tr>\n",
       "      <th>43777</th>\n",
       "      <td>2022-04-29 01:00:00+00:00</td>\n",
       "      <td>3019.167135</td>\n",
       "      <td>5.5</td>\n",
       "      <td>3618.892866</td>\n",
       "      <td>5.0</td>\n",
       "      <td>3107.300761</td>\n",
       "      <td>0.6</td>\n",
       "      <td>2300.348632</td>\n",
       "      <td>-3.3</td>\n",
       "      <td>1557.749586</td>\n",
       "      <td>6.6</td>\n",
       "      <td>False</td>\n",
       "      <td>True</td>\n",
       "      <td>False</td>\n",
       "      <td>False</td>\n",
       "    </tr>\n",
       "    <tr>\n",
       "      <th>43778</th>\n",
       "      <td>2022-04-29 02:00:00+00:00</td>\n",
       "      <td>3066.283324</td>\n",
       "      <td>5.0</td>\n",
       "      <td>3653.847960</td>\n",
       "      <td>3.3</td>\n",
       "      <td>3115.326680</td>\n",
       "      <td>1.3</td>\n",
       "      <td>2298.961351</td>\n",
       "      <td>-3.7</td>\n",
       "      <td>1561.116235</td>\n",
       "      <td>6.6</td>\n",
       "      <td>False</td>\n",
       "      <td>True</td>\n",
       "      <td>False</td>\n",
       "      <td>False</td>\n",
       "    </tr>\n",
       "    <tr>\n",
       "      <th>43779</th>\n",
       "      <td>2022-04-29 03:00:00+00:00</td>\n",
       "      <td>3167.085943</td>\n",
       "      <td>4.8</td>\n",
       "      <td>3743.718010</td>\n",
       "      <td>2.8</td>\n",
       "      <td>3084.318628</td>\n",
       "      <td>1.3</td>\n",
       "      <td>2294.753633</td>\n",
       "      <td>-3.8</td>\n",
       "      <td>1582.091229</td>\n",
       "      <td>6.6</td>\n",
       "      <td>False</td>\n",
       "      <td>True</td>\n",
       "      <td>False</td>\n",
       "      <td>False</td>\n",
       "    </tr>\n",
       "    <tr>\n",
       "      <th>43780</th>\n",
       "      <td>2022-04-29 04:00:00+00:00</td>\n",
       "      <td>3531.231895</td>\n",
       "      <td>4.8</td>\n",
       "      <td>3984.479089</td>\n",
       "      <td>2.3</td>\n",
       "      <td>3227.162118</td>\n",
       "      <td>1.8</td>\n",
       "      <td>2379.613315</td>\n",
       "      <td>-3.0</td>\n",
       "      <td>1664.296855</td>\n",
       "      <td>6.2</td>\n",
       "      <td>False</td>\n",
       "      <td>True</td>\n",
       "      <td>False</td>\n",
       "      <td>False</td>\n",
       "    </tr>\n",
       "    <tr>\n",
       "      <th>...</th>\n",
       "      <td>...</td>\n",
       "      <td>...</td>\n",
       "      <td>...</td>\n",
       "      <td>...</td>\n",
       "      <td>...</td>\n",
       "      <td>...</td>\n",
       "      <td>...</td>\n",
       "      <td>...</td>\n",
       "      <td>...</td>\n",
       "      <td>...</td>\n",
       "      <td>...</td>\n",
       "      <td>...</td>\n",
       "      <td>...</td>\n",
       "      <td>...</td>\n",
       "      <td>...</td>\n",
       "    </tr>\n",
       "    <tr>\n",
       "      <th>58459</th>\n",
       "      <td>2023-12-31 19:00:00+00:00</td>\n",
       "      <td>5608.067736</td>\n",
       "      <td>-4.7</td>\n",
       "      <td>4962.057148</td>\n",
       "      <td>4.1</td>\n",
       "      <td>3837.204332</td>\n",
       "      <td>-3.7</td>\n",
       "      <td>2806.182692</td>\n",
       "      <td>-6.5</td>\n",
       "      <td>2224.449164</td>\n",
       "      <td>6.3</td>\n",
       "      <td>False</td>\n",
       "      <td>False</td>\n",
       "      <td>False</td>\n",
       "      <td>True</td>\n",
       "    </tr>\n",
       "    <tr>\n",
       "      <th>58460</th>\n",
       "      <td>2023-12-31 20:00:00+00:00</td>\n",
       "      <td>5469.722792</td>\n",
       "      <td>-4.6</td>\n",
       "      <td>4864.162484</td>\n",
       "      <td>4.7</td>\n",
       "      <td>3773.021260</td>\n",
       "      <td>-3.6</td>\n",
       "      <td>2764.928700</td>\n",
       "      <td>-6.4</td>\n",
       "      <td>2175.957992</td>\n",
       "      <td>6.3</td>\n",
       "      <td>False</td>\n",
       "      <td>False</td>\n",
       "      <td>False</td>\n",
       "      <td>True</td>\n",
       "    </tr>\n",
       "    <tr>\n",
       "      <th>58461</th>\n",
       "      <td>2023-12-31 21:00:00+00:00</td>\n",
       "      <td>5321.221040</td>\n",
       "      <td>-4.5</td>\n",
       "      <td>4793.361440</td>\n",
       "      <td>4.6</td>\n",
       "      <td>3725.022064</td>\n",
       "      <td>-4.2</td>\n",
       "      <td>2738.213476</td>\n",
       "      <td>-6.4</td>\n",
       "      <td>2137.724404</td>\n",
       "      <td>6.2</td>\n",
       "      <td>False</td>\n",
       "      <td>False</td>\n",
       "      <td>False</td>\n",
       "      <td>True</td>\n",
       "    </tr>\n",
       "    <tr>\n",
       "      <th>58462</th>\n",
       "      <td>2023-12-31 22:00:00+00:00</td>\n",
       "      <td>5222.770756</td>\n",
       "      <td>-4.5</td>\n",
       "      <td>4742.807424</td>\n",
       "      <td>4.6</td>\n",
       "      <td>3668.956000</td>\n",
       "      <td>-4.2</td>\n",
       "      <td>2699.056760</td>\n",
       "      <td>-6.5</td>\n",
       "      <td>2110.928436</td>\n",
       "      <td>5.7</td>\n",
       "      <td>False</td>\n",
       "      <td>False</td>\n",
       "      <td>False</td>\n",
       "      <td>True</td>\n",
       "    </tr>\n",
       "    <tr>\n",
       "      <th>58463</th>\n",
       "      <td>2023-12-31 23:00:00+00:00</td>\n",
       "      <td>5210.969016</td>\n",
       "      <td>-4.4</td>\n",
       "      <td>4719.826460</td>\n",
       "      <td>4.4</td>\n",
       "      <td>3657.079824</td>\n",
       "      <td>-4.0</td>\n",
       "      <td>2696.672540</td>\n",
       "      <td>-6.6</td>\n",
       "      <td>2100.524368</td>\n",
       "      <td>5.7</td>\n",
       "      <td>False</td>\n",
       "      <td>False</td>\n",
       "      <td>False</td>\n",
       "      <td>True</td>\n",
       "    </tr>\n",
       "  </tbody>\n",
       "</table>\n",
       "<p>14688 rows × 15 columns</p>\n",
       "</div>"
      ],
      "text/plain": [
       "                      timestamp  NO1_consumption  NO1_temperature  \\\n",
       "43776 2022-04-29 00:00:00+00:00      3013.492067              6.4   \n",
       "43777 2022-04-29 01:00:00+00:00      3019.167135              5.5   \n",
       "43778 2022-04-29 02:00:00+00:00      3066.283324              5.0   \n",
       "43779 2022-04-29 03:00:00+00:00      3167.085943              4.8   \n",
       "43780 2022-04-29 04:00:00+00:00      3531.231895              4.8   \n",
       "...                         ...              ...              ...   \n",
       "58459 2023-12-31 19:00:00+00:00      5608.067736             -4.7   \n",
       "58460 2023-12-31 20:00:00+00:00      5469.722792             -4.6   \n",
       "58461 2023-12-31 21:00:00+00:00      5321.221040             -4.5   \n",
       "58462 2023-12-31 22:00:00+00:00      5222.770756             -4.5   \n",
       "58463 2023-12-31 23:00:00+00:00      5210.969016             -4.4   \n",
       "\n",
       "       NO2_consumption  NO2_temperature  NO3_consumption  NO3_temperature  \\\n",
       "43776      3615.296941              5.7      3105.267791              0.5   \n",
       "43777      3618.892866              5.0      3107.300761              0.6   \n",
       "43778      3653.847960              3.3      3115.326680              1.3   \n",
       "43779      3743.718010              2.8      3084.318628              1.3   \n",
       "43780      3984.479089              2.3      3227.162118              1.8   \n",
       "...                ...              ...              ...              ...   \n",
       "58459      4962.057148              4.1      3837.204332             -3.7   \n",
       "58460      4864.162484              4.7      3773.021260             -3.6   \n",
       "58461      4793.361440              4.6      3725.022064             -4.2   \n",
       "58462      4742.807424              4.6      3668.956000             -4.2   \n",
       "58463      4719.826460              4.4      3657.079824             -4.0   \n",
       "\n",
       "       NO4_consumption  NO4_temperature  NO5_consumption  NO5_temperature  \\\n",
       "43776      2271.111525             -3.8      1582.885382              6.9   \n",
       "43777      2300.348632             -3.3      1557.749586              6.6   \n",
       "43778      2298.961351             -3.7      1561.116235              6.6   \n",
       "43779      2294.753633             -3.8      1582.091229              6.6   \n",
       "43780      2379.613315             -3.0      1664.296855              6.2   \n",
       "...                ...              ...              ...              ...   \n",
       "58459      2806.182692             -6.5      2224.449164              6.3   \n",
       "58460      2764.928700             -6.4      2175.957992              6.3   \n",
       "58461      2738.213476             -6.4      2137.724404              6.2   \n",
       "58462      2699.056760             -6.5      2110.928436              5.7   \n",
       "58463      2696.672540             -6.6      2100.524368              5.7   \n",
       "\n",
       "       season_fall  season_spring  season_summer  season_winter  \n",
       "43776        False           True          False          False  \n",
       "43777        False           True          False          False  \n",
       "43778        False           True          False          False  \n",
       "43779        False           True          False          False  \n",
       "43780        False           True          False          False  \n",
       "...            ...            ...            ...            ...  \n",
       "58459        False          False          False           True  \n",
       "58460        False          False          False           True  \n",
       "58461        False          False          False           True  \n",
       "58462        False          False          False           True  \n",
       "58463        False          False          False           True  \n",
       "\n",
       "[14688 rows x 15 columns]"
      ]
     },
     "execution_count": 204,
     "metadata": {},
     "output_type": "execute_result"
    }
   ],
   "source": [
    "data_seasons[43776:]"
   ]
  },
  {
   "cell_type": "code",
   "execution_count": 170,
   "metadata": {},
   "outputs": [],
   "source": [
    "start = 3 * len(scaled_data) // 4 - seq_dim\n",
    "end = 3 * len(scaled_data) // 4 + len_pred - 1\n",
    "X_test = X_NO1[start:end]\n",
    "y_test = y_NO1[start:end]\n",
    "\n",
    "pred_test = ffn(X_test)"
   ]
  },
  {
   "cell_type": "code",
   "execution_count": 203,
   "metadata": {},
   "outputs": [
    {
     "data": {
      "text/plain": [
       "(43776, 43971)"
      ]
     },
     "execution_count": 203,
     "metadata": {},
     "output_type": "execute_result"
    }
   ],
   "source": [
    "start, end"
   ]
  },
  {
   "cell_type": "code",
   "execution_count": 171,
   "metadata": {},
   "outputs": [],
   "source": [
    "from copy import copy\n",
    "target = copy(y_test)"
   ]
  },
  {
   "cell_type": "code",
   "execution_count": 172,
   "metadata": {},
   "outputs": [
    {
     "data": {
      "text/plain": [
       "<matplotlib.legend.Legend at 0x29f53a260>"
      ]
     },
     "execution_count": 172,
     "metadata": {},
     "output_type": "execute_result"
    },
    {
     "data": {
      "image/png": "[encoded data removed]",
      "text/plain": [
       "<Figure size 640x480 with 1 Axes>"
      ]
     },
     "metadata": {},
     "output_type": "display_data"
    }
   ],
   "source": [
    "plt.plot(pred_test.detach().numpy(), label='pred')\n",
    "plt.plot(y_test.detach().numpy(), label='target')\n",
    "plt.legend()"
   ]
  },
  {
   "cell_type": "code",
   "execution_count": 173,
   "metadata": {},
   "outputs": [
    {
     "data": {
      "text/plain": [
       "<matplotlib.legend.Legend at 0x29f5c1f00>"
      ]
     },
     "execution_count": 173,
     "metadata": {},
     "output_type": "execute_result"
    },
    {
     "data": {
      "image/png": "[encoded data removed]",
      "text/plain": [
       "<Figure size 640x480 with 1 Axes>"
      ]
     },
     "metadata": {},
     "output_type": "display_data"
    }
   ],
   "source": [
    "plt.plot(y_test.detach().numpy() - pred_test.detach().numpy(), label='error')\n",
    "plt.legend()"
   ]
  },
  {
   "cell_type": "code",
   "execution_count": 174,
   "metadata": {},
   "outputs": [
    {
     "data": {
      "text/plain": [
       "(torch.Size([58464, 5]),\n",
       " torch.Size([58464, 1]),\n",
       " torch.Size([195, 5]),\n",
       " torch.Size([195, 1]))"
      ]
     },
     "execution_count": 174,
     "metadata": {},
     "output_type": "execute_result"
    }
   ],
   "source": [
    "X_train.shape, y_train.shape, X_test.shape, y_test.shape"
   ]
  },
  {
   "cell_type": "code",
   "execution_count": 175,
   "metadata": {},
   "outputs": [],
   "source": [
    "# X_train.stride()"
   ]
  },
  {
   "cell_type": "code",
   "execution_count": 176,
   "metadata": {},
   "outputs": [],
   "source": [
    "from torch.nn.utils.rnn import pad_sequence\n",
    "\n",
    "def make_sequences(x, y, seq_len=9, dt = 1):\n",
    "    num_samples = x.shape[0]\n",
    "\n",
    "    num_sequences = num_samples - seq_len + 1\n",
    "\n",
    "    sequences = []\n",
    "    targets = []\n",
    "\n",
    "    for i in range(num_sequences):\n",
    "        seq = x[i:i+seq_len]\n",
    "        target = y[i+dt:i+seq_len+dt]\n",
    "        sequences.append(seq)\n",
    "        targets.append(target)\n",
    "\n",
    "    sequences_padded = pad_sequence(sequences, batch_first=True)\n",
    "    targets_padded = pad_sequence(targets, batch_first=True)\n",
    "\n",
    "    sequences_tensor = torch.tensor(sequences_padded, dtype=torch.float32)\n",
    "    targets_tensor = torch.tensor(targets_padded, dtype=torch.float32)\n",
    "    return sequences_tensor, targets_tensor"
   ]
  },
  {
   "cell_type": "code",
   "execution_count": 177,
   "metadata": {},
   "outputs": [],
   "source": [
    "# sequences_tensor.shape"
   ]
  },
  {
   "cell_type": "code",
   "execution_count": 178,
   "metadata": {},
   "outputs": [],
   "source": [
    "X_train = X_train_NO1\n",
    "y_train = y_train_NO1\n",
    "X_test = X_NO1[start:end]\n",
    "y_test = y_NO1[start:end]"
   ]
  },
  {
   "cell_type": "code",
   "execution_count": 179,
   "metadata": {},
   "outputs": [
    {
     "name": "stderr",
     "output_type": "stream",
     "text": [
      "/var/folders/dv/nzlg6jm168311nq7f93wfrd80000gn/T/ipykernel_17829/2951650516.py:20: UserWarning: To copy construct from a tensor, it is recommended to use sourceTensor.clone().detach() or sourceTensor.clone().detach().requires_grad_(True), rather than torch.tensor(sourceTensor).\n",
      "  sequences_tensor = torch.tensor(sequences_padded, dtype=torch.float32)\n",
      "/var/folders/dv/nzlg6jm168311nq7f93wfrd80000gn/T/ipykernel_17829/2951650516.py:21: UserWarning: To copy construct from a tensor, it is recommended to use sourceTensor.clone().detach() or sourceTensor.clone().detach().requires_grad_(True), rather than torch.tensor(sourceTensor).\n",
      "  targets_tensor = torch.tensor(targets_padded, dtype=torch.float32)\n"
     ]
    }
   ],
   "source": [
    "X_train_seq, y_train_seq = make_sequences(X_train, y_train, seq_len=seq_dim)\n",
    "X_test_seq, y_test_seq = make_sequences(X_test, y_test, seq_len=seq_dim)"
   ]
  },
  {
   "cell_type": "code",
   "execution_count": 180,
   "metadata": {},
   "outputs": [],
   "source": [
    "X_train, y_train = X_train_seq, y_train_seq \n",
    "X_test, y_test = X_test_seq, y_test_seq "
   ]
  },
  {
   "cell_type": "code",
   "execution_count": 181,
   "metadata": {},
   "outputs": [
    {
     "data": {
      "text/plain": [
       "torch.Size([124, 72, 1])"
      ]
     },
     "execution_count": 181,
     "metadata": {},
     "output_type": "execute_result"
    }
   ],
   "source": [
    "y_test.shape"
   ]
  },
  {
   "cell_type": "code",
   "execution_count": 182,
   "metadata": {},
   "outputs": [
    {
     "data": {
      "text/plain": [
       "torch.Size([195, 1])"
      ]
     },
     "execution_count": 182,
     "metadata": {},
     "output_type": "execute_result"
    }
   ],
   "source": [
    "target.shape"
   ]
  },
  {
   "cell_type": "code",
   "execution_count": 62,
   "metadata": {},
   "outputs": [
    {
     "data": {
      "text/plain": [
       "72"
      ]
     },
     "execution_count": 62,
     "metadata": {},
     "output_type": "execute_result"
    }
   ],
   "source": [
    "seq_dim"
   ]
  },
  {
   "cell_type": "markdown",
   "metadata": {},
   "source": [
    "### RNN Model"
   ]
  },
  {
   "cell_type": "code",
   "execution_count": 63,
   "metadata": {},
   "outputs": [
    {
     "data": {
      "text/plain": [
       "torch.Size([29161, 72, 5])"
      ]
     },
     "execution_count": 63,
     "metadata": {},
     "output_type": "execute_result"
    }
   ],
   "source": [
    "X_train.shape"
   ]
  },
  {
   "cell_type": "code",
   "execution_count": 64,
   "metadata": {},
   "outputs": [
    {
     "data": {
      "text/plain": [
       "torch.Size([29161, 72, 5])"
      ]
     },
     "execution_count": 64,
     "metadata": {},
     "output_type": "execute_result"
    }
   ],
   "source": [
    "X_train.shape"
   ]
  },
  {
   "cell_type": "code",
   "execution_count": null,
   "metadata": {},
   "outputs": [
    {
     "data": {
      "text/plain": [
       "torch.Size([25, 1, 1])"
      ]
     },
     "execution_count": 69,
     "metadata": {},
     "output_type": "execute_result"
    }
   ],
   "source": [
    "y_test.shape"
   ]
  },
  {
   "cell_type": "code",
   "execution_count": null,
   "metadata": {},
   "outputs": [
    {
     "data": {
      "text/plain": [
       "torch.Size([25, 72, 5])"
      ]
     },
     "execution_count": 70,
     "metadata": {},
     "output_type": "execute_result"
    }
   ],
   "source": [
    "X_test.shape"
   ]
  },
  {
   "cell_type": "code",
   "execution_count": null,
   "metadata": {},
   "outputs": [
    {
     "data": {
      "text/plain": [
       "torch.Size([25, 1, 1])"
      ]
     },
     "execution_count": 71,
     "metadata": {},
     "output_type": "execute_result"
    }
   ],
   "source": [
    "y_test.shape"
   ]
  },
  {
   "cell_type": "code",
   "execution_count": null,
   "metadata": {},
   "outputs": [
    {
     "data": {
      "text/html": [
       "<div>\n",
       "<style scoped>\n",
       "    .dataframe tbody tr th:only-of-type {\n",
       "        vertical-align: middle;\n",
       "    }\n",
       "\n",
       "    .dataframe tbody tr th {\n",
       "        vertical-align: top;\n",
       "    }\n",
       "\n",
       "    .dataframe thead th {\n",
       "        text-align: right;\n",
       "    }\n",
       "</style>\n",
       "<table border=\"1\" class=\"dataframe\">\n",
       "  <thead>\n",
       "    <tr style=\"text-align: right;\">\n",
       "      <th></th>\n",
       "      <th>NO1_consumption</th>\n",
       "    </tr>\n",
       "  </thead>\n",
       "  <tbody>\n",
       "    <tr>\n",
       "      <th>count</th>\n",
       "      <td>5.846400e+04</td>\n",
       "    </tr>\n",
       "    <tr>\n",
       "      <th>mean</th>\n",
       "      <td>-7.194877e-16</td>\n",
       "    </tr>\n",
       "    <tr>\n",
       "      <th>std</th>\n",
       "      <td>1.000009e+00</td>\n",
       "    </tr>\n",
       "    <tr>\n",
       "      <th>min</th>\n",
       "      <td>-1.740096e+00</td>\n",
       "    </tr>\n",
       "    <tr>\n",
       "      <th>25%</th>\n",
       "      <td>-8.225973e-01</td>\n",
       "    </tr>\n",
       "    <tr>\n",
       "      <th>50%</th>\n",
       "      <td>-1.751131e-01</td>\n",
       "    </tr>\n",
       "    <tr>\n",
       "      <th>75%</th>\n",
       "      <td>7.683627e-01</td>\n",
       "    </tr>\n",
       "    <tr>\n",
       "      <th>max</th>\n",
       "      <td>3.027689e+00</td>\n",
       "    </tr>\n",
       "  </tbody>\n",
       "</table>\n",
       "</div>"
      ],
      "text/plain": [
       "       NO1_consumption\n",
       "count     5.846400e+04\n",
       "mean     -7.194877e-16\n",
       "std       1.000009e+00\n",
       "min      -1.740096e+00\n",
       "25%      -8.225973e-01\n",
       "50%      -1.751131e-01\n",
       "75%       7.683627e-01\n",
       "max       3.027689e+00"
      ]
     },
     "execution_count": 85,
     "metadata": {},
     "output_type": "execute_result"
    }
   ],
   "source": [
    "df_y_train_NO1.describe()"
   ]
  },
  {
   "cell_type": "code",
   "execution_count": 67,
   "metadata": {},
   "outputs": [],
   "source": [
    "import torch\n",
    "import torch.nn as nn\n",
    "\n",
    "class LSTM(nn.Module):\n",
    "\n",
    "    def __init__(self, input_size = 1, hidden_size = 1, num_layers = 1):\n",
    "        super().__init__()\n",
    "        self.hidden_size = hidden_size\n",
    "        self.num_layers = num_layers\n",
    "        \n",
    "        self.lstm = nn.LSTM(input_size=input_size, hidden_size=hidden_size, num_layers=num_layers, batch_first=True)\n",
    "        self.linear = nn.Linear(hidden_size, 1)\n",
    "        # self.ffn = nn.Sequential(\n",
    "        #     nn.Linear(hidden_size * seq_len, seq_len),\n",
    "        #     nn.ReLU(),\n",
    "        #     nn.Linear(seq_len, 4),\n",
    "        #     nn.ReLU(),\n",
    "        #     nn.Linear(4, 1)\n",
    "        # )\n",
    "        \n",
    "    def forward(self, x):\n",
    "        batch_size = x.size(0)\n",
    "        h = torch.randn(self.num_layers, batch_size, self.hidden_size) #.requires_grad_()\n",
    "        c = torch.randn(self.num_layers, batch_size, self.hidden_size) #.requires_grad_()\n",
    "\n",
    "        out, (hn, cn) = self.lstm(x, (h, c))\n",
    "        y = self.linear(out)\n",
    "        return y"
   ]
  },
  {
   "cell_type": "code",
   "execution_count": 68,
   "metadata": {},
   "outputs": [
    {
     "data": {
      "text/plain": [
       "72"
      ]
     },
     "execution_count": 68,
     "metadata": {},
     "output_type": "execute_result"
    }
   ],
   "source": [
    "seq_dim"
   ]
  },
  {
   "cell_type": "code",
   "execution_count": 70,
   "metadata": {},
   "outputs": [],
   "source": [
    "input_size = X_train.shape[2]\n",
    "hidden_size = 11\n",
    "num_layers = 3\n",
    "\n",
    "model = LSTM(input_size=input_size, hidden_size=hidden_size, num_layers=num_layers)\n"
   ]
  },
  {
   "cell_type": "code",
   "execution_count": 71,
   "metadata": {},
   "outputs": [],
   "source": [
    "num_epochs = 300\n",
    "loss_func = nn.MSELoss()\n",
    "opt = optim.Adam(model.parameters(), lr=1e-3)"
   ]
  },
  {
   "cell_type": "code",
   "execution_count": 72,
   "metadata": {},
   "outputs": [
    {
     "name": "stderr",
     "output_type": "stream",
     "text": [
      "100%|██████████| 300/300 [12:09<00:00,  2.43s/it]\n"
     ]
    }
   ],
   "source": [
    "model.train()\n",
    " \n",
    "losses = []\n",
    "\n",
    "for epoch in tqdm(range(num_epochs)):\n",
    "    outputs = model(X_train)\n",
    "\n",
    "    loss_ep = loss_func(outputs, y_train)\n",
    "\n",
    "    losses.append(loss_ep)\n",
    "    opt.zero_grad()\n",
    "    loss_ep.backward()\n",
    "    opt.step()"
   ]
  },
  {
   "cell_type": "code",
   "execution_count": 73,
   "metadata": {},
   "outputs": [],
   "source": [
    "losses = [ loss.detach().numpy() for loss in losses ]"
   ]
  },
  {
   "cell_type": "code",
   "execution_count": 75,
   "metadata": {},
   "outputs": [
    {
     "data": {
      "text/plain": [
       "[<matplotlib.lines.Line2D at 0x299489db0>]"
      ]
     },
     "execution_count": 75,
     "metadata": {},
     "output_type": "execute_result"
    },
    {
     "data": {
      "image/png": "[encoded data removed]",
      "text/plain": [
       "<Figure size 640x480 with 1 Axes>"
      ]
     },
     "metadata": {},
     "output_type": "display_data"
    }
   ],
   "source": [
    "plt.plot((losses))"
   ]
  },
  {
   "cell_type": "code",
   "execution_count": 146,
   "metadata": {},
   "outputs": [],
   "source": [
    "model.eval()\n",
    "\n",
    "y_pred = model(X_test).detach().numpy()"
   ]
  },
  {
   "cell_type": "code",
   "execution_count": 193,
   "metadata": {},
   "outputs": [
    {
     "data": {
      "text/plain": [
       "(124, 72, 1)"
      ]
     },
     "execution_count": 193,
     "metadata": {},
     "output_type": "execute_result"
    }
   ],
   "source": [
    "y_pred.shape"
   ]
  },
  {
   "cell_type": "code",
   "execution_count": 147,
   "metadata": {},
   "outputs": [
    {
     "data": {
      "text/plain": [
       "(124, 1)"
      ]
     },
     "execution_count": 147,
     "metadata": {},
     "output_type": "execute_result"
    }
   ],
   "source": [
    "forecast = y_pred[:,-1,:]\n",
    "forecast.shape"
   ]
  },
  {
   "cell_type": "code",
   "execution_count": 199,
   "metadata": {},
   "outputs": [
    {
     "data": {
      "text/plain": [
       "(tensor(0.2001), tensor(0.2362))"
      ]
     },
     "execution_count": 199,
     "metadata": {},
     "output_type": "execute_result"
    }
   ],
   "source": [
    "X_train.mean(), X_test.mean() # , X_val.mean()"
   ]
  },
  {
   "cell_type": "code",
   "execution_count": 155,
   "metadata": {},
   "outputs": [
    {
     "data": {
      "text/plain": [
       "torch.Size([72, 1])"
      ]
     },
     "execution_count": 155,
     "metadata": {},
     "output_type": "execute_result"
    }
   ],
   "source": [
    "# target = y_test[-1,:,:]\n",
    "# target.shape"
   ]
  },
  {
   "cell_type": "code",
   "execution_count": 149,
   "metadata": {},
   "outputs": [],
   "source": [
    "target2 = y_test[:,-1,:]"
   ]
  },
  {
   "cell_type": "code",
   "execution_count": 202,
   "metadata": {},
   "outputs": [
    {
     "data": {
      "text/plain": [
       "torch.Size([124, 72, 1])"
      ]
     },
     "execution_count": 202,
     "metadata": {},
     "output_type": "execute_result"
    }
   ],
   "source": [
    "y_test.shape"
   ]
  },
  {
   "cell_type": "code",
   "execution_count": 194,
   "metadata": {},
   "outputs": [
    {
     "data": {
      "text/plain": [
       "tensor([[[-0.1257,  1.0000,  0.0000,  0.0000,  0.0000],\n",
       "         [-0.2342,  1.0000,  0.0000,  0.0000,  0.0000],\n",
       "         [-0.2945,  1.0000,  0.0000,  0.0000,  0.0000],\n",
       "         ...,\n",
       "         [ 0.1155,  1.0000,  0.0000,  0.0000,  0.0000],\n",
       "         [ 0.0311,  1.0000,  0.0000,  0.0000,  0.0000],\n",
       "         [-0.1498,  1.0000,  0.0000,  0.0000,  0.0000]],\n",
       "\n",
       "        [[-0.2342,  1.0000,  0.0000,  0.0000,  0.0000],\n",
       "         [-0.2945,  1.0000,  0.0000,  0.0000,  0.0000],\n",
       "         [-0.3187,  1.0000,  0.0000,  0.0000,  0.0000],\n",
       "         ...,\n",
       "         [ 0.0311,  1.0000,  0.0000,  0.0000,  0.0000],\n",
       "         [-0.1498,  1.0000,  0.0000,  0.0000,  0.0000],\n",
       "         [-0.2825,  1.0000,  0.0000,  0.0000,  0.0000]],\n",
       "\n",
       "        [[-0.2945,  1.0000,  0.0000,  0.0000,  0.0000],\n",
       "         [-0.3187,  1.0000,  0.0000,  0.0000,  0.0000],\n",
       "         [-0.3187,  1.0000,  0.0000,  0.0000,  0.0000],\n",
       "         ...,\n",
       "         [-0.1498,  1.0000,  0.0000,  0.0000,  0.0000],\n",
       "         [-0.2825,  1.0000,  0.0000,  0.0000,  0.0000],\n",
       "         [-0.3187,  1.0000,  0.0000,  0.0000,  0.0000]],\n",
       "\n",
       "        ...,\n",
       "\n",
       "        [[-0.4151,  1.0000,  0.0000,  0.0000,  0.0000],\n",
       "         [-0.4392,  1.0000,  0.0000,  0.0000,  0.0000],\n",
       "         [-0.4875,  1.0000,  0.0000,  0.0000,  0.0000],\n",
       "         ...,\n",
       "         [ 0.4532,  1.0000,  0.0000,  0.0000,  0.0000],\n",
       "         [ 0.3808,  1.0000,  0.0000,  0.0000,  0.0000],\n",
       "         [ 0.3567,  1.0000,  0.0000,  0.0000,  0.0000]],\n",
       "\n",
       "        [[-0.4392,  1.0000,  0.0000,  0.0000,  0.0000],\n",
       "         [-0.4875,  1.0000,  0.0000,  0.0000,  0.0000],\n",
       "         [-0.4754,  1.0000,  0.0000,  0.0000,  0.0000],\n",
       "         ...,\n",
       "         [ 0.3808,  1.0000,  0.0000,  0.0000,  0.0000],\n",
       "         [ 0.3567,  1.0000,  0.0000,  0.0000,  0.0000],\n",
       "         [ 0.1999,  1.0000,  0.0000,  0.0000,  0.0000]],\n",
       "\n",
       "        [[-0.4875,  1.0000,  0.0000,  0.0000,  0.0000],\n",
       "         [-0.4754,  1.0000,  0.0000,  0.0000,  0.0000],\n",
       "         [-0.4392,  1.0000,  0.0000,  0.0000,  0.0000],\n",
       "         ...,\n",
       "         [ 0.3567,  1.0000,  0.0000,  0.0000,  0.0000],\n",
       "         [ 0.1999,  1.0000,  0.0000,  0.0000,  0.0000],\n",
       "         [ 0.1276,  1.0000,  0.0000,  0.0000,  0.0000]]])"
      ]
     },
     "execution_count": 194,
     "metadata": {},
     "output_type": "execute_result"
    }
   ],
   "source": [
    "X_test"
   ]
  },
  {
   "cell_type": "code",
   "execution_count": 185,
   "metadata": {},
   "outputs": [
    {
     "data": {
      "text/plain": [
       "124"
      ]
     },
     "execution_count": 185,
     "metadata": {},
     "output_type": "execute_result"
    }
   ],
   "source": [
    "len(forecast)"
   ]
  },
  {
   "cell_type": "code",
   "execution_count": 200,
   "metadata": {},
   "outputs": [
    {
     "data": {
      "text/plain": [
       "array([[-0.6202432 ],\n",
       "       [-0.55995667],\n",
       "       [-0.48596513],\n",
       "       [-0.40567088],\n",
       "       [-0.32411516],\n",
       "       [-0.24464111],\n",
       "       [-0.1724116 ],\n",
       "       [-0.11449675],\n",
       "       [-0.08081795],\n",
       "       [-0.07495962],\n",
       "       [-0.09925149],\n",
       "       [-0.14808594],\n",
       "       [-0.2117867 ],\n",
       "       [-0.28292215],\n",
       "       [-0.35564893],\n",
       "       [-0.42567992],\n",
       "       [-0.4900633 ],\n",
       "       [-0.54647493],\n",
       "       [-0.5941112 ],\n",
       "       [-0.6324355 ],\n",
       "       [-0.6584354 ],\n",
       "       [-0.6691864 ],\n",
       "       [-0.6624696 ],\n",
       "       [-0.63826007],\n",
       "       [-0.5960717 ],\n",
       "       [-0.53751695],\n",
       "       [-0.46597075],\n",
       "       [-0.38408542],\n",
       "       [-0.29318857],\n",
       "       [-0.19750254],\n",
       "       [-0.10567068],\n",
       "       [-0.02669929],\n",
       "       [ 0.02767701],\n",
       "       [ 0.05436592],\n",
       "       [ 0.05746081],\n",
       "       [ 0.04230797],\n",
       "       [ 0.00883485],\n",
       "       [-0.03920023],\n",
       "       [-0.09923635],\n",
       "       [-0.16886328],\n",
       "       [-0.24417175],\n",
       "       [-0.31715488],\n",
       "       [-0.3813423 ],\n",
       "       [-0.43122572],\n",
       "       [-0.46181983],\n",
       "       [-0.47258663],\n",
       "       [-0.45961022],\n",
       "       [-0.42344677],\n",
       "       [-0.36689115],\n",
       "       [-0.297436  ],\n",
       "       [-0.223778  ],\n",
       "       [-0.15158899],\n",
       "       [-0.08323322],\n",
       "       [-0.02066778],\n",
       "       [ 0.03413324],\n",
       "       [ 0.07731652],\n",
       "       [ 0.1050074 ],\n",
       "       [ 0.11708643],\n",
       "       [ 0.11539797],\n",
       "       [ 0.09808476],\n",
       "       [ 0.06335282],\n",
       "       [ 0.0106661 ],\n",
       "       [-0.05500017],\n",
       "       [-0.13007952],\n",
       "       [-0.20858653],\n",
       "       [-0.28444076],\n",
       "       [-0.35305303],\n",
       "       [-0.4098422 ],\n",
       "       [-0.4517225 ],\n",
       "       [-0.4777168 ],\n",
       "       [-0.48786068],\n",
       "       [-0.48288316],\n",
       "       [-0.4642973 ],\n",
       "       [-0.43521672],\n",
       "       [-0.3991922 ],\n",
       "       [-0.35893667],\n",
       "       [-0.3155194 ],\n",
       "       [-0.27005738],\n",
       "       [-0.2264312 ],\n",
       "       [-0.18991993],\n",
       "       [-0.16504209],\n",
       "       [-0.15503068],\n",
       "       [-0.16324027],\n",
       "       [-0.19272782],\n",
       "       [-0.24367522],\n",
       "       [-0.31215644],\n",
       "       [-0.3914621 ],\n",
       "       [-0.47597325],\n",
       "       [-0.5594151 ],\n",
       "       [-0.63665974],\n",
       "       [-0.70438784],\n",
       "       [-0.7609391 ],\n",
       "       [-0.8049128 ],\n",
       "       [-0.8355099 ],\n",
       "       [-0.85158074],\n",
       "       [-0.8512783 ],\n",
       "       [-0.8314984 ],\n",
       "       [-0.7885227 ],\n",
       "       [-0.72257364],\n",
       "       [-0.63716066],\n",
       "       [-0.5385623 ],\n",
       "       [-0.43388677],\n",
       "       [-0.3320381 ],\n",
       "       [-0.24630909],\n",
       "       [-0.18858524],\n",
       "       [-0.16135018],\n",
       "       [-0.16483767],\n",
       "       [-0.19700779],\n",
       "       [-0.25405073],\n",
       "       [-0.3293574 ],\n",
       "       [-0.4155625 ],\n",
       "       [-0.5034458 ],\n",
       "       [-0.5852566 ],\n",
       "       [-0.6574278 ],\n",
       "       [-0.71515596],\n",
       "       [-0.7578838 ],\n",
       "       [-0.7862699 ],\n",
       "       [-0.80122817],\n",
       "       [-0.8039186 ],\n",
       "       [-0.7951096 ],\n",
       "       [-0.7755449 ],\n",
       "       [-0.7468705 ],\n",
       "       [-0.7093489 ],\n",
       "       [-0.6640097 ]], dtype=float32)"
      ]
     },
     "execution_count": 200,
     "metadata": {},
     "output_type": "execute_result"
    }
   ],
   "source": [
    "forecast"
   ]
  },
  {
   "cell_type": "code",
   "execution_count": 201,
   "metadata": {},
   "outputs": [
    {
     "data": {
      "text/plain": [
       "tensor([[[-0.1257,  1.0000,  0.0000,  0.0000,  0.0000],\n",
       "         [-0.2342,  1.0000,  0.0000,  0.0000,  0.0000],\n",
       "         [-0.2945,  1.0000,  0.0000,  0.0000,  0.0000],\n",
       "         ...,\n",
       "         [ 0.1155,  1.0000,  0.0000,  0.0000,  0.0000],\n",
       "         [ 0.0311,  1.0000,  0.0000,  0.0000,  0.0000],\n",
       "         [-0.1498,  1.0000,  0.0000,  0.0000,  0.0000]],\n",
       "\n",
       "        [[-0.2342,  1.0000,  0.0000,  0.0000,  0.0000],\n",
       "         [-0.2945,  1.0000,  0.0000,  0.0000,  0.0000],\n",
       "         [-0.3187,  1.0000,  0.0000,  0.0000,  0.0000],\n",
       "         ...,\n",
       "         [ 0.0311,  1.0000,  0.0000,  0.0000,  0.0000],\n",
       "         [-0.1498,  1.0000,  0.0000,  0.0000,  0.0000],\n",
       "         [-0.2825,  1.0000,  0.0000,  0.0000,  0.0000]],\n",
       "\n",
       "        [[-0.2945,  1.0000,  0.0000,  0.0000,  0.0000],\n",
       "         [-0.3187,  1.0000,  0.0000,  0.0000,  0.0000],\n",
       "         [-0.3187,  1.0000,  0.0000,  0.0000,  0.0000],\n",
       "         ...,\n",
       "         [-0.1498,  1.0000,  0.0000,  0.0000,  0.0000],\n",
       "         [-0.2825,  1.0000,  0.0000,  0.0000,  0.0000],\n",
       "         [-0.3187,  1.0000,  0.0000,  0.0000,  0.0000]],\n",
       "\n",
       "        ...,\n",
       "\n",
       "        [[-0.4151,  1.0000,  0.0000,  0.0000,  0.0000],\n",
       "         [-0.4392,  1.0000,  0.0000,  0.0000,  0.0000],\n",
       "         [-0.4875,  1.0000,  0.0000,  0.0000,  0.0000],\n",
       "         ...,\n",
       "         [ 0.4532,  1.0000,  0.0000,  0.0000,  0.0000],\n",
       "         [ 0.3808,  1.0000,  0.0000,  0.0000,  0.0000],\n",
       "         [ 0.3567,  1.0000,  0.0000,  0.0000,  0.0000]],\n",
       "\n",
       "        [[-0.4392,  1.0000,  0.0000,  0.0000,  0.0000],\n",
       "         [-0.4875,  1.0000,  0.0000,  0.0000,  0.0000],\n",
       "         [-0.4754,  1.0000,  0.0000,  0.0000,  0.0000],\n",
       "         ...,\n",
       "         [ 0.3808,  1.0000,  0.0000,  0.0000,  0.0000],\n",
       "         [ 0.3567,  1.0000,  0.0000,  0.0000,  0.0000],\n",
       "         [ 0.1999,  1.0000,  0.0000,  0.0000,  0.0000]],\n",
       "\n",
       "        [[-0.4875,  1.0000,  0.0000,  0.0000,  0.0000],\n",
       "         [-0.4754,  1.0000,  0.0000,  0.0000,  0.0000],\n",
       "         [-0.4392,  1.0000,  0.0000,  0.0000,  0.0000],\n",
       "         ...,\n",
       "         [ 0.3567,  1.0000,  0.0000,  0.0000,  0.0000],\n",
       "         [ 0.1999,  1.0000,  0.0000,  0.0000,  0.0000],\n",
       "         [ 0.1276,  1.0000,  0.0000,  0.0000,  0.0000]]])"
      ]
     },
     "execution_count": 201,
     "metadata": {},
     "output_type": "execute_result"
    }
   ],
   "source": [
    "X_test"
   ]
  },
  {
   "cell_type": "code",
   "execution_count": 187,
   "metadata": {},
   "outputs": [],
   "source": [
    "ax_x_forecast = np.arange(len(target) - len(forecast), len(target))"
   ]
  },
  {
   "cell_type": "code",
   "execution_count": 186,
   "metadata": {},
   "outputs": [
    {
     "data": {
      "text/plain": [
       "array([-52, -51, -50, -49, -48, -47, -46, -45, -44, -43, -42, -41, -40,\n",
       "       -39, -38, -37, -36, -35, -34, -33, -32, -31, -30, -29, -28, -27,\n",
       "       -26, -25, -24, -23, -22, -21, -20, -19, -18, -17, -16, -15, -14,\n",
       "       -13, -12, -11, -10,  -9,  -8,  -7,  -6,  -5,  -4,  -3,  -2,  -1,\n",
       "         0,   1,   2,   3,   4,   5,   6,   7,   8,   9,  10,  11,  12,\n",
       "        13,  14,  15,  16,  17,  18,  19,  20,  21,  22,  23,  24,  25,\n",
       "        26,  27,  28,  29,  30,  31,  32,  33,  34,  35,  36,  37,  38,\n",
       "        39,  40,  41,  42,  43,  44,  45,  46,  47,  48,  49,  50,  51,\n",
       "        52,  53,  54,  55,  56,  57,  58,  59,  60,  61,  62,  63,  64,\n",
       "        65,  66,  67,  68,  69,  70,  71])"
      ]
     },
     "execution_count": 186,
     "metadata": {},
     "output_type": "execute_result"
    }
   ],
   "source": [
    "ax_x_forecast"
   ]
  },
  {
   "cell_type": "code",
   "execution_count": 188,
   "metadata": {},
   "outputs": [
    {
     "data": {
      "text/plain": [
       "<matplotlib.legend.Legend at 0x29f6eac50>"
      ]
     },
     "execution_count": 188,
     "metadata": {},
     "output_type": "execute_result"
    },
    {
     "data": {
      "image/png": "[encoded data removed]",
      "text/plain": [
       "<Figure size 640x480 with 1 Axes>"
      ]
     },
     "metadata": {},
     "output_type": "display_data"
    }
   ],
   "source": [
    "plt.plot(target, label=\"target\")\n",
    "plt.plot(ax_x_forecast, forecast, label='pred')\n",
    "plt.legend()\n"
   ]
  },
  {
   "cell_type": "code",
   "execution_count": 156,
   "metadata": {},
   "outputs": [
    {
     "data": {
      "text/plain": [
       "<matplotlib.legend.Legend at 0x171c82260>"
      ]
     },
     "execution_count": 156,
     "metadata": {},
     "output_type": "execute_result"
    },
    {
     "data": {
      "image/png": "[encoded data removed]",
      "text/plain": [
       "<Figure size 640x480 with 1 Axes>"
      ]
     },
     "metadata": {},
     "output_type": "display_data"
    }
   ],
   "source": [
    "plt.plot(forecast, label='pred')\n",
    "plt.plot(target2, label='target')\n",
    "plt.legend()"
   ]
  },
  {
   "cell_type": "code",
   "execution_count": null,
   "metadata": {},
   "outputs": [
    {
     "name": "stderr",
     "output_type": "stream",
     "text": [
      "/var/folders/dv/nzlg6jm168311nq7f93wfrd80000gn/T/ipykernel_22118/2497325168.py:1: UserWarning: To copy construct from a tensor, it is recommended to use sourceTensor.clone().detach() or sourceTensor.clone().detach().requires_grad_(True), rather than torch.tensor(sourceTensor).\n",
      "  torch.tensor(y_test).size()\n"
     ]
    },
    {
     "data": {
      "text/plain": [
       "torch.Size([25, 1, 1])"
      ]
     },
     "execution_count": 205,
     "metadata": {},
     "output_type": "execute_result"
    }
   ],
   "source": [
    "torch.tensor(y_test).size()"
   ]
  },
  {
   "cell_type": "code",
   "execution_count": null,
   "metadata": {},
   "outputs": [
    {
     "data": {
      "text/plain": [
       "numpy.ndarray"
      ]
     },
     "execution_count": 204,
     "metadata": {},
     "output_type": "execute_result"
    }
   ],
   "source": [
    "type(y_pred)"
   ]
  },
  {
   "cell_type": "code",
   "execution_count": 190,
   "metadata": {},
   "outputs": [
    {
     "data": {
      "text/plain": [
       "'0.114071354'"
      ]
     },
     "execution_count": 190,
     "metadata": {},
     "output_type": "execute_result"
    }
   ],
   "source": [
    "str(loss_func(torch.tensor(y_pred), y_test).detach().numpy())"
   ]
  },
  {
   "cell_type": "code",
   "execution_count": 189,
   "metadata": {},
   "outputs": [],
   "source": [
    "path = f'models/LSTM-{str(datetime.now().date())}-loss-{str(loss_func(torch.tensor(y_pred), y_test).detach().numpy())}'"
   ]
  },
  {
   "cell_type": "code",
   "execution_count": 191,
   "metadata": {},
   "outputs": [],
   "source": [
    "torch.save(model.state_dict(), path)"
   ]
  },
  {
   "cell_type": "code",
   "execution_count": null,
   "metadata": {},
   "outputs": [
    {
     "data": {
      "text/plain": [
       "LSTM(\n",
       "  (lstm): LSTM(5, 11, num_layers=3, batch_first=True)\n",
       "  (linear): Linear(in_features=792, out_features=1, bias=True)\n",
       "  (ffn): Sequential(\n",
       "    (0): Linear(in_features=792, out_features=72, bias=True)\n",
       "    (1): ReLU()\n",
       "    (2): Linear(in_features=72, out_features=4, bias=True)\n",
       "    (3): ReLU()\n",
       "    (4): Linear(in_features=4, out_features=1, bias=True)\n",
       "  )\n",
       ")"
      ]
     },
     "execution_count": 215,
     "metadata": {},
     "output_type": "execute_result"
    }
   ],
   "source": [
    "model = LSTM(input_size=input_size, hidden_size=hidden_size, num_layers=num_layers, seq_len=seq_dim)\n",
    "model.load_state_dict(torch.load(path))\n",
    "model.eval()"
   ]
  },
  {
   "cell_type": "code",
   "execution_count": null,
   "metadata": {},
   "outputs": [],
   "source": []
  }
 ],
 "metadata": {
  "kernelspec": {
   "display_name": "mlsolar",
   "language": "python",
   "name": "python3"
  },
  "language_info": {
   "codemirror_mode": {
    "name": "ipython",
    "version": 3
   },
   "file_extension": ".py",
   "mimetype": "text/x-python",
   "name": "python",
   "nbconvert_exporter": "python",
   "pygments_lexer": "ipython3",
   "version": "3.10.11"
  }
 },
 "nbformat": 4,
 "nbformat_minor": 2
}
