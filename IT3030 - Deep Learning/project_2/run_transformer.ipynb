{
 "cells": [
  {
   "cell_type": "code",
   "execution_count": 1,
   "metadata": {},
   "outputs": [],
   "source": [
    "import pandas as pd\n",
    "import numpy as np\n",
    "from matplotlib import pyplot as plt\n",
    "import torch\n",
    "import torch.nn as nn\n",
    "import torch.optim as optim\n",
    "import scipy\n",
    "import seaborn as sns\n",
    "from datetime import datetime, timedelta\n",
    "\n",
    "from tqdm import tqdm\n",
    "\n",
    "from sklearn.preprocessing import StandardScaler, MinMaxScaler, PolynomialFeatures"
   ]
  },
  {
   "cell_type": "code",
   "execution_count": 2,
   "metadata": {},
   "outputs": [],
   "source": [
    "from transformer import Transformer\n",
    "from preprocessing import *\n",
    "from utils import *\n",
    "from features import *"
   ]
  },
  {
   "cell_type": "code",
   "execution_count": 3,
   "metadata": {},
   "outputs": [],
   "source": [
    "if torch.backends.mps.is_available():\n",
    "    device = torch.device(\"mps\")"
   ]
  },
  {
   "cell_type": "code",
   "execution_count": 4,
   "metadata": {},
   "outputs": [
    {
     "data": {
      "text/plain": [
       "True"
      ]
     },
     "execution_count": 4,
     "metadata": {},
     "output_type": "execute_result"
    }
   ],
   "source": [
    "torch.backends.mps.is_macos13_or_newer()"
   ]
  },
  {
   "cell_type": "code",
   "execution_count": 5,
   "metadata": {},
   "outputs": [],
   "source": [
    "torch.mps.set_per_process_memory_fraction(.0)"
   ]
  },
  {
   "cell_type": "code",
   "execution_count": 6,
   "metadata": {},
   "outputs": [
    {
     "data": {
      "text/plain": [
       "(393216, 0)"
      ]
     },
     "execution_count": 6,
     "metadata": {},
     "output_type": "execute_result"
    }
   ],
   "source": [
    "torch.mps.driver_allocated_memory(), torch.mps.current_allocated_memory()"
   ]
  },
  {
   "cell_type": "code",
   "execution_count": 7,
   "metadata": {},
   "outputs": [],
   "source": [
    "torch.mps.profiler.start()"
   ]
  },
  {
   "cell_type": "code",
   "execution_count": 8,
   "metadata": {},
   "outputs": [],
   "source": [
    "raw_data = pd.read_csv('consumption_and_temperatures.csv')\n",
    "raw_data['timestamp'] = pd.to_datetime(raw_data['timestamp'])"
   ]
  },
  {
   "cell_type": "code",
   "execution_count": 9,
   "metadata": {},
   "outputs": [],
   "source": [
    "seq_len = 48\n",
    "scale_output=True\n",
    "target_column = 'NO1_consumption'"
   ]
  },
  {
   "cell_type": "code",
   "execution_count": 10,
   "metadata": {},
   "outputs": [],
   "source": [
    "features_to_add = [\n",
    "    (   \n",
    "        pick_location_data,\n",
    "        { 'loc': [1] }\n",
    "    ),\n",
    "    (\n",
    "        add_season_columns, \n",
    "        {}\n",
    "    ),\n",
    "    # (\n",
    "    #     shift_data, \n",
    "    #     {\n",
    "    #         \"shift_max\": 10,\n",
    "    #         \"column_to_shift\": \"NO1_temperature\",\n",
    "    #         \"new_column_name\": \"temp\"\n",
    "    #     }\n",
    "    # ),\n",
    "    (\n",
    "        shift_data, \n",
    "        {   \n",
    "            \"shift_min\": 24,\n",
    "            \"shift_max\": 24,\n",
    "            \"column_to_shift\": \"NO1_consumption\",\n",
    "            \"new_column_name\": \"consum\"\n",
    "        },\n",
    "    ),\n",
    "    # (\n",
    "    #     change_timestamp_to_sin,\n",
    "    #     {}\n",
    "    # ),\n",
    "    (\n",
    "        add_hour_columns,\n",
    "        {}\n",
    "    )\n",
    "]"
   ]
  },
  {
   "cell_type": "code",
   "execution_count": 11,
   "metadata": {},
   "outputs": [
    {
     "name": "stdout",
     "output_type": "stream",
     "text": [
      "(<function pick_location_data at 0x16a6013f0>, {'loc': [1]})\n",
      "(<function add_season_columns at 0x16a601240>, {})\n",
      "(<function shift_data at 0x16a601480>, {'shift_min': 24, 'shift_max': 24, 'column_to_shift': 'NO1_consumption', 'new_column_name': 'consum'})\n",
      "(<function add_hour_columns at 0x16a6012d0>, {})\n"
     ]
    }
   ],
   "source": [
    "for feature in features_to_add:\n",
    "    print(feature)"
   ]
  },
  {
   "cell_type": "code",
   "execution_count": 12,
   "metadata": {},
   "outputs": [],
   "source": [
    "forecast_len=24"
   ]
  },
  {
   "cell_type": "code",
   "execution_count": 13,
   "metadata": {},
   "outputs": [
    {
     "name": "stdout",
     "output_type": "stream",
     "text": [
      "FEATURES:\n",
      " Index(['NO1_temperature', 'season_fall', 'season_spring', 'season_summer',\n",
      "       'season_winter', 'consum_24_previous', 'hour_0', 'hour_1', 'hour_2',\n",
      "       'hour_3', 'hour_4', 'hour_5', 'hour_6', 'hour_7', 'hour_8', 'hour_9',\n",
      "       'hour_10', 'hour_11', 'hour_12', 'hour_13', 'hour_14', 'hour_15',\n",
      "       'hour_16', 'hour_17', 'hour_18', 'hour_19', 'hour_20', 'hour_21',\n",
      "       'hour_22', 'hour_23'],\n",
      "      dtype='object')\n"
     ]
    },
    {
     "name": "stderr",
     "output_type": "stream",
     "text": [
      "/Users/arthurtestard/ntnu_code/deep_learning/project_2/preprocessing.py:114: SettingWithCopyWarning: \n",
      "A value is trying to be set on a copy of a slice from a DataFrame.\n",
      "Try using .loc[row_indexer,col_indexer] = value instead\n",
      "\n",
      "See the caveats in the documentation: https://pandas.pydata.org/pandas-docs/stable/user_guide/indexing.html#returning-a-view-versus-a-copy\n",
      "  X_train[features_to_scale] = scalerInputMethod.fit_transform(X_train[features_to_scale].values) if not is_scaler_fitted else  scalerInputMethod.transform(X_train[features_to_scale].values)\n",
      "/Users/arthurtestard/envs/ntnu/mlsolar/lib/python3.10/site-packages/sklearn/base.py:458: UserWarning: X has feature names, but StandardScaler was fitted without feature names\n",
      "  warnings.warn(\n",
      "/Users/arthurtestard/ntnu_code/deep_learning/project_2/preprocessing.py:115: SettingWithCopyWarning: \n",
      "A value is trying to be set on a copy of a slice from a DataFrame.\n",
      "Try using .loc[row_indexer,col_indexer] = value instead\n",
      "\n",
      "See the caveats in the documentation: https://pandas.pydata.org/pandas-docs/stable/user_guide/indexing.html#returning-a-view-versus-a-copy\n",
      "  X_val[features_to_scale] = scalerInputMethod.transform(X_val[features_to_scale])\n",
      "/Users/arthurtestard/envs/ntnu/mlsolar/lib/python3.10/site-packages/sklearn/base.py:458: UserWarning: X has feature names, but StandardScaler was fitted without feature names\n",
      "  warnings.warn(\n",
      "/Users/arthurtestard/ntnu_code/deep_learning/project_2/preprocessing.py:116: SettingWithCopyWarning: \n",
      "A value is trying to be set on a copy of a slice from a DataFrame.\n",
      "Try using .loc[row_indexer,col_indexer] = value instead\n",
      "\n",
      "See the caveats in the documentation: https://pandas.pydata.org/pandas-docs/stable/user_guide/indexing.html#returning-a-view-versus-a-copy\n",
      "  X_test[features_to_scale] = scalerInputMethod.transform(X_test[features_to_scale])\n",
      "/Users/arthurtestard/ntnu_code/deep_learning/project_2/preprocessing.py:120: SettingWithCopyWarning: \n",
      "A value is trying to be set on a copy of a slice from a DataFrame.\n",
      "Try using .loc[row_indexer,col_indexer] = value instead\n",
      "\n",
      "See the caveats in the documentation: https://pandas.pydata.org/pandas-docs/stable/user_guide/indexing.html#returning-a-view-versus-a-copy\n",
      "  Y_train[[target_column]] = scalerOutputMethod.fit_transform(Y_train[[target_column]])\n",
      "/Users/arthurtestard/ntnu_code/deep_learning/project_2/preprocessing.py:121: SettingWithCopyWarning: \n",
      "A value is trying to be set on a copy of a slice from a DataFrame.\n",
      "Try using .loc[row_indexer,col_indexer] = value instead\n",
      "\n",
      "See the caveats in the documentation: https://pandas.pydata.org/pandas-docs/stable/user_guide/indexing.html#returning-a-view-versus-a-copy\n",
      "  Y_test[[target_column]] = scalerOutputMethod.transform(Y_test[[target_column]])\n",
      "/Users/arthurtestard/ntnu_code/deep_learning/project_2/preprocessing.py:122: SettingWithCopyWarning: \n",
      "A value is trying to be set on a copy of a slice from a DataFrame.\n",
      "Try using .loc[row_indexer,col_indexer] = value instead\n",
      "\n",
      "See the caveats in the documentation: https://pandas.pydata.org/pandas-docs/stable/user_guide/indexing.html#returning-a-view-versus-a-copy\n",
      "  Y_val[[target_column]] = scalerOutputMethod.transform(Y_val[[target_column]])\n",
      "/Users/arthurtestard/ntnu_code/deep_learning/project_2/preprocessing.py:34: UserWarning: To copy construct from a tensor, it is recommended to use sourceTensor.clone().detach() or sourceTensor.clone().detach().requires_grad_(True), rather than torch.tensor(sourceTensor).\n",
      "  sequences_tensor = torch.tensor(sequences_padded, dtype=torch.float32)\n",
      "/Users/arthurtestard/ntnu_code/deep_learning/project_2/preprocessing.py:35: UserWarning: To copy construct from a tensor, it is recommended to use sourceTensor.clone().detach() or sourceTensor.clone().detach().requires_grad_(True), rather than torch.tensor(sourceTensor).\n",
      "  targets_tensor = torch.tensor(targets_padded, dtype=torch.float32)\n"
     ]
    }
   ],
   "source": [
    "(X_train, y_train), (X_val, y_val), (X_test, y_test), (scalerInputMethod, scalerOutputMethod), (df_target, time_delta_shifting) = general_preprocessing(\n",
    "        raw_data, \n",
    "        features_to_add=features_to_add,\n",
    "        seq_len=seq_len,\n",
    "        forecast_len=forecast_len,\n",
    "        # test_start_index=len(raw_data) * 3 //4,\n",
    "        scale_output=scale_output\n",
    "    )"
   ]
  },
  {
   "cell_type": "code",
   "execution_count": 14,
   "metadata": {},
   "outputs": [
    {
     "data": {
      "text/plain": [
       "(tensor([[[-0.5622,  0.0000,  1.0000,  ...,  0.0000,  0.0000,  0.0000],\n",
       "          [-0.6348,  0.0000,  1.0000,  ...,  0.0000,  0.0000,  0.0000],\n",
       "          [-0.6348,  0.0000,  1.0000,  ...,  0.0000,  0.0000,  0.0000],\n",
       "          ...,\n",
       "          [ 0.3446,  0.0000,  1.0000,  ...,  1.0000,  0.0000,  0.0000],\n",
       "          [ 0.3204,  0.0000,  1.0000,  ...,  0.0000,  1.0000,  0.0000],\n",
       "          [ 0.2841,  0.0000,  1.0000,  ...,  0.0000,  0.0000,  1.0000]],\n",
       " \n",
       "         [[-0.6348,  0.0000,  1.0000,  ...,  0.0000,  0.0000,  0.0000],\n",
       "          [-0.6348,  0.0000,  1.0000,  ...,  0.0000,  0.0000,  0.0000],\n",
       "          [-0.7073,  0.0000,  1.0000,  ...,  0.0000,  0.0000,  0.0000],\n",
       "          ...,\n",
       "          [ 0.3204,  0.0000,  1.0000,  ...,  0.0000,  1.0000,  0.0000],\n",
       "          [ 0.2841,  0.0000,  1.0000,  ...,  0.0000,  0.0000,  1.0000],\n",
       "          [ 0.2237,  0.0000,  1.0000,  ...,  0.0000,  0.0000,  0.0000]],\n",
       " \n",
       "         [[-0.6348,  0.0000,  1.0000,  ...,  0.0000,  0.0000,  0.0000],\n",
       "          [-0.7073,  0.0000,  1.0000,  ...,  0.0000,  0.0000,  0.0000],\n",
       "          [-0.6831,  0.0000,  1.0000,  ...,  0.0000,  0.0000,  0.0000],\n",
       "          ...,\n",
       "          [ 0.2841,  0.0000,  1.0000,  ...,  0.0000,  0.0000,  1.0000],\n",
       "          [ 0.2237,  0.0000,  1.0000,  ...,  0.0000,  0.0000,  0.0000],\n",
       "          [ 0.1874,  0.0000,  1.0000,  ...,  0.0000,  0.0000,  0.0000]],\n",
       " \n",
       "         ...,\n",
       " \n",
       "         [[-2.0011,  0.0000,  0.0000,  ...,  0.0000,  0.0000,  0.0000],\n",
       "          [-1.8922,  0.0000,  0.0000,  ...,  0.0000,  0.0000,  0.0000],\n",
       "          [-1.7351,  0.0000,  0.0000,  ...,  0.0000,  0.0000,  0.0000],\n",
       "          ...,\n",
       "          [-1.0821,  0.0000,  0.0000,  ...,  0.0000,  0.0000,  0.0000],\n",
       "          [-1.0942,  0.0000,  0.0000,  ...,  0.0000,  0.0000,  0.0000],\n",
       "          [-1.1063,  0.0000,  0.0000,  ...,  0.0000,  0.0000,  0.0000]],\n",
       " \n",
       "         [[-1.8922,  0.0000,  0.0000,  ...,  0.0000,  0.0000,  0.0000],\n",
       "          [-1.7351,  0.0000,  0.0000,  ...,  0.0000,  0.0000,  0.0000],\n",
       "          [-1.5779,  0.0000,  0.0000,  ...,  0.0000,  0.0000,  0.0000],\n",
       "          ...,\n",
       "          [-1.0942,  0.0000,  0.0000,  ...,  0.0000,  0.0000,  0.0000],\n",
       "          [-1.1063,  0.0000,  0.0000,  ...,  0.0000,  0.0000,  0.0000],\n",
       "          [-1.1063,  0.0000,  0.0000,  ...,  0.0000,  0.0000,  0.0000]],\n",
       " \n",
       "         [[-1.7351,  0.0000,  0.0000,  ...,  0.0000,  0.0000,  0.0000],\n",
       "          [-1.5779,  0.0000,  0.0000,  ...,  0.0000,  0.0000,  0.0000],\n",
       "          [-1.5537,  0.0000,  0.0000,  ...,  0.0000,  0.0000,  0.0000],\n",
       "          ...,\n",
       "          [-1.1063,  0.0000,  0.0000,  ...,  0.0000,  0.0000,  0.0000],\n",
       "          [-1.1063,  0.0000,  0.0000,  ...,  0.0000,  0.0000,  0.0000],\n",
       "          [-1.0942,  0.0000,  0.0000,  ...,  0.0000,  0.0000,  0.0000]]],\n",
       "        device='mps:0'),\n",
       " tensor([[[-0.6140],\n",
       "          [-0.5827],\n",
       "          [-0.5221],\n",
       "          ...,\n",
       "          [-0.6737],\n",
       "          [-0.8457],\n",
       "          [-0.9392]],\n",
       " \n",
       "         [[-0.5827],\n",
       "          [-0.5221],\n",
       "          [-0.4075],\n",
       "          ...,\n",
       "          [-0.8457],\n",
       "          [-0.9392],\n",
       "          [-0.9742]],\n",
       " \n",
       "         [[-0.5221],\n",
       "          [-0.4075],\n",
       "          [-0.0202],\n",
       "          ...,\n",
       "          [-0.9392],\n",
       "          [-0.9742],\n",
       "          [-0.9349]],\n",
       " \n",
       "         ...,\n",
       " \n",
       "         [[ 1.8472],\n",
       "          [ 1.8147],\n",
       "          [ 1.7740],\n",
       "          ...,\n",
       "          [ 0.9477],\n",
       "          [ 1.0806],\n",
       "          [ 1.2202]],\n",
       " \n",
       "         [[ 1.8147],\n",
       "          [ 1.7740],\n",
       "          [ 1.7845],\n",
       "          ...,\n",
       "          [ 1.0806],\n",
       "          [ 1.2202],\n",
       "          [ 1.2654]],\n",
       " \n",
       "         [[ 1.7740],\n",
       "          [ 1.7845],\n",
       "          [ 1.8561],\n",
       "          ...,\n",
       "          [ 1.2202],\n",
       "          [ 1.2654],\n",
       "          [ 1.2545]]], device='mps:0'),\n",
       " tensor([[[-1.7351,  0.0000,  0.0000,  ...,  0.0000,  0.0000,  0.0000],\n",
       "          [-1.5779,  0.0000,  0.0000,  ...,  0.0000,  0.0000,  0.0000],\n",
       "          [-1.5537,  0.0000,  0.0000,  ...,  0.0000,  0.0000,  0.0000],\n",
       "          ...,\n",
       "          [-1.1063,  0.0000,  0.0000,  ...,  0.0000,  0.0000,  0.0000],\n",
       "          [-1.1063,  0.0000,  0.0000,  ...,  0.0000,  0.0000,  0.0000],\n",
       "          [-1.0942,  0.0000,  0.0000,  ...,  0.0000,  0.0000,  0.0000]],\n",
       " \n",
       "         [[-1.5779,  0.0000,  0.0000,  ...,  0.0000,  0.0000,  0.0000],\n",
       "          [-1.5537,  0.0000,  0.0000,  ...,  0.0000,  0.0000,  0.0000],\n",
       "          [-1.5416,  0.0000,  0.0000,  ...,  0.0000,  0.0000,  0.0000],\n",
       "          ...,\n",
       "          [-1.1063,  0.0000,  0.0000,  ...,  0.0000,  0.0000,  0.0000],\n",
       "          [-1.0942,  0.0000,  0.0000,  ...,  0.0000,  0.0000,  0.0000],\n",
       "          [-1.1184,  0.0000,  0.0000,  ...,  0.0000,  0.0000,  0.0000]],\n",
       " \n",
       "         [[-1.5537,  0.0000,  0.0000,  ...,  0.0000,  0.0000,  0.0000],\n",
       "          [-1.5416,  0.0000,  0.0000,  ...,  0.0000,  0.0000,  0.0000],\n",
       "          [-1.5174,  0.0000,  0.0000,  ...,  0.0000,  0.0000,  0.0000],\n",
       "          ...,\n",
       "          [-1.0942,  0.0000,  0.0000,  ...,  0.0000,  0.0000,  0.0000],\n",
       "          [-1.1184,  0.0000,  0.0000,  ...,  0.0000,  0.0000,  0.0000],\n",
       "          [-1.1305,  0.0000,  0.0000,  ...,  0.0000,  0.0000,  0.0000]],\n",
       " \n",
       "         ...,\n",
       " \n",
       "         [[ 0.1390,  0.0000,  1.0000,  ...,  0.0000,  0.0000,  0.0000],\n",
       "          [ 0.2358,  0.0000,  1.0000,  ...,  0.0000,  0.0000,  0.0000],\n",
       "          [ 0.2116,  0.0000,  1.0000,  ...,  0.0000,  0.0000,  0.0000],\n",
       "          ...,\n",
       "          [-0.4050,  0.0000,  1.0000,  ...,  0.0000,  0.0000,  0.0000],\n",
       "          [-0.1632,  0.0000,  1.0000,  ...,  0.0000,  0.0000,  0.0000],\n",
       "          [-0.0060,  0.0000,  1.0000,  ...,  0.0000,  0.0000,  0.0000]],\n",
       " \n",
       "         [[ 0.2358,  0.0000,  1.0000,  ...,  0.0000,  0.0000,  0.0000],\n",
       "          [ 0.2116,  0.0000,  1.0000,  ...,  0.0000,  0.0000,  0.0000],\n",
       "          [ 0.2962,  0.0000,  1.0000,  ...,  0.0000,  0.0000,  0.0000],\n",
       "          ...,\n",
       "          [-0.1632,  0.0000,  1.0000,  ...,  0.0000,  0.0000,  0.0000],\n",
       "          [-0.0060,  0.0000,  1.0000,  ...,  0.0000,  0.0000,  0.0000],\n",
       "          [ 0.2479,  0.0000,  1.0000,  ...,  0.0000,  0.0000,  0.0000]],\n",
       " \n",
       "         [[ 0.2116,  0.0000,  1.0000,  ...,  0.0000,  0.0000,  0.0000],\n",
       "          [ 0.2962,  0.0000,  1.0000,  ...,  0.0000,  0.0000,  0.0000],\n",
       "          [ 0.3083,  0.0000,  1.0000,  ...,  0.0000,  0.0000,  0.0000],\n",
       "          ...,\n",
       "          [-0.0060,  0.0000,  1.0000,  ...,  0.0000,  0.0000,  0.0000],\n",
       "          [ 0.2479,  0.0000,  1.0000,  ...,  0.0000,  0.0000,  0.0000],\n",
       "          [ 0.4413,  0.0000,  1.0000,  ...,  0.0000,  0.0000,  0.0000]]],\n",
       "        device='mps:0'),\n",
       " tensor([[[ 1.7740e+00],\n",
       "          [ 1.7845e+00],\n",
       "          [ 1.8561e+00],\n",
       "          ...,\n",
       "          [ 1.2202e+00],\n",
       "          [ 1.2654e+00],\n",
       "          [ 1.2545e+00]],\n",
       " \n",
       "         [[ 1.7845e+00],\n",
       "          [ 1.8561e+00],\n",
       "          [ 1.8775e+00],\n",
       "          ...,\n",
       "          [ 1.2654e+00],\n",
       "          [ 1.2545e+00],\n",
       "          [ 1.2649e+00]],\n",
       " \n",
       "         [[ 1.8561e+00],\n",
       "          [ 1.8775e+00],\n",
       "          [ 1.8008e+00],\n",
       "          ...,\n",
       "          [ 1.2545e+00],\n",
       "          [ 1.2649e+00],\n",
       "          [ 1.3211e+00]],\n",
       " \n",
       "         ...,\n",
       " \n",
       "         [[-5.2246e-01],\n",
       "          [-5.6404e-01],\n",
       "          [-5.9980e-01],\n",
       "          ...,\n",
       "          [ 9.7816e-02],\n",
       "          [ 6.9467e-04],\n",
       "          [-1.2663e-01]],\n",
       " \n",
       "         [[-5.6404e-01],\n",
       "          [-5.9980e-01],\n",
       "          [-6.1114e-01],\n",
       "          ...,\n",
       "          [ 6.9467e-04],\n",
       "          [-1.2663e-01],\n",
       "          [-1.8412e-01]],\n",
       " \n",
       "         [[-5.9980e-01],\n",
       "          [-6.1114e-01],\n",
       "          [-6.0812e-01],\n",
       "          ...,\n",
       "          [-1.2663e-01],\n",
       "          [-1.8412e-01],\n",
       "          [-2.1321e-01]]], device='mps:0'),\n",
       " tensor([[[ 0.2116,  0.0000,  1.0000,  ...,  0.0000,  0.0000,  0.0000],\n",
       "          [ 0.2962,  0.0000,  1.0000,  ...,  0.0000,  0.0000,  0.0000],\n",
       "          [ 0.3083,  0.0000,  1.0000,  ...,  0.0000,  0.0000,  0.0000],\n",
       "          ...,\n",
       "          [-0.0060,  0.0000,  1.0000,  ...,  0.0000,  0.0000,  0.0000],\n",
       "          [ 0.2479,  0.0000,  1.0000,  ...,  0.0000,  0.0000,  0.0000],\n",
       "          [ 0.4413,  0.0000,  1.0000,  ...,  0.0000,  0.0000,  0.0000]],\n",
       " \n",
       "         [[ 0.2962,  0.0000,  1.0000,  ...,  0.0000,  0.0000,  0.0000],\n",
       "          [ 0.3083,  0.0000,  1.0000,  ...,  0.0000,  0.0000,  0.0000],\n",
       "          [ 0.2841,  0.0000,  1.0000,  ...,  0.0000,  0.0000,  0.0000],\n",
       "          ...,\n",
       "          [ 0.2479,  0.0000,  1.0000,  ...,  0.0000,  0.0000,  0.0000],\n",
       "          [ 0.4413,  0.0000,  1.0000,  ...,  0.0000,  0.0000,  0.0000],\n",
       "          [ 0.4292,  0.0000,  1.0000,  ...,  0.0000,  0.0000,  0.0000]],\n",
       " \n",
       "         [[ 0.3083,  0.0000,  1.0000,  ...,  0.0000,  0.0000,  0.0000],\n",
       "          [ 0.2841,  0.0000,  1.0000,  ...,  0.0000,  0.0000,  0.0000],\n",
       "          [ 0.2721,  0.0000,  1.0000,  ...,  0.0000,  0.0000,  0.0000],\n",
       "          ...,\n",
       "          [ 0.4413,  0.0000,  1.0000,  ...,  0.0000,  0.0000,  0.0000],\n",
       "          [ 0.4292,  0.0000,  1.0000,  ...,  0.0000,  0.0000,  0.0000],\n",
       "          [ 0.4413,  0.0000,  1.0000,  ...,  0.0000,  0.0000,  0.0000]],\n",
       " \n",
       "         ...,\n",
       " \n",
       "         [[-1.6867,  0.0000,  0.0000,  ...,  0.0000,  1.0000,  0.0000],\n",
       "          [-1.5900,  0.0000,  0.0000,  ...,  0.0000,  0.0000,  1.0000],\n",
       "          [-1.5174,  0.0000,  0.0000,  ...,  0.0000,  0.0000,  0.0000],\n",
       "          ...,\n",
       "          [-1.4932,  0.0000,  0.0000,  ...,  0.0000,  0.0000,  0.0000],\n",
       "          [-1.4812,  0.0000,  0.0000,  ...,  0.0000,  0.0000,  0.0000],\n",
       "          [-1.4691,  0.0000,  0.0000,  ...,  1.0000,  0.0000,  0.0000]],\n",
       " \n",
       "         [[-1.5900,  0.0000,  0.0000,  ...,  0.0000,  0.0000,  1.0000],\n",
       "          [-1.5174,  0.0000,  0.0000,  ...,  0.0000,  0.0000,  0.0000],\n",
       "          [-1.4691,  0.0000,  0.0000,  ...,  0.0000,  0.0000,  0.0000],\n",
       "          ...,\n",
       "          [-1.4812,  0.0000,  0.0000,  ...,  0.0000,  0.0000,  0.0000],\n",
       "          [-1.4691,  0.0000,  0.0000,  ...,  1.0000,  0.0000,  0.0000],\n",
       "          [-1.4691,  0.0000,  0.0000,  ...,  0.0000,  1.0000,  0.0000]],\n",
       " \n",
       "         [[-1.5174,  0.0000,  0.0000,  ...,  0.0000,  0.0000,  0.0000],\n",
       "          [-1.4691,  0.0000,  0.0000,  ...,  0.0000,  0.0000,  0.0000],\n",
       "          [-1.4691,  0.0000,  0.0000,  ...,  0.0000,  0.0000,  0.0000],\n",
       "          ...,\n",
       "          [-1.4691,  0.0000,  0.0000,  ...,  1.0000,  0.0000,  0.0000],\n",
       "          [-1.4691,  0.0000,  0.0000,  ...,  0.0000,  1.0000,  0.0000],\n",
       "          [-1.4570,  0.0000,  0.0000,  ...,  0.0000,  0.0000,  1.0000]]],\n",
       "        device='mps:0'),\n",
       " tensor([[[-0.5998],\n",
       "          [-0.6111],\n",
       "          [-0.6081],\n",
       "          ...,\n",
       "          [-0.1266],\n",
       "          [-0.1841],\n",
       "          [-0.2132]],\n",
       " \n",
       "         [[-0.6111],\n",
       "          [-0.6081],\n",
       "          [-0.6016],\n",
       "          ...,\n",
       "          [-0.1841],\n",
       "          [-0.2132],\n",
       "          [-0.2329]],\n",
       " \n",
       "         [[-0.6081],\n",
       "          [-0.6016],\n",
       "          [-0.5835],\n",
       "          ...,\n",
       "          [-0.2132],\n",
       "          [-0.2329],\n",
       "          [-0.2490]],\n",
       " \n",
       "         ...,\n",
       " \n",
       "         [[ 1.0722],\n",
       "          [ 0.9706],\n",
       "          [ 0.8618],\n",
       "          ...,\n",
       "          [ 1.1842],\n",
       "          [ 1.0805],\n",
       "          [ 0.9691]],\n",
       " \n",
       "         [[ 0.9706],\n",
       "          [ 0.8618],\n",
       "          [ 0.7711],\n",
       "          ...,\n",
       "          [ 1.0805],\n",
       "          [ 0.9691],\n",
       "          [ 0.8953]],\n",
       " \n",
       "         [[ 0.8618],\n",
       "          [ 0.7711],\n",
       "          [ 0.7044],\n",
       "          ...,\n",
       "          [ 0.9691],\n",
       "          [ 0.8953],\n",
       "          [ 0.8864]]], device='mps:0'))"
      ]
     },
     "execution_count": 14,
     "metadata": {},
     "output_type": "execute_result"
    }
   ],
   "source": [
    "X_train.to(device), y_train.to(device), X_val.to(device), y_val.to(device), X_test.to(device), y_test.to(device)"
   ]
  },
  {
   "cell_type": "code",
   "execution_count": 15,
   "metadata": {},
   "outputs": [
    {
     "data": {
      "text/plain": [
       "(torch.Size([40861, 48, 30]), torch.Size([40861, 48, 1]))"
      ]
     },
     "execution_count": 15,
     "metadata": {},
     "output_type": "execute_result"
    }
   ],
   "source": [
    "X_train.shape, y_train.shape"
   ]
  },
  {
   "cell_type": "code",
   "execution_count": 16,
   "metadata": {},
   "outputs": [
    {
     "data": {
      "text/plain": [
       "torch.Size([40861, 48, 30])"
      ]
     },
     "execution_count": 16,
     "metadata": {},
     "output_type": "execute_result"
    }
   ],
   "source": [
    "X_train.shape"
   ]
  },
  {
   "cell_type": "code",
   "execution_count": 17,
   "metadata": {},
   "outputs": [],
   "source": [
    "model = Transformer(input_size=X_train.shape[2], output_size=X_train.shape[1])"
   ]
  },
  {
   "cell_type": "code",
   "execution_count": 18,
   "metadata": {},
   "outputs": [
    {
     "data": {
      "text/plain": [
       "Transformer(\n",
       "  (embedding): Linear(in_features=30, out_features=64, bias=True)\n",
       "  (transformer_encoder): TransformerEncoder(\n",
       "    (layers): ModuleList(\n",
       "      (0-1): 2 x TransformerEncoderLayer(\n",
       "        (self_attn): MultiheadAttention(\n",
       "          (out_proj): NonDynamicallyQuantizableLinear(in_features=64, out_features=64, bias=True)\n",
       "        )\n",
       "        (linear1): Linear(in_features=64, out_features=2048, bias=True)\n",
       "        (dropout): Dropout(p=0.1, inplace=False)\n",
       "        (linear2): Linear(in_features=2048, out_features=64, bias=True)\n",
       "        (norm1): LayerNorm((64,), eps=1e-05, elementwise_affine=True)\n",
       "        (norm2): LayerNorm((64,), eps=1e-05, elementwise_affine=True)\n",
       "        (dropout1): Dropout(p=0.1, inplace=False)\n",
       "        (dropout2): Dropout(p=0.1, inplace=False)\n",
       "      )\n",
       "    )\n",
       "  )\n",
       "  (linear): Linear(in_features=64, out_features=48, bias=True)\n",
       ")"
      ]
     },
     "execution_count": 18,
     "metadata": {},
     "output_type": "execute_result"
    }
   ],
   "source": [
    "model.to(device)"
   ]
  },
  {
   "cell_type": "code",
   "execution_count": 19,
   "metadata": {},
   "outputs": [],
   "source": [
    "lr = 1e-3\n",
    "num_epochs=10"
   ]
  },
  {
   "cell_type": "code",
   "execution_count": 20,
   "metadata": {},
   "outputs": [],
   "source": [
    "loss_func = nn.MSELoss()# .to(device)\n",
    "opt = optim.Adam(model.parameters(), lr=lr)"
   ]
  },
  {
   "cell_type": "code",
   "execution_count": 21,
   "metadata": {},
   "outputs": [
    {
     "name": "stderr",
     "output_type": "stream",
     "text": [
      "  0%|          | 0/10 [00:00<?, ?it/s]"
     ]
    },
    {
     "name": "stdout",
     "output_type": "stream",
     "text": [
      "val loss\n"
     ]
    },
    {
     "name": "stderr",
     "output_type": "stream",
     "text": [
      "/Users/arthurtestard/envs/ntnu/mlsolar/lib/python3.10/site-packages/torch/nn/modules/loss.py:535: UserWarning: Using a target size (torch.Size([11689, 48, 1])) that is different to the input size (torch.Size([11689, 48, 48])). This will likely lead to incorrect results due to broadcasting. Please ensure they have the same size.\n",
      "  return F.mse_loss(input, target, reduction=self.reduction)\n"
     ]
    },
    {
     "name": "stdout",
     "output_type": "stream",
     "text": [
      "output\n",
      "lossep\n",
      "grad\n"
     ]
    },
    {
     "name": "stderr",
     "output_type": "stream",
     "text": [
      "/Users/arthurtestard/envs/ntnu/mlsolar/lib/python3.10/site-packages/torch/nn/modules/loss.py:535: UserWarning: Using a target size (torch.Size([48, 1])) that is different to the input size (torch.Size([48, 48])). This will likely lead to incorrect results due to broadcasting. Please ensure they have the same size.\n",
      "  return F.mse_loss(input, target, reduction=self.reduction)\n"
     ]
    }
   ],
   "source": [
    "model, losses, val_loss, opt = fit(\n",
    "    model, \n",
    "    train_set=(X_train, y_train),\n",
    "    val_set=(X_val, y_val),\n",
    "    opt=opt,\n",
    "    loss_func=loss_func,\n",
    "    num_epochs=num_epochs,\n",
    "    device=device\n",
    ")"
   ]
  },
  {
   "cell_type": "code",
   "execution_count": null,
   "metadata": {},
   "outputs": [],
   "source": [
    "plt.plot(losses, label=\"train loss\")\n",
    "plt.plot(val_loss, label=\"val loss\")\n",
    "plt.legend()"
   ]
  },
  {
   "cell_type": "markdown",
   "metadata": {},
   "source": []
  },
  {
   "cell_type": "code",
   "execution_count": null,
   "metadata": {},
   "outputs": [],
   "source": [
    "y_test, y_pred = predict(model, scalerOutputMethod, (X_test, y_test))"
   ]
  },
  {
   "cell_type": "code",
   "execution_count": null,
   "metadata": {},
   "outputs": [],
   "source": [
    "plot_error_by_hour_for_test_set(y_test, y_pred)"
   ]
  },
  {
   "cell_type": "code",
   "execution_count": null,
   "metadata": {},
   "outputs": [],
   "source": [
    "for k in range(5):\n",
    "    make_forecast(y_pred=y_pred, df_target=df_target, seq_len=seq_len, time_delta_shifting=time_delta_shifting)"
   ]
  },
  {
   "cell_type": "code",
   "execution_count": null,
   "metadata": {},
   "outputs": [],
   "source": []
  }
 ],
 "metadata": {
  "kernelspec": {
   "display_name": "mlsolar",
   "language": "python",
   "name": "python3"
  },
  "language_info": {
   "codemirror_mode": {
    "name": "ipython",
    "version": 3
   },
   "file_extension": ".py",
   "mimetype": "text/x-python",
   "name": "python",
   "nbconvert_exporter": "python",
   "pygments_lexer": "ipython3",
   "version": "3.10.11"
  }
 },
 "nbformat": 4,
 "nbformat_minor": 2
}
