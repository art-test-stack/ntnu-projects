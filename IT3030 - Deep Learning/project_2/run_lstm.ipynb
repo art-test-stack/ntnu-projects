{
 "cells": [
  {
   "cell_type": "code",
   "execution_count": 1,
   "metadata": {},
   "outputs": [],
   "source": [
    "import pandas as pd\n",
    "import numpy as np\n",
    "from matplotlib import pyplot as plt\n",
    "import torch\n",
    "import torch.nn as nn\n",
    "import torch.optim as optim\n",
    "import scipy\n",
    "import seaborn as sns\n",
    "from datetime import datetime, timedelta\n",
    "\n",
    "from tqdm import tqdm\n",
    "\n",
    "from sklearn.preprocessing import StandardScaler, MinMaxScaler, PolynomialFeatures"
   ]
  },
  {
   "cell_type": "code",
   "execution_count": 2,
   "metadata": {},
   "outputs": [],
   "source": [
    "from lstm import LSTM\n",
    "from preprocessing import *\n",
    "from utils import *\n",
    "from features import *"
   ]
  },
  {
   "cell_type": "code",
   "execution_count": 3,
   "metadata": {},
   "outputs": [],
   "source": [
    "raw_data = pd.read_csv('consumption_and_temperatures.csv')\n",
    "raw_data['timestamp'] = pd.to_datetime(raw_data['timestamp'])"
   ]
  },
  {
   "cell_type": "code",
   "execution_count": 4,
   "metadata": {},
   "outputs": [
    {
     "data": {
      "text/html": [
       "<div>\n",
       "<style scoped>\n",
       "    .dataframe tbody tr th:only-of-type {\n",
       "        vertical-align: middle;\n",
       "    }\n",
       "\n",
       "    .dataframe tbody tr th {\n",
       "        vertical-align: top;\n",
       "    }\n",
       "\n",
       "    .dataframe thead th {\n",
       "        text-align: right;\n",
       "    }\n",
       "</style>\n",
       "<table border=\"1\" class=\"dataframe\">\n",
       "  <thead>\n",
       "    <tr style=\"text-align: right;\">\n",
       "      <th></th>\n",
       "      <th>timestamp</th>\n",
       "      <th>NO1_consumption</th>\n",
       "      <th>NO1_temperature</th>\n",
       "      <th>NO2_consumption</th>\n",
       "      <th>NO2_temperature</th>\n",
       "      <th>NO3_consumption</th>\n",
       "      <th>NO3_temperature</th>\n",
       "      <th>NO4_consumption</th>\n",
       "      <th>NO4_temperature</th>\n",
       "      <th>NO5_consumption</th>\n",
       "      <th>NO5_temperature</th>\n",
       "    </tr>\n",
       "  </thead>\n",
       "  <tbody>\n",
       "    <tr>\n",
       "      <th>0</th>\n",
       "      <td>2017-05-01 00:00:00+00:00</td>\n",
       "      <td>3325.431995</td>\n",
       "      <td>2.1</td>\n",
       "      <td>3534.588000</td>\n",
       "      <td>5.0</td>\n",
       "      <td>2674.838000</td>\n",
       "      <td>5.5</td>\n",
       "      <td>2061.209000</td>\n",
       "      <td>0.2</td>\n",
       "      <td>1609.089000</td>\n",
       "      <td>3.9</td>\n",
       "    </tr>\n",
       "    <tr>\n",
       "      <th>1</th>\n",
       "      <td>2017-05-01 01:00:00+00:00</td>\n",
       "      <td>3344.690998</td>\n",
       "      <td>1.8</td>\n",
       "      <td>3560.209000</td>\n",
       "      <td>4.1</td>\n",
       "      <td>2678.188000</td>\n",
       "      <td>4.0</td>\n",
       "      <td>2045.436000</td>\n",
       "      <td>0.1</td>\n",
       "      <td>1623.485000</td>\n",
       "      <td>3.2</td>\n",
       "    </tr>\n",
       "    <tr>\n",
       "      <th>2</th>\n",
       "      <td>2017-05-01 02:00:00+00:00</td>\n",
       "      <td>3398.359002</td>\n",
       "      <td>3.2</td>\n",
       "      <td>3596.149000</td>\n",
       "      <td>3.1</td>\n",
       "      <td>2678.341000</td>\n",
       "      <td>3.7</td>\n",
       "      <td>2020.007000</td>\n",
       "      <td>0.1</td>\n",
       "      <td>1634.128000</td>\n",
       "      <td>2.7</td>\n",
       "    </tr>\n",
       "    <tr>\n",
       "      <th>3</th>\n",
       "      <td>2017-05-01 03:00:00+00:00</td>\n",
       "      <td>3430.220001</td>\n",
       "      <td>3.6</td>\n",
       "      <td>3594.042000</td>\n",
       "      <td>2.3</td>\n",
       "      <td>2684.172000</td>\n",
       "      <td>3.2</td>\n",
       "      <td>2021.920000</td>\n",
       "      <td>0.1</td>\n",
       "      <td>1647.906000</td>\n",
       "      <td>2.3</td>\n",
       "    </tr>\n",
       "    <tr>\n",
       "      <th>4</th>\n",
       "      <td>2017-05-01 04:00:00+00:00</td>\n",
       "      <td>3606.750000</td>\n",
       "      <td>3.4</td>\n",
       "      <td>3665.091000</td>\n",
       "      <td>2.6</td>\n",
       "      <td>2733.345000</td>\n",
       "      <td>2.7</td>\n",
       "      <td>2045.913000</td>\n",
       "      <td>0.1</td>\n",
       "      <td>1679.176000</td>\n",
       "      <td>2.3</td>\n",
       "    </tr>\n",
       "    <tr>\n",
       "      <th>...</th>\n",
       "      <td>...</td>\n",
       "      <td>...</td>\n",
       "      <td>...</td>\n",
       "      <td>...</td>\n",
       "      <td>...</td>\n",
       "      <td>...</td>\n",
       "      <td>...</td>\n",
       "      <td>...</td>\n",
       "      <td>...</td>\n",
       "      <td>...</td>\n",
       "      <td>...</td>\n",
       "    </tr>\n",
       "    <tr>\n",
       "      <th>58459</th>\n",
       "      <td>2023-12-31 19:00:00+00:00</td>\n",
       "      <td>5608.067736</td>\n",
       "      <td>-4.7</td>\n",
       "      <td>4962.057148</td>\n",
       "      <td>4.1</td>\n",
       "      <td>3837.204332</td>\n",
       "      <td>-3.7</td>\n",
       "      <td>2806.182692</td>\n",
       "      <td>-6.5</td>\n",
       "      <td>2224.449164</td>\n",
       "      <td>6.3</td>\n",
       "    </tr>\n",
       "    <tr>\n",
       "      <th>58460</th>\n",
       "      <td>2023-12-31 20:00:00+00:00</td>\n",
       "      <td>5469.722792</td>\n",
       "      <td>-4.6</td>\n",
       "      <td>4864.162484</td>\n",
       "      <td>4.7</td>\n",
       "      <td>3773.021260</td>\n",
       "      <td>-3.6</td>\n",
       "      <td>2764.928700</td>\n",
       "      <td>-6.4</td>\n",
       "      <td>2175.957992</td>\n",
       "      <td>6.3</td>\n",
       "    </tr>\n",
       "    <tr>\n",
       "      <th>58461</th>\n",
       "      <td>2023-12-31 21:00:00+00:00</td>\n",
       "      <td>5321.221040</td>\n",
       "      <td>-4.5</td>\n",
       "      <td>4793.361440</td>\n",
       "      <td>4.6</td>\n",
       "      <td>3725.022064</td>\n",
       "      <td>-4.2</td>\n",
       "      <td>2738.213476</td>\n",
       "      <td>-6.4</td>\n",
       "      <td>2137.724404</td>\n",
       "      <td>6.2</td>\n",
       "    </tr>\n",
       "    <tr>\n",
       "      <th>58462</th>\n",
       "      <td>2023-12-31 22:00:00+00:00</td>\n",
       "      <td>5222.770756</td>\n",
       "      <td>-4.5</td>\n",
       "      <td>4742.807424</td>\n",
       "      <td>4.6</td>\n",
       "      <td>3668.956000</td>\n",
       "      <td>-4.2</td>\n",
       "      <td>2699.056760</td>\n",
       "      <td>-6.5</td>\n",
       "      <td>2110.928436</td>\n",
       "      <td>5.7</td>\n",
       "    </tr>\n",
       "    <tr>\n",
       "      <th>58463</th>\n",
       "      <td>2023-12-31 23:00:00+00:00</td>\n",
       "      <td>5210.969016</td>\n",
       "      <td>-4.4</td>\n",
       "      <td>4719.826460</td>\n",
       "      <td>4.4</td>\n",
       "      <td>3657.079824</td>\n",
       "      <td>-4.0</td>\n",
       "      <td>2696.672540</td>\n",
       "      <td>-6.6</td>\n",
       "      <td>2100.524368</td>\n",
       "      <td>5.7</td>\n",
       "    </tr>\n",
       "  </tbody>\n",
       "</table>\n",
       "<p>58464 rows × 11 columns</p>\n",
       "</div>"
      ],
      "text/plain": [
       "                      timestamp  NO1_consumption  NO1_temperature  \\\n",
       "0     2017-05-01 00:00:00+00:00      3325.431995              2.1   \n",
       "1     2017-05-01 01:00:00+00:00      3344.690998              1.8   \n",
       "2     2017-05-01 02:00:00+00:00      3398.359002              3.2   \n",
       "3     2017-05-01 03:00:00+00:00      3430.220001              3.6   \n",
       "4     2017-05-01 04:00:00+00:00      3606.750000              3.4   \n",
       "...                         ...              ...              ...   \n",
       "58459 2023-12-31 19:00:00+00:00      5608.067736             -4.7   \n",
       "58460 2023-12-31 20:00:00+00:00      5469.722792             -4.6   \n",
       "58461 2023-12-31 21:00:00+00:00      5321.221040             -4.5   \n",
       "58462 2023-12-31 22:00:00+00:00      5222.770756             -4.5   \n",
       "58463 2023-12-31 23:00:00+00:00      5210.969016             -4.4   \n",
       "\n",
       "       NO2_consumption  NO2_temperature  NO3_consumption  NO3_temperature  \\\n",
       "0          3534.588000              5.0      2674.838000              5.5   \n",
       "1          3560.209000              4.1      2678.188000              4.0   \n",
       "2          3596.149000              3.1      2678.341000              3.7   \n",
       "3          3594.042000              2.3      2684.172000              3.2   \n",
       "4          3665.091000              2.6      2733.345000              2.7   \n",
       "...                ...              ...              ...              ...   \n",
       "58459      4962.057148              4.1      3837.204332             -3.7   \n",
       "58460      4864.162484              4.7      3773.021260             -3.6   \n",
       "58461      4793.361440              4.6      3725.022064             -4.2   \n",
       "58462      4742.807424              4.6      3668.956000             -4.2   \n",
       "58463      4719.826460              4.4      3657.079824             -4.0   \n",
       "\n",
       "       NO4_consumption  NO4_temperature  NO5_consumption  NO5_temperature  \n",
       "0          2061.209000              0.2      1609.089000              3.9  \n",
       "1          2045.436000              0.1      1623.485000              3.2  \n",
       "2          2020.007000              0.1      1634.128000              2.7  \n",
       "3          2021.920000              0.1      1647.906000              2.3  \n",
       "4          2045.913000              0.1      1679.176000              2.3  \n",
       "...                ...              ...              ...              ...  \n",
       "58459      2806.182692             -6.5      2224.449164              6.3  \n",
       "58460      2764.928700             -6.4      2175.957992              6.3  \n",
       "58461      2738.213476             -6.4      2137.724404              6.2  \n",
       "58462      2699.056760             -6.5      2110.928436              5.7  \n",
       "58463      2696.672540             -6.6      2100.524368              5.7  \n",
       "\n",
       "[58464 rows x 11 columns]"
      ]
     },
     "execution_count": 4,
     "metadata": {},
     "output_type": "execute_result"
    }
   ],
   "source": [
    "raw_data"
   ]
  },
  {
   "cell_type": "code",
   "execution_count": 5,
   "metadata": {},
   "outputs": [],
   "source": [
    "data_shifted = raw_data.copy()\n",
    "data_shifted['NO1_temperature_t-1'] = data_shifted['NO1_temperature'].shift(1)"
   ]
  },
  {
   "cell_type": "code",
   "execution_count": 6,
   "metadata": {},
   "outputs": [
    {
     "data": {
      "text/html": [
       "<div>\n",
       "<style scoped>\n",
       "    .dataframe tbody tr th:only-of-type {\n",
       "        vertical-align: middle;\n",
       "    }\n",
       "\n",
       "    .dataframe tbody tr th {\n",
       "        vertical-align: top;\n",
       "    }\n",
       "\n",
       "    .dataframe thead th {\n",
       "        text-align: right;\n",
       "    }\n",
       "</style>\n",
       "<table border=\"1\" class=\"dataframe\">\n",
       "  <thead>\n",
       "    <tr style=\"text-align: right;\">\n",
       "      <th></th>\n",
       "      <th>timestamp</th>\n",
       "      <th>NO1_consumption</th>\n",
       "      <th>NO1_temperature</th>\n",
       "      <th>NO2_consumption</th>\n",
       "      <th>NO2_temperature</th>\n",
       "      <th>NO3_consumption</th>\n",
       "      <th>NO3_temperature</th>\n",
       "      <th>NO4_consumption</th>\n",
       "      <th>NO4_temperature</th>\n",
       "      <th>NO5_consumption</th>\n",
       "      <th>NO5_temperature</th>\n",
       "      <th>NO1_temperature_t-1</th>\n",
       "    </tr>\n",
       "  </thead>\n",
       "  <tbody>\n",
       "    <tr>\n",
       "      <th>0</th>\n",
       "      <td>2017-05-01 00:00:00+00:00</td>\n",
       "      <td>3325.431995</td>\n",
       "      <td>2.1</td>\n",
       "      <td>3534.588000</td>\n",
       "      <td>5.0</td>\n",
       "      <td>2674.838000</td>\n",
       "      <td>5.5</td>\n",
       "      <td>2061.209000</td>\n",
       "      <td>0.2</td>\n",
       "      <td>1609.089000</td>\n",
       "      <td>3.9</td>\n",
       "      <td>NaN</td>\n",
       "    </tr>\n",
       "    <tr>\n",
       "      <th>1</th>\n",
       "      <td>2017-05-01 01:00:00+00:00</td>\n",
       "      <td>3344.690998</td>\n",
       "      <td>1.8</td>\n",
       "      <td>3560.209000</td>\n",
       "      <td>4.1</td>\n",
       "      <td>2678.188000</td>\n",
       "      <td>4.0</td>\n",
       "      <td>2045.436000</td>\n",
       "      <td>0.1</td>\n",
       "      <td>1623.485000</td>\n",
       "      <td>3.2</td>\n",
       "      <td>2.1</td>\n",
       "    </tr>\n",
       "    <tr>\n",
       "      <th>2</th>\n",
       "      <td>2017-05-01 02:00:00+00:00</td>\n",
       "      <td>3398.359002</td>\n",
       "      <td>3.2</td>\n",
       "      <td>3596.149000</td>\n",
       "      <td>3.1</td>\n",
       "      <td>2678.341000</td>\n",
       "      <td>3.7</td>\n",
       "      <td>2020.007000</td>\n",
       "      <td>0.1</td>\n",
       "      <td>1634.128000</td>\n",
       "      <td>2.7</td>\n",
       "      <td>1.8</td>\n",
       "    </tr>\n",
       "    <tr>\n",
       "      <th>3</th>\n",
       "      <td>2017-05-01 03:00:00+00:00</td>\n",
       "      <td>3430.220001</td>\n",
       "      <td>3.6</td>\n",
       "      <td>3594.042000</td>\n",
       "      <td>2.3</td>\n",
       "      <td>2684.172000</td>\n",
       "      <td>3.2</td>\n",
       "      <td>2021.920000</td>\n",
       "      <td>0.1</td>\n",
       "      <td>1647.906000</td>\n",
       "      <td>2.3</td>\n",
       "      <td>3.2</td>\n",
       "    </tr>\n",
       "    <tr>\n",
       "      <th>4</th>\n",
       "      <td>2017-05-01 04:00:00+00:00</td>\n",
       "      <td>3606.750000</td>\n",
       "      <td>3.4</td>\n",
       "      <td>3665.091000</td>\n",
       "      <td>2.6</td>\n",
       "      <td>2733.345000</td>\n",
       "      <td>2.7</td>\n",
       "      <td>2045.913000</td>\n",
       "      <td>0.1</td>\n",
       "      <td>1679.176000</td>\n",
       "      <td>2.3</td>\n",
       "      <td>3.6</td>\n",
       "    </tr>\n",
       "    <tr>\n",
       "      <th>...</th>\n",
       "      <td>...</td>\n",
       "      <td>...</td>\n",
       "      <td>...</td>\n",
       "      <td>...</td>\n",
       "      <td>...</td>\n",
       "      <td>...</td>\n",
       "      <td>...</td>\n",
       "      <td>...</td>\n",
       "      <td>...</td>\n",
       "      <td>...</td>\n",
       "      <td>...</td>\n",
       "      <td>...</td>\n",
       "    </tr>\n",
       "    <tr>\n",
       "      <th>58459</th>\n",
       "      <td>2023-12-31 19:00:00+00:00</td>\n",
       "      <td>5608.067736</td>\n",
       "      <td>-4.7</td>\n",
       "      <td>4962.057148</td>\n",
       "      <td>4.1</td>\n",
       "      <td>3837.204332</td>\n",
       "      <td>-3.7</td>\n",
       "      <td>2806.182692</td>\n",
       "      <td>-6.5</td>\n",
       "      <td>2224.449164</td>\n",
       "      <td>6.3</td>\n",
       "      <td>-4.7</td>\n",
       "    </tr>\n",
       "    <tr>\n",
       "      <th>58460</th>\n",
       "      <td>2023-12-31 20:00:00+00:00</td>\n",
       "      <td>5469.722792</td>\n",
       "      <td>-4.6</td>\n",
       "      <td>4864.162484</td>\n",
       "      <td>4.7</td>\n",
       "      <td>3773.021260</td>\n",
       "      <td>-3.6</td>\n",
       "      <td>2764.928700</td>\n",
       "      <td>-6.4</td>\n",
       "      <td>2175.957992</td>\n",
       "      <td>6.3</td>\n",
       "      <td>-4.7</td>\n",
       "    </tr>\n",
       "    <tr>\n",
       "      <th>58461</th>\n",
       "      <td>2023-12-31 21:00:00+00:00</td>\n",
       "      <td>5321.221040</td>\n",
       "      <td>-4.5</td>\n",
       "      <td>4793.361440</td>\n",
       "      <td>4.6</td>\n",
       "      <td>3725.022064</td>\n",
       "      <td>-4.2</td>\n",
       "      <td>2738.213476</td>\n",
       "      <td>-6.4</td>\n",
       "      <td>2137.724404</td>\n",
       "      <td>6.2</td>\n",
       "      <td>-4.6</td>\n",
       "    </tr>\n",
       "    <tr>\n",
       "      <th>58462</th>\n",
       "      <td>2023-12-31 22:00:00+00:00</td>\n",
       "      <td>5222.770756</td>\n",
       "      <td>-4.5</td>\n",
       "      <td>4742.807424</td>\n",
       "      <td>4.6</td>\n",
       "      <td>3668.956000</td>\n",
       "      <td>-4.2</td>\n",
       "      <td>2699.056760</td>\n",
       "      <td>-6.5</td>\n",
       "      <td>2110.928436</td>\n",
       "      <td>5.7</td>\n",
       "      <td>-4.5</td>\n",
       "    </tr>\n",
       "    <tr>\n",
       "      <th>58463</th>\n",
       "      <td>2023-12-31 23:00:00+00:00</td>\n",
       "      <td>5210.969016</td>\n",
       "      <td>-4.4</td>\n",
       "      <td>4719.826460</td>\n",
       "      <td>4.4</td>\n",
       "      <td>3657.079824</td>\n",
       "      <td>-4.0</td>\n",
       "      <td>2696.672540</td>\n",
       "      <td>-6.6</td>\n",
       "      <td>2100.524368</td>\n",
       "      <td>5.7</td>\n",
       "      <td>-4.5</td>\n",
       "    </tr>\n",
       "  </tbody>\n",
       "</table>\n",
       "<p>58464 rows × 12 columns</p>\n",
       "</div>"
      ],
      "text/plain": [
       "                      timestamp  NO1_consumption  NO1_temperature  \\\n",
       "0     2017-05-01 00:00:00+00:00      3325.431995              2.1   \n",
       "1     2017-05-01 01:00:00+00:00      3344.690998              1.8   \n",
       "2     2017-05-01 02:00:00+00:00      3398.359002              3.2   \n",
       "3     2017-05-01 03:00:00+00:00      3430.220001              3.6   \n",
       "4     2017-05-01 04:00:00+00:00      3606.750000              3.4   \n",
       "...                         ...              ...              ...   \n",
       "58459 2023-12-31 19:00:00+00:00      5608.067736             -4.7   \n",
       "58460 2023-12-31 20:00:00+00:00      5469.722792             -4.6   \n",
       "58461 2023-12-31 21:00:00+00:00      5321.221040             -4.5   \n",
       "58462 2023-12-31 22:00:00+00:00      5222.770756             -4.5   \n",
       "58463 2023-12-31 23:00:00+00:00      5210.969016             -4.4   \n",
       "\n",
       "       NO2_consumption  NO2_temperature  NO3_consumption  NO3_temperature  \\\n",
       "0          3534.588000              5.0      2674.838000              5.5   \n",
       "1          3560.209000              4.1      2678.188000              4.0   \n",
       "2          3596.149000              3.1      2678.341000              3.7   \n",
       "3          3594.042000              2.3      2684.172000              3.2   \n",
       "4          3665.091000              2.6      2733.345000              2.7   \n",
       "...                ...              ...              ...              ...   \n",
       "58459      4962.057148              4.1      3837.204332             -3.7   \n",
       "58460      4864.162484              4.7      3773.021260             -3.6   \n",
       "58461      4793.361440              4.6      3725.022064             -4.2   \n",
       "58462      4742.807424              4.6      3668.956000             -4.2   \n",
       "58463      4719.826460              4.4      3657.079824             -4.0   \n",
       "\n",
       "       NO4_consumption  NO4_temperature  NO5_consumption  NO5_temperature  \\\n",
       "0          2061.209000              0.2      1609.089000              3.9   \n",
       "1          2045.436000              0.1      1623.485000              3.2   \n",
       "2          2020.007000              0.1      1634.128000              2.7   \n",
       "3          2021.920000              0.1      1647.906000              2.3   \n",
       "4          2045.913000              0.1      1679.176000              2.3   \n",
       "...                ...              ...              ...              ...   \n",
       "58459      2806.182692             -6.5      2224.449164              6.3   \n",
       "58460      2764.928700             -6.4      2175.957992              6.3   \n",
       "58461      2738.213476             -6.4      2137.724404              6.2   \n",
       "58462      2699.056760             -6.5      2110.928436              5.7   \n",
       "58463      2696.672540             -6.6      2100.524368              5.7   \n",
       "\n",
       "       NO1_temperature_t-1  \n",
       "0                      NaN  \n",
       "1                      2.1  \n",
       "2                      1.8  \n",
       "3                      3.2  \n",
       "4                      3.6  \n",
       "...                    ...  \n",
       "58459                 -4.7  \n",
       "58460                 -4.7  \n",
       "58461                 -4.6  \n",
       "58462                 -4.5  \n",
       "58463                 -4.5  \n",
       "\n",
       "[58464 rows x 12 columns]"
      ]
     },
     "execution_count": 6,
     "metadata": {},
     "output_type": "execute_result"
    }
   ],
   "source": [
    "data_shifted"
   ]
  },
  {
   "cell_type": "code",
   "execution_count": 7,
   "metadata": {},
   "outputs": [],
   "source": [
    "seq_len = 72\n",
    "scale_output=True\n",
    "features_to_add=[(add_season_columns, {}), (pick_location_data, {'loc': [1]})]"
   ]
  },
  {
   "cell_type": "code",
   "execution_count": 8,
   "metadata": {},
   "outputs": [
    {
     "name": "stdout",
     "output_type": "stream",
     "text": [
      "FEATURES:\n",
      " Index(['NO1_temperature', 'season_fall', 'season_spring', 'season_summer',\n",
      "       'season_winter'],\n",
      "      dtype='object')\n"
     ]
    },
    {
     "name": "stderr",
     "output_type": "stream",
     "text": [
      "/Users/arthurtestard/ntnu_code/deep_learning/project_2/preprocessing.py:119: SettingWithCopyWarning: \n",
      "A value is trying to be set on a copy of a slice from a DataFrame.\n",
      "Try using .loc[row_indexer,col_indexer] = value instead\n",
      "\n",
      "See the caveats in the documentation: https://pandas.pydata.org/pandas-docs/stable/user_guide/indexing.html#returning-a-view-versus-a-copy\n",
      "  X_train[features_to_scale] = scalerInputMethod.fit_transform(X_train[features_to_scale].values) if not is_scaler_fitted else  scalerInputMethod.transform(X_train[features_to_scale].values)\n",
      "/Users/arthurtestard/envs/ntnu/mlsolar/lib/python3.10/site-packages/sklearn/base.py:458: UserWarning: X has feature names, but StandardScaler was fitted without feature names\n",
      "  warnings.warn(\n",
      "/Users/arthurtestard/ntnu_code/deep_learning/project_2/preprocessing.py:120: SettingWithCopyWarning: \n",
      "A value is trying to be set on a copy of a slice from a DataFrame.\n",
      "Try using .loc[row_indexer,col_indexer] = value instead\n",
      "\n",
      "See the caveats in the documentation: https://pandas.pydata.org/pandas-docs/stable/user_guide/indexing.html#returning-a-view-versus-a-copy\n",
      "  X_val[features_to_scale] = scalerInputMethod.transform(X_val[features_to_scale])\n",
      "/Users/arthurtestard/envs/ntnu/mlsolar/lib/python3.10/site-packages/sklearn/base.py:458: UserWarning: X has feature names, but StandardScaler was fitted without feature names\n",
      "  warnings.warn(\n",
      "/Users/arthurtestard/ntnu_code/deep_learning/project_2/preprocessing.py:121: SettingWithCopyWarning: \n",
      "A value is trying to be set on a copy of a slice from a DataFrame.\n",
      "Try using .loc[row_indexer,col_indexer] = value instead\n",
      "\n",
      "See the caveats in the documentation: https://pandas.pydata.org/pandas-docs/stable/user_guide/indexing.html#returning-a-view-versus-a-copy\n",
      "  X_test[features_to_scale] = scalerInputMethod.transform(X_test[features_to_scale])\n",
      "/Users/arthurtestard/ntnu_code/deep_learning/project_2/preprocessing.py:125: SettingWithCopyWarning: \n",
      "A value is trying to be set on a copy of a slice from a DataFrame.\n",
      "Try using .loc[row_indexer,col_indexer] = value instead\n",
      "\n",
      "See the caveats in the documentation: https://pandas.pydata.org/pandas-docs/stable/user_guide/indexing.html#returning-a-view-versus-a-copy\n",
      "  Y_train[[target_column]] = scalerOutputMethod.fit_transform(Y_train[[target_column]])\n",
      "/Users/arthurtestard/ntnu_code/deep_learning/project_2/preprocessing.py:126: SettingWithCopyWarning: \n",
      "A value is trying to be set on a copy of a slice from a DataFrame.\n",
      "Try using .loc[row_indexer,col_indexer] = value instead\n",
      "\n",
      "See the caveats in the documentation: https://pandas.pydata.org/pandas-docs/stable/user_guide/indexing.html#returning-a-view-versus-a-copy\n",
      "  Y_test[[target_column]] = scalerOutputMethod.transform(Y_test[[target_column]])\n",
      "/Users/arthurtestard/ntnu_code/deep_learning/project_2/preprocessing.py:127: SettingWithCopyWarning: \n",
      "A value is trying to be set on a copy of a slice from a DataFrame.\n",
      "Try using .loc[row_indexer,col_indexer] = value instead\n",
      "\n",
      "See the caveats in the documentation: https://pandas.pydata.org/pandas-docs/stable/user_guide/indexing.html#returning-a-view-versus-a-copy\n",
      "  Y_val[[target_column]] = scalerOutputMethod.transform(Y_val[[target_column]])\n",
      "/Users/arthurtestard/ntnu_code/deep_learning/project_2/preprocessing.py:34: UserWarning: To copy construct from a tensor, it is recommended to use sourceTensor.clone().detach() or sourceTensor.clone().detach().requires_grad_(True), rather than torch.tensor(sourceTensor).\n",
      "  sequences_tensor = torch.tensor(sequences_padded, dtype=torch.float32)\n",
      "/Users/arthurtestard/ntnu_code/deep_learning/project_2/preprocessing.py:35: UserWarning: To copy construct from a tensor, it is recommended to use sourceTensor.clone().detach() or sourceTensor.clone().detach().requires_grad_(True), rather than torch.tensor(sourceTensor).\n",
      "  targets_tensor = torch.tensor(targets_padded, dtype=torch.float32)\n"
     ]
    }
   ],
   "source": [
    "(X_train, y_train), (X_val, y_val), (X_test, y_test), (scalerInputMethod, scalerOutputMethod), (target_axis_x, target) = general_preprocessing(\n",
    "    raw_data, \n",
    "    features_to_add=features_to_add,\n",
    "    seq_len=seq_len,\n",
    "    forecast_len=24,\n",
    "    test_start_index=3 * len(raw_data) // 4,\n",
    "    scale_output=scale_output\n",
    "    )"
   ]
  },
  {
   "cell_type": "code",
   "execution_count": 9,
   "metadata": {},
   "outputs": [
    {
     "data": {
      "text/plain": [
       "(False, 72)"
      ]
     },
     "execution_count": 9,
     "metadata": {},
     "output_type": "execute_result"
    }
   ],
   "source": [
    "43776 == 3 * len(raw_data) // 4, 3 * len(raw_data) // 4 - 43776"
   ]
  },
  {
   "cell_type": "code",
   "execution_count": 10,
   "metadata": {},
   "outputs": [
    {
     "data": {
      "text/html": [
       "<div>\n",
       "<style scoped>\n",
       "    .dataframe tbody tr th:only-of-type {\n",
       "        vertical-align: middle;\n",
       "    }\n",
       "\n",
       "    .dataframe tbody tr th {\n",
       "        vertical-align: top;\n",
       "    }\n",
       "\n",
       "    .dataframe thead th {\n",
       "        text-align: right;\n",
       "    }\n",
       "</style>\n",
       "<table border=\"1\" class=\"dataframe\">\n",
       "  <thead>\n",
       "    <tr style=\"text-align: right;\">\n",
       "      <th></th>\n",
       "      <th>timestamp</th>\n",
       "      <th>NO1_consumption</th>\n",
       "      <th>NO1_temperature</th>\n",
       "      <th>NO2_consumption</th>\n",
       "      <th>NO2_temperature</th>\n",
       "      <th>NO3_consumption</th>\n",
       "      <th>NO3_temperature</th>\n",
       "      <th>NO4_consumption</th>\n",
       "      <th>NO4_temperature</th>\n",
       "      <th>NO5_consumption</th>\n",
       "      <th>NO5_temperature</th>\n",
       "    </tr>\n",
       "  </thead>\n",
       "  <tbody>\n",
       "    <tr>\n",
       "      <th>43776</th>\n",
       "      <td>2022-04-29 00:00:00+00:00</td>\n",
       "      <td>3013.492067</td>\n",
       "      <td>6.4</td>\n",
       "      <td>3615.296941</td>\n",
       "      <td>5.7</td>\n",
       "      <td>3105.267791</td>\n",
       "      <td>0.5</td>\n",
       "      <td>2271.111525</td>\n",
       "      <td>-3.8</td>\n",
       "      <td>1582.885382</td>\n",
       "      <td>6.9</td>\n",
       "    </tr>\n",
       "    <tr>\n",
       "      <th>43777</th>\n",
       "      <td>2022-04-29 01:00:00+00:00</td>\n",
       "      <td>3019.167135</td>\n",
       "      <td>5.5</td>\n",
       "      <td>3618.892866</td>\n",
       "      <td>5.0</td>\n",
       "      <td>3107.300761</td>\n",
       "      <td>0.6</td>\n",
       "      <td>2300.348632</td>\n",
       "      <td>-3.3</td>\n",
       "      <td>1557.749586</td>\n",
       "      <td>6.6</td>\n",
       "    </tr>\n",
       "    <tr>\n",
       "      <th>43778</th>\n",
       "      <td>2022-04-29 02:00:00+00:00</td>\n",
       "      <td>3066.283324</td>\n",
       "      <td>5.0</td>\n",
       "      <td>3653.847960</td>\n",
       "      <td>3.3</td>\n",
       "      <td>3115.326680</td>\n",
       "      <td>1.3</td>\n",
       "      <td>2298.961351</td>\n",
       "      <td>-3.7</td>\n",
       "      <td>1561.116235</td>\n",
       "      <td>6.6</td>\n",
       "    </tr>\n",
       "    <tr>\n",
       "      <th>43779</th>\n",
       "      <td>2022-04-29 03:00:00+00:00</td>\n",
       "      <td>3167.085943</td>\n",
       "      <td>4.8</td>\n",
       "      <td>3743.718010</td>\n",
       "      <td>2.8</td>\n",
       "      <td>3084.318628</td>\n",
       "      <td>1.3</td>\n",
       "      <td>2294.753633</td>\n",
       "      <td>-3.8</td>\n",
       "      <td>1582.091229</td>\n",
       "      <td>6.6</td>\n",
       "    </tr>\n",
       "    <tr>\n",
       "      <th>43780</th>\n",
       "      <td>2022-04-29 04:00:00+00:00</td>\n",
       "      <td>3531.231895</td>\n",
       "      <td>4.8</td>\n",
       "      <td>3984.479089</td>\n",
       "      <td>2.3</td>\n",
       "      <td>3227.162118</td>\n",
       "      <td>1.8</td>\n",
       "      <td>2379.613315</td>\n",
       "      <td>-3.0</td>\n",
       "      <td>1664.296855</td>\n",
       "      <td>6.2</td>\n",
       "    </tr>\n",
       "    <tr>\n",
       "      <th>...</th>\n",
       "      <td>...</td>\n",
       "      <td>...</td>\n",
       "      <td>...</td>\n",
       "      <td>...</td>\n",
       "      <td>...</td>\n",
       "      <td>...</td>\n",
       "      <td>...</td>\n",
       "      <td>...</td>\n",
       "      <td>...</td>\n",
       "      <td>...</td>\n",
       "      <td>...</td>\n",
       "    </tr>\n",
       "    <tr>\n",
       "      <th>58459</th>\n",
       "      <td>2023-12-31 19:00:00+00:00</td>\n",
       "      <td>5608.067736</td>\n",
       "      <td>-4.7</td>\n",
       "      <td>4962.057148</td>\n",
       "      <td>4.1</td>\n",
       "      <td>3837.204332</td>\n",
       "      <td>-3.7</td>\n",
       "      <td>2806.182692</td>\n",
       "      <td>-6.5</td>\n",
       "      <td>2224.449164</td>\n",
       "      <td>6.3</td>\n",
       "    </tr>\n",
       "    <tr>\n",
       "      <th>58460</th>\n",
       "      <td>2023-12-31 20:00:00+00:00</td>\n",
       "      <td>5469.722792</td>\n",
       "      <td>-4.6</td>\n",
       "      <td>4864.162484</td>\n",
       "      <td>4.7</td>\n",
       "      <td>3773.021260</td>\n",
       "      <td>-3.6</td>\n",
       "      <td>2764.928700</td>\n",
       "      <td>-6.4</td>\n",
       "      <td>2175.957992</td>\n",
       "      <td>6.3</td>\n",
       "    </tr>\n",
       "    <tr>\n",
       "      <th>58461</th>\n",
       "      <td>2023-12-31 21:00:00+00:00</td>\n",
       "      <td>5321.221040</td>\n",
       "      <td>-4.5</td>\n",
       "      <td>4793.361440</td>\n",
       "      <td>4.6</td>\n",
       "      <td>3725.022064</td>\n",
       "      <td>-4.2</td>\n",
       "      <td>2738.213476</td>\n",
       "      <td>-6.4</td>\n",
       "      <td>2137.724404</td>\n",
       "      <td>6.2</td>\n",
       "    </tr>\n",
       "    <tr>\n",
       "      <th>58462</th>\n",
       "      <td>2023-12-31 22:00:00+00:00</td>\n",
       "      <td>5222.770756</td>\n",
       "      <td>-4.5</td>\n",
       "      <td>4742.807424</td>\n",
       "      <td>4.6</td>\n",
       "      <td>3668.956000</td>\n",
       "      <td>-4.2</td>\n",
       "      <td>2699.056760</td>\n",
       "      <td>-6.5</td>\n",
       "      <td>2110.928436</td>\n",
       "      <td>5.7</td>\n",
       "    </tr>\n",
       "    <tr>\n",
       "      <th>58463</th>\n",
       "      <td>2023-12-31 23:00:00+00:00</td>\n",
       "      <td>5210.969016</td>\n",
       "      <td>-4.4</td>\n",
       "      <td>4719.826460</td>\n",
       "      <td>4.4</td>\n",
       "      <td>3657.079824</td>\n",
       "      <td>-4.0</td>\n",
       "      <td>2696.672540</td>\n",
       "      <td>-6.6</td>\n",
       "      <td>2100.524368</td>\n",
       "      <td>5.7</td>\n",
       "    </tr>\n",
       "  </tbody>\n",
       "</table>\n",
       "<p>14688 rows × 11 columns</p>\n",
       "</div>"
      ],
      "text/plain": [
       "                      timestamp  NO1_consumption  NO1_temperature  \\\n",
       "43776 2022-04-29 00:00:00+00:00      3013.492067              6.4   \n",
       "43777 2022-04-29 01:00:00+00:00      3019.167135              5.5   \n",
       "43778 2022-04-29 02:00:00+00:00      3066.283324              5.0   \n",
       "43779 2022-04-29 03:00:00+00:00      3167.085943              4.8   \n",
       "43780 2022-04-29 04:00:00+00:00      3531.231895              4.8   \n",
       "...                         ...              ...              ...   \n",
       "58459 2023-12-31 19:00:00+00:00      5608.067736             -4.7   \n",
       "58460 2023-12-31 20:00:00+00:00      5469.722792             -4.6   \n",
       "58461 2023-12-31 21:00:00+00:00      5321.221040             -4.5   \n",
       "58462 2023-12-31 22:00:00+00:00      5222.770756             -4.5   \n",
       "58463 2023-12-31 23:00:00+00:00      5210.969016             -4.4   \n",
       "\n",
       "       NO2_consumption  NO2_temperature  NO3_consumption  NO3_temperature  \\\n",
       "43776      3615.296941              5.7      3105.267791              0.5   \n",
       "43777      3618.892866              5.0      3107.300761              0.6   \n",
       "43778      3653.847960              3.3      3115.326680              1.3   \n",
       "43779      3743.718010              2.8      3084.318628              1.3   \n",
       "43780      3984.479089              2.3      3227.162118              1.8   \n",
       "...                ...              ...              ...              ...   \n",
       "58459      4962.057148              4.1      3837.204332             -3.7   \n",
       "58460      4864.162484              4.7      3773.021260             -3.6   \n",
       "58461      4793.361440              4.6      3725.022064             -4.2   \n",
       "58462      4742.807424              4.6      3668.956000             -4.2   \n",
       "58463      4719.826460              4.4      3657.079824             -4.0   \n",
       "\n",
       "       NO4_consumption  NO4_temperature  NO5_consumption  NO5_temperature  \n",
       "43776      2271.111525             -3.8      1582.885382              6.9  \n",
       "43777      2300.348632             -3.3      1557.749586              6.6  \n",
       "43778      2298.961351             -3.7      1561.116235              6.6  \n",
       "43779      2294.753633             -3.8      1582.091229              6.6  \n",
       "43780      2379.613315             -3.0      1664.296855              6.2  \n",
       "...                ...              ...              ...              ...  \n",
       "58459      2806.182692             -6.5      2224.449164              6.3  \n",
       "58460      2764.928700             -6.4      2175.957992              6.3  \n",
       "58461      2738.213476             -6.4      2137.724404              6.2  \n",
       "58462      2699.056760             -6.5      2110.928436              5.7  \n",
       "58463      2696.672540             -6.6      2100.524368              5.7  \n",
       "\n",
       "[14688 rows x 11 columns]"
      ]
     },
     "execution_count": 10,
     "metadata": {},
     "output_type": "execute_result"
    }
   ],
   "source": [
    "raw_data[43776:]"
   ]
  },
  {
   "cell_type": "code",
   "execution_count": 11,
   "metadata": {},
   "outputs": [
    {
     "data": {
      "text/plain": [
       "43848"
      ]
     },
     "execution_count": 11,
     "metadata": {},
     "output_type": "execute_result"
    }
   ],
   "source": [
    "3 * len(raw_data) // 4"
   ]
  },
  {
   "cell_type": "code",
   "execution_count": 12,
   "metadata": {},
   "outputs": [
    {
     "data": {
      "text/plain": [
       "(tensor(0.1999), tensor(0.2344), tensor(0.1622))"
      ]
     },
     "execution_count": 12,
     "metadata": {},
     "output_type": "execute_result"
    }
   ],
   "source": [
    "X_train.mean(), X_test.mean(), X_val.mean()"
   ]
  },
  {
   "cell_type": "code",
   "execution_count": 13,
   "metadata": {},
   "outputs": [
    {
     "data": {
      "text/plain": [
       "array([7.7647089])"
      ]
     },
     "execution_count": 13,
     "metadata": {},
     "output_type": "execute_result"
    }
   ],
   "source": [
    "scalerInputMethod.mean_"
   ]
  },
  {
   "cell_type": "code",
   "execution_count": 14,
   "metadata": {},
   "outputs": [],
   "source": [
    "input_size = X_train.shape[2]\n",
    "hidden_size = 11\n",
    "num_layers = 3"
   ]
  },
  {
   "cell_type": "code",
   "execution_count": 15,
   "metadata": {},
   "outputs": [],
   "source": [
    "path = \"models/LSTM-2024-03-13-loss-0.114071354\""
   ]
  },
  {
   "cell_type": "code",
   "execution_count": 16,
   "metadata": {},
   "outputs": [],
   "source": [
    "# model = LSTM(input_size=input_size, hidden_size=hidden_size, num_layers=num_layers)\n",
    "# model.load_state_dict(torch.load(path))\n",
    "# model.eval()"
   ]
  },
  {
   "cell_type": "code",
   "execution_count": 17,
   "metadata": {},
   "outputs": [],
   "source": [
    "model = LSTM(input_size=input_size, hidden_size=hidden_size, num_layers=num_layers)"
   ]
  },
  {
   "cell_type": "code",
   "execution_count": 18,
   "metadata": {},
   "outputs": [],
   "source": [
    "num_epochs = 300\n",
    "loss_func = nn.MSELoss()\n",
    "opt = optim.Adam(model.parameters(), lr=1e-3)"
   ]
  },
  {
   "cell_type": "code",
   "execution_count": 19,
   "metadata": {},
   "outputs": [],
   "source": [
    "# losses = []\n",
    "# val_loss = []\n",
    "# for epoch in tqdm(range(num_epochs)):\n",
    "#     model.train()\n",
    "#     outputs = model(X_train)\n",
    "\n",
    "#     loss_ep = loss_func(outputs, y_train)\n",
    "\n",
    "#     losses.append(loss_ep.detach().numpy())\n",
    "#     opt.zero_grad()\n",
    "#     loss_ep.backward()\n",
    "#     opt.step()\n",
    "\n",
    "#     model.eval()\n",
    "#     val_loss.append(loss_func(model(X_val), y_val))"
   ]
  },
  {
   "cell_type": "code",
   "execution_count": 20,
   "metadata": {},
   "outputs": [
    {
     "name": "stderr",
     "output_type": "stream",
     "text": [
      "100%|██████████| 300/300 [19:25<00:00,  3.88s/it]\n"
     ]
    }
   ],
   "source": [
    "model, losses, val_loss, opt = fit(\n",
    "    model, \n",
    "    train_set=(X_train, y_train),\n",
    "    val_set=(X_val, y_val),\n",
    "    opt=opt,\n",
    "    loss_func=loss_func,\n",
    "    num_epochs=num_epochs)"
   ]
  },
  {
   "cell_type": "code",
   "execution_count": 21,
   "metadata": {},
   "outputs": [
    {
     "data": {
      "text/plain": [
       "<matplotlib.legend.Legend at 0x28f2dbb20>"
      ]
     },
     "execution_count": 21,
     "metadata": {},
     "output_type": "execute_result"
    },
    {
     "data": {
      "image/png": "[encoded data removed]",
      "text/plain": [
       "<Figure size 640x480 with 1 Axes>"
      ]
     },
     "metadata": {},
     "output_type": "display_data"
    }
   ],
   "source": [
    "plt.plot(losses, label=\"train loss\")\n",
    "plt.plot(val_loss, label=\"val loss\")\n",
    "plt.legend()"
   ]
  },
  {
   "cell_type": "code",
   "execution_count": 22,
   "metadata": {},
   "outputs": [],
   "source": [
    "model.eval()\n",
    "\n",
    "y_pred = model(X_test).detach().numpy()"
   ]
  },
  {
   "cell_type": "code",
   "execution_count": 23,
   "metadata": {},
   "outputs": [
    {
     "data": {
      "text/plain": [
       "(torch.Size([24, 72, 1]), (24, 72, 1))"
      ]
     },
     "execution_count": 23,
     "metadata": {},
     "output_type": "execute_result"
    }
   ],
   "source": [
    "y_test.shape, y_pred.shape"
   ]
  },
  {
   "cell_type": "code",
   "execution_count": 24,
   "metadata": {},
   "outputs": [],
   "source": [
    "forecast = y_pred[:,-1,:]\n",
    "x_ax_forecast = x_ax_target[seq_len-1:]"
   ]
  },
  {
   "cell_type": "code",
   "execution_count": 25,
   "metadata": {},
   "outputs": [],
   "source": [
    "df_forecast = pd.DataFrame({\n",
    "    'timestamp': x_ax_forecast['timestamp'].values, \n",
    "    'consumption_forecast': scalerOutputMethod.inverse_transform(forecast).reshape(-1) if scale_output else forecast.reshape(-1)\n",
    "    })"
   ]
  },
  {
   "cell_type": "code",
   "execution_count": 26,
   "metadata": {},
   "outputs": [],
   "source": [
    "df_forecast.index = x_ax_forecast.index"
   ]
  },
  {
   "cell_type": "code",
   "execution_count": 27,
   "metadata": {},
   "outputs": [],
   "source": [
    "target_column = 'NO1_consumption'"
   ]
  },
  {
   "cell_type": "code",
   "execution_count": 28,
   "metadata": {},
   "outputs": [],
   "source": [
    "df_result = x_ax_target\n",
    "df_result[target_column] = raw_data[target_column][x_ax_target.index[0]:x_ax_target.index[-1]+1]\n",
    "df_result['forecast'] = df_forecast['consumption_forecast']"
   ]
  },
  {
   "cell_type": "code",
   "execution_count": 29,
   "metadata": {},
   "outputs": [],
   "source": [
    "r_target = scalerOutputMethod.inverse_transform(target).reshape(-1) if scale_output else target\n",
    "r_forecast = scalerOutputMethod.inverse_transform(forecast).reshape(-1) if scale_output else forecast"
   ]
  },
  {
   "cell_type": "code",
   "execution_count": 30,
   "metadata": {},
   "outputs": [
    {
     "data": {
      "image/png": "[encoded data removed]",
      "text/plain": [
       "<Figure size 640x480 with 1 Axes>"
      ]
     },
     "metadata": {},
     "output_type": "display_data"
    }
   ],
   "source": [
    "df_result.set_index('timestamp').plot()\n",
    "plt.legend()\n",
    "plt.show()"
   ]
  },
  {
   "cell_type": "code",
   "execution_count": 31,
   "metadata": {},
   "outputs": [
    {
     "data": {
      "text/html": [
       "<div>\n",
       "<style scoped>\n",
       "    .dataframe tbody tr th:only-of-type {\n",
       "        vertical-align: middle;\n",
       "    }\n",
       "\n",
       "    .dataframe tbody tr th {\n",
       "        vertical-align: top;\n",
       "    }\n",
       "\n",
       "    .dataframe thead th {\n",
       "        text-align: right;\n",
       "    }\n",
       "</style>\n",
       "<table border=\"1\" class=\"dataframe\">\n",
       "  <thead>\n",
       "    <tr style=\"text-align: right;\">\n",
       "      <th></th>\n",
       "      <th>timestamp</th>\n",
       "      <th>NO1_consumption</th>\n",
       "      <th>forecast</th>\n",
       "    </tr>\n",
       "  </thead>\n",
       "  <tbody>\n",
       "    <tr>\n",
       "      <th>43776</th>\n",
       "      <td>2022-04-29 00:00:00+00:00</td>\n",
       "      <td>3013.492067</td>\n",
       "      <td>NaN</td>\n",
       "    </tr>\n",
       "    <tr>\n",
       "      <th>43777</th>\n",
       "      <td>2022-04-29 01:00:00+00:00</td>\n",
       "      <td>3019.167135</td>\n",
       "      <td>NaN</td>\n",
       "    </tr>\n",
       "    <tr>\n",
       "      <th>43778</th>\n",
       "      <td>2022-04-29 02:00:00+00:00</td>\n",
       "      <td>3066.283324</td>\n",
       "      <td>NaN</td>\n",
       "    </tr>\n",
       "    <tr>\n",
       "      <th>43779</th>\n",
       "      <td>2022-04-29 03:00:00+00:00</td>\n",
       "      <td>3167.085943</td>\n",
       "      <td>NaN</td>\n",
       "    </tr>\n",
       "    <tr>\n",
       "      <th>43780</th>\n",
       "      <td>2022-04-29 04:00:00+00:00</td>\n",
       "      <td>3531.231895</td>\n",
       "      <td>NaN</td>\n",
       "    </tr>\n",
       "    <tr>\n",
       "      <th>...</th>\n",
       "      <td>...</td>\n",
       "      <td>...</td>\n",
       "      <td>...</td>\n",
       "    </tr>\n",
       "    <tr>\n",
       "      <th>43866</th>\n",
       "      <td>2022-05-02 18:00:00+00:00</td>\n",
       "      <td>3402.604031</td>\n",
       "      <td>3097.618652</td>\n",
       "    </tr>\n",
       "    <tr>\n",
       "      <th>43867</th>\n",
       "      <td>2022-05-02 19:00:00+00:00</td>\n",
       "      <td>3459.443829</td>\n",
       "      <td>3073.446289</td>\n",
       "    </tr>\n",
       "    <tr>\n",
       "      <th>43868</th>\n",
       "      <td>2022-05-02 20:00:00+00:00</td>\n",
       "      <td>3413.622136</td>\n",
       "      <td>3065.303467</td>\n",
       "    </tr>\n",
       "    <tr>\n",
       "      <th>43869</th>\n",
       "      <td>2022-05-02 21:00:00+00:00</td>\n",
       "      <td>3225.223978</td>\n",
       "      <td>3075.175293</td>\n",
       "    </tr>\n",
       "    <tr>\n",
       "      <th>43870</th>\n",
       "      <td>2022-05-02 22:00:00+00:00</td>\n",
       "      <td>3036.244440</td>\n",
       "      <td>3102.556885</td>\n",
       "    </tr>\n",
       "  </tbody>\n",
       "</table>\n",
       "<p>95 rows × 3 columns</p>\n",
       "</div>"
      ],
      "text/plain": [
       "                      timestamp  NO1_consumption     forecast\n",
       "43776 2022-04-29 00:00:00+00:00      3013.492067          NaN\n",
       "43777 2022-04-29 01:00:00+00:00      3019.167135          NaN\n",
       "43778 2022-04-29 02:00:00+00:00      3066.283324          NaN\n",
       "43779 2022-04-29 03:00:00+00:00      3167.085943          NaN\n",
       "43780 2022-04-29 04:00:00+00:00      3531.231895          NaN\n",
       "...                         ...              ...          ...\n",
       "43866 2022-05-02 18:00:00+00:00      3402.604031  3097.618652\n",
       "43867 2022-05-02 19:00:00+00:00      3459.443829  3073.446289\n",
       "43868 2022-05-02 20:00:00+00:00      3413.622136  3065.303467\n",
       "43869 2022-05-02 21:00:00+00:00      3225.223978  3075.175293\n",
       "43870 2022-05-02 22:00:00+00:00      3036.244440  3102.556885\n",
       "\n",
       "[95 rows x 3 columns]"
      ]
     },
     "execution_count": 31,
     "metadata": {},
     "output_type": "execute_result"
    }
   ],
   "source": [
    "x_ax_target"
   ]
  },
  {
   "cell_type": "code",
   "execution_count": 32,
   "metadata": {},
   "outputs": [
    {
     "data": {
      "text/plain": [
       "<matplotlib.legend.Legend at 0x12fbdf970>"
      ]
     },
     "execution_count": 32,
     "metadata": {},
     "output_type": "execute_result"
    },
    {
     "data": {
      "image/png": "[encoded data removed]",
      "text/plain": [
       "<Figure size 640x480 with 1 Axes>"
      ]
     },
     "metadata": {},
     "output_type": "display_data"
    }
   ],
   "source": [
    "plt.plot(x_ax_target['timestamp'], r_target, label=\"target\")\n",
    "plt.plot(x_ax_forecast['timestamp'], r_forecast, label='pred')\n",
    "plt.legend()"
   ]
  },
  {
   "cell_type": "code",
   "execution_count": 33,
   "metadata": {},
   "outputs": [
    {
     "data": {
      "text/plain": [
       "[<matplotlib.lines.Line2D at 0x12fb269e0>]"
      ]
     },
     "execution_count": 33,
     "metadata": {},
     "output_type": "execute_result"
    },
    {
     "data": {
      "image/png": "[encoded data removed]",
      "text/plain": [
       "<Figure size 640x480 with 1 Axes>"
      ]
     },
     "metadata": {},
     "output_type": "display_data"
    }
   ],
   "source": [
    "# plt.plot(x_ax_target, scalerOutputMethod.inverse_transform(target).reshape(-1), label=\"target\")\n",
    "plt.plot(x_ax_forecast, scalerOutputMethod.inverse_transform(forecast.reshape(-1, 1)).reshape(-1), label='pred')"
   ]
  },
  {
   "cell_type": "code",
   "execution_count": 34,
   "metadata": {},
   "outputs": [
    {
     "data": {
      "text/plain": [
       "(24, 1)"
      ]
     },
     "execution_count": 34,
     "metadata": {},
     "output_type": "execute_result"
    }
   ],
   "source": [
    "forecast.shape"
   ]
  },
  {
   "cell_type": "code",
   "execution_count": 35,
   "metadata": {},
   "outputs": [
    {
     "data": {
      "text/plain": [
       "((24, 72, 1), torch.Size([24, 72, 1]))"
      ]
     },
     "execution_count": 35,
     "metadata": {},
     "output_type": "execute_result"
    }
   ],
   "source": [
    "y_pred.shape, y_test.shape"
   ]
  },
  {
   "cell_type": "code",
   "execution_count": 36,
   "metadata": {},
   "outputs": [
    {
     "ename": "AttributeError",
     "evalue": "'range' object has no attribute 'reverse'",
     "output_type": "error",
     "traceback": [
      "\u001b[0;31m---------------------------------------------------------------------------\u001b[0m",
      "\u001b[0;31mAttributeError\u001b[0m                            Traceback (most recent call last)",
      "Cell \u001b[0;32mIn[36], line 4\u001b[0m\n\u001b[1;32m      1\u001b[0m hours_values \u001b[38;5;241m=\u001b[39m []\n\u001b[1;32m      3\u001b[0m len_forecast \u001b[38;5;241m=\u001b[39m \u001b[38;5;28mlen\u001b[39m(y_pred)\n\u001b[0;32m----> 4\u001b[0m \u001b[38;5;28;01mfor\u001b[39;00m h \u001b[38;5;129;01min\u001b[39;00m \u001b[38;5;28;43mrange\u001b[39;49m\u001b[43m(\u001b[49m\u001b[43mlen_forecast\u001b[49m\u001b[43m)\u001b[49m\u001b[38;5;241;43m.\u001b[39;49m\u001b[43mreverse\u001b[49m():\n\u001b[1;32m      6\u001b[0m     hour_values \u001b[38;5;241m=\u001b[39m y_pred[:,seq_len\u001b[38;5;241m-\u001b[39mh,:]\n\u001b[1;32m      7\u001b[0m     hours_values\u001b[38;5;241m.\u001b[39mappend(hour_values)\n",
      "\u001b[0;31mAttributeError\u001b[0m: 'range' object has no attribute 'reverse'"
     ]
    }
   ],
   "source": [
    "hours_values = []\n",
    "\n",
    "len_forecast = len(y_pred)\n",
    "for h in range(len_forecast).reverse():\n",
    "\n",
    "    hour_values = y_pred[:,seq_len-h,:]\n",
    "    hours_values.append(hour_values)\n",
    "    \n",
    "    average = datasets.mean(axis=0)\n",
    "    std_dev = datasets.std(axis=0)\n",
    "\n",
    "plt.errorbar(x_ax_forecast['timestamp'], average, yerr=std_dev)"
   ]
  }
 ],
 "metadata": {
  "kernelspec": {
   "display_name": "mlsolar",
   "language": "python",
   "name": "python3"
  },
  "language_info": {
   "codemirror_mode": {
    "name": "ipython",
    "version": 3
   },
   "file_extension": ".py",
   "mimetype": "text/x-python",
   "name": "python",
   "nbconvert_exporter": "python",
   "pygments_lexer": "ipython3",
   "version": "3.10.11"
  }
 },
 "nbformat": 4,
 "nbformat_minor": 2
}
