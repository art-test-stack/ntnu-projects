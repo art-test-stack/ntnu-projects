{
 "cells": [
  {
   "cell_type": "code",
   "execution_count": null,
   "metadata": {},
   "outputs": [],
   "source": [
    "from verification_net import VerificationNet\n",
    "from stacked_mnist import StackedMNIST, DataMode\n",
    "\n",
    "import matplotlib.pyplot as plt\n",
    "\n",
    "import torchvision\n",
    "from torch.utils.data import Dataset, DataLoader\n",
    "from torchvision.datasets import MNIST\n",
    "\n",
    "mode = DataMode.MONO \n",
    "\n",
    "trainset = StackedMNIST(train=True, mode=mode)\n",
    "testset = StackedMNIST(train=False, mode=mode)\n",
    "\n",
    "batch_size = 25000"
   ]
  },
  {
   "cell_type": "code",
   "execution_count": null,
   "metadata": {},
   "outputs": [],
   "source": [
    "net = VerificationNet(force_learn=False, file_name='models/verification_model')\n",
    "\n",
    "net.train(trainset=trainset, valset=testset, epochs=15, batch_size=1024)\n",
    "\n",
    "plt.figure()\n",
    "plt.plot(net.losses, label=\"train\")\n",
    "plt.plot(net.val_loss, label=\"validation\")\n",
    "plt.legend()\n",
    "plt.plot()\n",
    "\n",
    "train_set = DataLoader(trainset, shuffle=True, batch_size=batch_size)\n",
    "\n",
    "for idx, (imgs, targets, labels) in enumerate(train_set, 0):\n",
    "    labels = labels.to('cpu').detach().numpy()\n",
    "    break\n",
    "\n",
    "cov = net.check_class_coverage(data=imgs, tolerance=.8)\n",
    "pred, acc = net.check_predictability(data=imgs, correct_labels=labels, tolerance=.8)\n",
    "print(f\"Coverage: {100*cov:.2f}%\")\n",
    "print(f\"Predictability: {100*pred:.2f}%\")\n",
    "print(f\"Accuracy: {100 * acc:.2f}%\")\n",
    "\n",
    "from torchvision.transforms import ToPILImage\n",
    "\n",
    "img = ToPILImage()(imgs[0])\n",
    "img"
   ]
  }
 ],
 "metadata": {
  "kernelspec": {
   "display_name": "deeplearning",
   "language": "python",
   "name": "deeplearning"
  },
  "language_info": {
   "codemirror_mode": {
    "name": "ipython",
    "version": 3
   },
   "file_extension": ".py",
   "mimetype": "text/x-python",
   "name": "python",
   "nbconvert_exporter": "python",
   "pygments_lexer": "ipython3",
   "version": "3.10.11"
  }
 },
 "nbformat": 4,
 "nbformat_minor": 2
}
