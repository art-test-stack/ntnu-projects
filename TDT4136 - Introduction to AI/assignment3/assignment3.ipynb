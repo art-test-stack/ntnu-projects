{
 "cells": [
  {
   "cell_type": "markdown",
   "metadata": {},
   "source": [
    "# TDT4136 - Assignment 3\n",
    "## Constraint Satisfaction Problems\n",
    "### 1 - Import our implementation"
   ]
  },
  {
   "cell_type": "code",
   "execution_count": null,
   "metadata": {},
   "outputs": [],
   "source": [
    "import Assignment as a"
   ]
  },
  {
   "cell_type": "markdown",
   "metadata": {},
   "source": [
    "### 2 - Test our implementation on map colouring problem"
   ]
  },
  {
   "cell_type": "code",
   "execution_count": null,
   "metadata": {},
   "outputs": [],
   "source": [
    "coloring_map = a.create_map_coloring_csp()\n",
    "result = coloring_map.backtracking_search()\n",
    "print(result)"
   ]
  },
  {
   "cell_type": "markdown",
   "metadata": {},
   "source": [
    "### 3 - Solve different sudoku boards"
   ]
  },
  {
   "cell_type": "code",
   "execution_count": null,
   "metadata": {},
   "outputs": [],
   "source": [
    "from pathlib import Path\n",
    "\n",
    "sudokus = Path('').glob('*.txt')\n",
    "\n",
    "for sudoku_file in sudokus:\n",
    "    print(sudoku_file)\n",
    "    sudoku = a.create_sudoku_csp(sudoku_file)\n",
    "    solution = sudoku.backtracking_search()\n",
    "    a.print_sudoku_solution(solution)\n",
    "\n",
    "    print(f\"\\nNumber of backtrack function calls: {sudoku.number_of_calls}\")\n",
    "    print(f\"Number of backtrack function failures: {sudoku.number_of_fails}\")\n",
    "    print('---------------------\\n')"
   ]
  },
  {
   "cell_type": "markdown",
   "metadata": {},
   "source": [
    "### 4 - Look at the arc-consistency at the beginning and possibilities"
   ]
  },
  {
   "cell_type": "code",
   "execution_count": null,
   "metadata": {},
   "outputs": [],
   "source": [
    "import copy\n",
    "import numpy as np\n",
    "\n",
    "sudokus_ordered_by_difficulty = ['easy.txt', 'medium.txt', 'hard.txt', 'veryhard.txt']\n",
    "\n",
    "y = []\n",
    "possibilities_table_ = {}\n",
    "for board in sudokus_ordered_by_difficulty:\n",
    "        not_solved_sudoku = a.create_sudoku_csp(board)\n",
    "        assignment = copy.deepcopy(not_solved_sudoku.domains)\n",
    "        \n",
    "        not_solved_sudoku.inference(assignment, not_solved_sudoku.get_all_arcs())\n",
    "\n",
    "        possibilities_table_[board] = [ [len(assignment[f\"{i}-{j}\"]) for i in range(9)] for j in range(9)]\n",
    "        y.append(np.prod(np.array(possibilities_table_[board])))\n",
    "\n",
    "        print('board:', board)\n",
    "        print('total possibilities:', np.prod(np.array(possibilities_table_[board])))\n",
    "        print('mean possibilities:', np.mean(np.array(possibilities_table_[board])), end='\\n\\n')\n",
    "\n"
   ]
  },
  {
   "cell_type": "code",
   "execution_count": null,
   "metadata": {},
   "outputs": [],
   "source": [
    "import matplotlib.pyplot as plt\n",
    "\n",
    "plt.figure(figsize=(14, 5))\n",
    "plt.subplot(1,2,1)\n",
    "plt.plot(sudokus_ordered_by_difficulty, y)\n",
    "plt.subplot(1,2,2)\n",
    "plt.plot(sudokus_ordered_by_difficulty, np.log10(y))\n",
    "plt.show()"
   ]
  },
  {
   "cell_type": "markdown",
   "metadata": {},
   "source": [
    "### 5 - Look at the boards complexity"
   ]
  },
  {
   "cell_type": "code",
   "execution_count": null,
   "metadata": {},
   "outputs": [],
   "source": [
    "sudokus_ordered_by_difficulty = ['easy.txt', 'medium.txt', 'hard.txt', 'veryhard.txt']\n",
    "\n",
    "for board_file in sudokus_ordered_by_difficulty:\n",
    "    print('Board difficulty:', board_file)\n",
    "    board = list(map(lambda x: x.strip(), open(board_file, 'r')))\n",
    "    k = 0\n",
    "    for row in board: \n",
    "        for col in row: \n",
    "            if col == '0': k += 1\n",
    "    print('Number of empty cells:', k, '\\n')"
   ]
  },
  {
   "cell_type": "code",
   "execution_count": null,
   "metadata": {},
   "outputs": [],
   "source": [
    "sudokus = Path('').glob('*.txt')\n",
    "\n",
    "number_of_keys = {}\n",
    "\n",
    "constraints_possible_lengths = {}\n",
    "\n",
    "number_of_constraints_with_length_ = {}\n",
    "current_constraints_with_length_ = {}\n",
    "last_number_of_constraints_with_length_ = {}\n",
    "is_always_same_number_of_constraints_for_length_ = {}\n",
    "total_number_of_constraints = {}\n",
    "\n",
    "for board in sudokus:\n",
    "    print(board, end='\\n\\n')\n",
    "    board_difficulty = str(board)\n",
    "    number_of_keys[board_difficulty] = 0\n",
    "\n",
    "    constraints_possible_lengths[board_difficulty] = []\n",
    "\n",
    "    number_of_constraints_with_length_[board_difficulty] = {}\n",
    "    current_constraints_with_length_[board_difficulty] = {}\n",
    "    last_number_of_constraints_with_length_[board_difficulty] = {}\n",
    "    is_always_same_number_of_constraints_for_length_[board_difficulty] = {}\n",
    "    \n",
    "    not_solved_sudoku = a.create_sudoku_csp(board)\n",
    "    for key, value in not_solved_sudoku.constraints.items():\n",
    "        number_of_keys[board_difficulty] += 1\n",
    "\n",
    "        for constraint_key, constraint_value in value.items():\n",
    "            if len(constraint_value) in constraints_possible_lengths[board_difficulty]:\n",
    "                current_constraints_with_length_[board_difficulty][len(constraint_value)] += 1\n",
    "            else: \n",
    "                constraints_possible_lengths[board_difficulty].append(len(constraint_value))\n",
    "                current_constraints_with_length_[board_difficulty][len(constraint_value)] = 1\n",
    "                number_of_constraints_with_length_[board_difficulty][len(constraint_value)] = 0\n",
    "                last_number_of_constraints_with_length_[board_difficulty][len(constraint_value)] = 0\n",
    "                is_always_same_number_of_constraints_for_length_[board_difficulty][len(constraint_value)] = True\n",
    "\n",
    "        for constraint_length in constraints_possible_lengths[board_difficulty]:\n",
    "            number_of_constraints_with_length_[board_difficulty][constraint_length] += current_constraints_with_length_[board_difficulty][constraint_length]\n",
    "            is_always_same_number_of_constraints_for_length_[board_difficulty][constraint_length] = is_always_same_number_of_constraints_for_length_[board_difficulty][constraint_length] * (last_number_of_constraints_with_length_[board_difficulty][constraint_length] == current_constraints_with_length_[board_difficulty][constraint_length]) if last_number_of_constraints_with_length_[board_difficulty][constraint_length] != 0 else True\n",
    "\n",
    "            last_number_of_constraints_with_length_[board_difficulty][constraint_length] = current_constraints_with_length_[board_difficulty][constraint_length]\n",
    "            current_constraints_with_length_[board_difficulty][constraint_length] = 0\n",
    "\n",
    "\n",
    "    print('number of keys:', number_of_keys[board_difficulty], end='\\n\\n')\n",
    "\n",
    "    total_number_of_constraints[board_difficulty] = 0\n",
    "    constraints_possible_lengths[board_difficulty].sort()\n",
    "    for constraint_length in constraints_possible_lengths[board_difficulty]:\n",
    "        print('Constraint length:', constraint_length)\n",
    "        print(f'Number of constraints with a length of {constraint_length}:', number_of_constraints_with_length_[board_difficulty][constraint_length])\n",
    "\n",
    "        print(f'Always same length for constraint with a length of {constraint_length}:', bool(is_always_same_number_of_constraints_for_length_[board_difficulty][constraint_length]))\n",
    "        print('Size is always:', last_number_of_constraints_with_length_[board_difficulty][constraint_length]) if bool(is_always_same_number_of_constraints_for_length_[board_difficulty][constraint_length]) else print('Last length was:', last_number_of_constraints_with_length_[board_difficulty][constraint_length])\n",
    "        total_number_of_constraints[board_difficulty] += number_of_constraints_with_length_[board_difficulty][constraint_length]\n",
    "\n",
    "        print('\\n')\n",
    "    \n",
    "    print('Total number of constraints for this board:', total_number_of_constraints[board_difficulty])\n",
    "    print('\\n---------------------\\n')"
   ]
  },
  {
   "cell_type": "code",
   "execution_count": null,
   "metadata": {},
   "outputs": [],
   "source": [
    "import matplotlib.pyplot as plt\n",
    "\n",
    "sudokus_ordered_by_difficulty = ['easy.txt', 'medium.txt', 'hard.txt', 'veryhard.txt']\n",
    "\n",
    "colors = ['red', 'blue', 'green']\n",
    "\n",
    "constraint_lengths = []\n",
    "for difficulty in sudokus_ordered_by_difficulty:\n",
    "    for constraints_possible_length in constraints_possible_lengths[difficulty]:\n",
    "        if not any(constraints_possible_length in tup for tup in constraint_lengths):\n",
    "            constraint_lengths.append((constraints_possible_length, colors[0]))\n",
    "            colors.pop(0)\n",
    "\n",
    "y = { elem: [] for elem, _ in constraint_lengths }\n",
    "total_constraints_values_in_ = { difficulty: 0 for difficulty in sudokus_ordered_by_difficulty }\n",
    "plt.figure(figsize=(7, 5))\n",
    "\n",
    "for elem, color in constraint_lengths:\n",
    "    for difficulty in sudokus_ordered_by_difficulty:\n",
    "        y[elem].append(number_of_constraints_with_length_[difficulty][elem])\n",
    "        total_constraints_values_in_[difficulty] += elem * number_of_constraints_with_length_[difficulty][elem]\n",
    "    plt.plot(sudokus_ordered_by_difficulty, y[elem], label=f\"size {elem}\", color=color)\n",
    "\n",
    "plt.legend(loc='center right', title='Legend')\n",
    "plt.show()"
   ]
  },
  {
   "cell_type": "code",
   "execution_count": null,
   "metadata": {},
   "outputs": [],
   "source": [
    "total_constraints_values_in_"
   ]
  },
  {
   "cell_type": "code",
   "execution_count": null,
   "metadata": {},
   "outputs": [],
   "source": [
    "e_ = { b: [[ 0 for _ in range(9)] for _ in range(9)] for b in sudokus_ordered_by_difficulty}\n",
    "\n",
    "for board in sudokus_ordered_by_difficulty:\n",
    "    not_solved_sudoku = a.create_sudoku_csp(board)\n",
    "\n",
    "    for key, value in not_solved_sudoku.constraints.items():\n",
    "        ik, jk = int(key[0]), int(key[2])\n",
    "        for constraint_key, constraint_values in value.items():\n",
    "            i, j = int(constraint_key[0]), int(constraint_key[2])\n",
    "\n",
    "            if len(constraint_values) == 72 and i != ik and j != jk:\n",
    "                e_[board][ik][jk] += 1\n",
    "\n",
    "y = []\n",
    "for board in sudokus_ordered_by_difficulty:\n",
    "    print('board:', board)\n",
    "    print('eijk:', np.sum(np.array(e_[board])), end='\\n\\n')\n",
    "    y.append(np.sum(np.array(e_[board])))\n",
    "\n",
    "plt.figure(figsize=(7,5))\n",
    "plt.plot(sudokus_ordered_by_difficulty, y)\n"
   ]
  }
 ],
 "metadata": {
  "kernelspec": {
   "display_name": "assignment3",
   "language": "python",
   "name": "assignment3"
  },
  "language_info": {
   "codemirror_mode": {
    "name": "ipython",
    "version": 3
   },
   "file_extension": ".py",
   "mimetype": "text/x-python",
   "name": "python",
   "nbconvert_exporter": "python",
   "pygments_lexer": "ipython3",
   "version": "3.10.11"
  },
  "orig_nbformat": 4
 },
 "nbformat": 4,
 "nbformat_minor": 2
}
