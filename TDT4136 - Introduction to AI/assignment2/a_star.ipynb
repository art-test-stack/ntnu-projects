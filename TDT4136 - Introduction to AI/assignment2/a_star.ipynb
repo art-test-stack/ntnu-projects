{
 "cells": [
  {
   "cell_type": "markdown",
   "metadata": {},
   "source": [
    "# TDT4136: Introduction to AI\n",
    "## Assignment 2: Applying the A* search\n",
    "## 2. A* Implementation\n",
    "\n",
    "We start by implement an A* algorithm"
   ]
  },
  {
   "cell_type": "code",
   "execution_count": null,
   "metadata": {},
   "outputs": [],
   "source": [
    "import Map as m\n",
    "import numpy as np\n",
    "import heapq\n",
    "\n",
    "class Map(m.Map_Obj):\n",
    "    \"\"\"\n",
    "    The map object improved to implement A* algorithm with utility methods associated to it\n",
    "    \"\"\"\n",
    "\n",
    "    def in_the_map(self, pos):\n",
    "        return 0 <= pos[0] < self.int_map.shape[0] and 0 <= pos[1] < self.int_map.shape[1]\n",
    "\n",
    "    def not_walls(self, pos): \n",
    "        return self.get_cell_value(pos) > -1\n",
    "\n",
    "    def neighbors(self, pos):\n",
    "        (x, y) = pos\n",
    "        neighbors = [(x+1, y), (x-1, y), (x, y-1), (x, y+1)]\n",
    "        neighbors.reverse()\n",
    "        if (x + y) % 2 == 0: neighbors.reverse()\n",
    "        return filter(self.not_walls, filter(self.in_the_map, neighbors))\n",
    "    \n",
    "heuristic_modes = ['manhattan', 'euclidean', 'task5']\n",
    "\n",
    "def heuristic(a, b, mode: str = 'manhattan') -> float:\n",
    "    assert mode in heuristic_modes, f\"{mode} is not a norm implemented yet\"\n",
    "    (x1, y1) = a\n",
    "    (x2, y2) = b\n",
    "    if mode == 'manhattan':\n",
    "        return abs(x1 - x2) + abs(y1 - y2)\n",
    "    if mode == 'euclidean':\n",
    "        return ((x1 - x2) ** 2 + (y1 - y2) ** 2) ** (1/2)\n",
    "    if mode == 'task5':\n",
    "        return abs(x1 - x2) + abs(y1 -.25 - y2)\n",
    "\n",
    "\n",
    "class PriorityQueue:\n",
    "    def __init__(self):\n",
    "        self.elements = []\n",
    "    \n",
    "    def empty(self) -> bool:\n",
    "        return not self.elements\n",
    "    \n",
    "    def put(self, item, priority):\n",
    "        heapq.heappush(self.elements, (priority, item))\n",
    "    \n",
    "    def get(self):\n",
    "        return heapq.heappop(self.elements)[1]\n",
    "    \n",
    "def a_star_algorithm(start, goal, map: Map = Map(task=1), heuristic_mode: str = 'manhattan'):\n",
    "    assert heuristic_mode in heuristic_modes, f\"{heuristic_mode} is not yet an implemented norm\"\n",
    "\n",
    "    start, goal = tuple(start), tuple(goal)\n",
    "\n",
    "    frontier = PriorityQueue()\n",
    "    frontier.put(start, 0)\n",
    "\n",
    "    came_from = {}\n",
    "    cost_so_far = {}\n",
    "    came_from[start] = None\n",
    "    cost_so_far[start] = 0\n",
    "    \n",
    "    while not frontier.empty():\n",
    "        current = frontier.get()\n",
    "    \n",
    "        if current == goal:\n",
    "            while current != start:\n",
    "                map.replace_map_values(pos=current, value=0, goal_pos=goal)\n",
    "                current = came_from[current]\n",
    "            break\n",
    "        \n",
    "        for next in map.neighbors(current):\n",
    "            new_cost = cost_so_far[current] + map.get_cell_value(next)\n",
    "            if next not in cost_so_far or new_cost < cost_so_far[next]:\n",
    "                cost_so_far[next] = new_cost\n",
    "                priority = new_cost + heuristic(next, goal, heuristic_mode)\n",
    "                frontier.put(next, priority)\n",
    "                came_from[next] = current\n",
    "\n",
    "    map_int, _ = map.get_maps()\n",
    "    map.print_map(map_int)\n",
    "    return cost_so_far[goal]"
   ]
  },
  {
   "cell_type": "markdown",
   "metadata": {},
   "source": [
    "## 3. Part 1 – Grid with obstacles\n",
    "### 3.1 Task 1\n",
    "We have to find the shortest path from Rundhallen (our location) to Strossa using our implementation of the A* algorithm"
   ]
  },
  {
   "cell_type": "code",
   "execution_count": null,
   "metadata": {},
   "outputs": [],
   "source": [
    "map_task1 = Map(task=1)\n",
    "map_int, _ = map_task1.get_maps()\n",
    "start, goal = tuple(map_task1.get_start_pos()), tuple(map_task1.get_goal_pos())\n",
    "\n",
    "path_cost= a_star_algorithm(map=map_task1, start=start, goal=goal)\n",
    "\n",
    "print(f\"The cost of this least-cost path is {path_cost}\")\n",
    "map_task1.show_map()"
   ]
  },
  {
   "cell_type": "markdown",
   "metadata": {},
   "source": [
    "### 3.2 Task 2"
   ]
  },
  {
   "cell_type": "markdown",
   "metadata": {},
   "source": [
    "A* algorithm using Manhattan distance for the heuristic function $h$."
   ]
  },
  {
   "cell_type": "code",
   "execution_count": null,
   "metadata": {},
   "outputs": [],
   "source": [
    "map_task2 = Map(task=2)\n",
    "\n",
    "start, goal = tuple(map_task2.get_start_pos()), tuple(map_task2.get_goal_pos())\n",
    "path_cost = a_star_algorithm(map=map_task2, start=start, goal=goal, heuristic_mode='manhattan')\n",
    "\n",
    "print(f\"The cost of this least-cost path is {path_cost}\")\n",
    "map_task2.show_map()"
   ]
  },
  {
   "cell_type": "markdown",
   "metadata": {},
   "source": [
    "A* algorithm using Euclidean distance for the heuristic function $h$."
   ]
  },
  {
   "cell_type": "code",
   "execution_count": null,
   "metadata": {},
   "outputs": [],
   "source": [
    "map_task2 = Map(task=2)\n",
    "\n",
    "start, goal = tuple(map_task2.get_start_pos()), tuple(map_task2.get_goal_pos())\n",
    "path_cost = a_star_algorithm(map=map_task2, start=start, goal=goal, heuristic_mode='euclidean')\n",
    "\n",
    "print(f\"The cost of this least-cost path is {path_cost}\")\n",
    "map_task2.show_map()"
   ]
  },
  {
   "cell_type": "markdown",
   "metadata": {},
   "source": [
    "## 4. Part 2 – Grids with different costs\n",
    "### 4.1 Task 3"
   ]
  },
  {
   "cell_type": "code",
   "execution_count": null,
   "metadata": {},
   "outputs": [],
   "source": [
    "map_task3 = Map(task=3)\n",
    "\n",
    "start, goal = tuple(map_task3.get_start_pos()), tuple(map_task3.get_goal_pos())\n",
    "path_cost = a_star_algorithm(map=map_task3, start=start, goal=goal, heuristic_mode='manhattan')\n",
    "\n",
    "print(f\"The cost of this least-cost path is {path_cost}\")\n",
    "map_task3.show_map()"
   ]
  },
  {
   "cell_type": "markdown",
   "metadata": {},
   "source": [
    "### 4.2 Task 4"
   ]
  },
  {
   "cell_type": "code",
   "execution_count": null,
   "metadata": {},
   "outputs": [],
   "source": [
    "map_task4 = Map(task=4)\n",
    "\n",
    "start, goal = tuple(map_task4.get_start_pos()), tuple(map_task4.get_goal_pos())\n",
    "path_cost = a_star_algorithm(map=map_task4, start=start, goal=goal, heuristic_mode='manhattan')\n",
    "\n",
    "print(f\"The cost of this least-cost path is {path_cost}\")\n",
    "map_task4.show_map()"
   ]
  },
  {
   "cell_type": "markdown",
   "metadata": {},
   "source": [
    "## 5. Part 3 - Moving Goal (Optionnal)\n",
    "\n",
    "### 5.1 Task 5"
   ]
  },
  {
   "cell_type": "code",
   "execution_count": null,
   "metadata": {},
   "outputs": [],
   "source": [
    "def a_star_moving_goal(start, goal, map: Map = Map(task=1), heuristic_mode: str = 'manhattan'):\n",
    "    assert heuristic_mode in heuristic_modes, f\"{heuristic_mode} is not yet an implemented norm\"\n",
    "\n",
    "    start, goal = tuple(start), tuple(goal)\n",
    "\n",
    "    frontier = PriorityQueue()\n",
    "    frontier.put(start, 0)\n",
    "\n",
    "    came_from = {}\n",
    "    cost_so_far = {}\n",
    "    came_from[start] = None\n",
    "    cost_so_far[start] = 0\n",
    "    \n",
    "    last_cost = 0\n",
    "\n",
    "    while not frontier.empty() :\n",
    "        current = frontier.get()\n",
    "        if cost_so_far[current] == last_cost + 1: goal = tuple(map.tick())\n",
    "        last_cost = cost_so_far[current]\n",
    "        if current == goal:\n",
    "            while current != start:\n",
    "                map.replace_map_values(pos=current, value=0, goal_pos=goal)\n",
    "                current = came_from[current]\n",
    "            break\n",
    "        \n",
    "        for next in map.neighbors(current):\n",
    "            new_cost = cost_so_far[current] + map.get_cell_value(next)\n",
    "            if next not in cost_so_far or new_cost < cost_so_far[next]:\n",
    "                cost_so_far[next] = new_cost\n",
    "                priority = new_cost + heuristic(next, goal, heuristic_mode)\n",
    "                frontier.put(next, priority)\n",
    "                came_from[next] = current\n",
    "        \n",
    "    return cost_so_far[goal]\n",
    "\n",
    "map_task5 = Map(task=5)\n",
    "start, goal = tuple(map_task5.get_start_pos()), tuple(map_task5.get_goal_pos())\n",
    "\n",
    "path_cost = a_star_moving_goal(map=map_task5, start=start, goal=goal, heuristic_mode='task5')\n",
    "\n",
    "goal = tuple(map_task5.get_goal_pos())\n",
    "print(f\"The cost of this least-cost path is {path_cost}\")\n",
    "map_task5.show_map()\n",
    "\n",
    "map_task5 = Map(task=5)\n",
    "start, goal = tuple(map_task5.get_start_pos()), tuple(map_task5.get_goal_pos())\n",
    "\n",
    "path_cost = a_star_moving_goal(map=map_task5, start=start, goal=goal, heuristic_mode='manhattan')\n",
    "\n",
    "goal = tuple(map_task5.get_goal_pos())\n",
    "print(f\"The cost of this least-cost path is {path_cost}\")\n",
    "map_task5.show_map()"
   ]
  }
 ],
 "metadata": {
  "kernelspec": {
   "display_name": "ai_task2",
   "language": "python",
   "name": "ai_task2"
  },
  "language_info": {
   "codemirror_mode": {
    "name": "ipython",
    "version": 3
   },
   "file_extension": ".py",
   "mimetype": "text/x-python",
   "name": "python",
   "nbconvert_exporter": "python",
   "pygments_lexer": "ipython3",
   "version": "3.9.6"
  },
  "orig_nbformat": 4
 },
 "nbformat": 4,
 "nbformat_minor": 2
}
