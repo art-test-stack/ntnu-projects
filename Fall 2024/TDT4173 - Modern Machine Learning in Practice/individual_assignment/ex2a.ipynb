{
 "cells": [
  {
   "cell_type": "markdown",
   "metadata": {},
   "source": [
    "# Excercise 2a: Exploratory Data Analysis"
   ]
  },
  {
   "cell_type": "code",
   "execution_count": null,
   "id": "2066f1a3",
   "metadata": {},
   "outputs": [],
   "source": [
    "import pandas as pd\n",
    "import numpy as np\n",
    "import re\n",
    "import seaborn as sns\n",
    "import matplotlib.pyplot as plt\n",
    "\n",
    "X_train = pd.read_csv(\"ex2_train.csv\")\n",
    "y_train = pd.read_csv(\"ex2_class_train.csv\")\n",
    "data = X_train.copy()\n",
    "data['Survived'] = y_train\n",
    "\n",
    "data.head()"
   ]
  },
  {
   "cell_type": "markdown",
   "metadata": {},
   "source": [
    "This is a widely used dataset that contains information on the passengers who were aboard the Titanic when it sank on its maiden voyage in 1912. We will use it for a supervised learning exercise (ex2b) to predict whether a passenger can survive based on his or her attributes. Before constructing the classifier, you need to do some guided exploratory data analysis in ex2a.\n",
    "\n",
    "The column meanings are: \n",
    "* Survived: Survival status (0 = No, 1 = Yes).\n",
    "* Pclass: Ticket class (1 = 1st, 2 = 2nd, 3 = 3rd).\n",
    "* Name: Name of the passenger.\n",
    "* Sex: Gender of the passenger (male/female).\n",
    "* Age: Age of the passenger in years.\n",
    "* SibSp: Number of siblings/spouses aboard the Titanic.\n",
    "* Parch: Number of parents/children aboard the Titanic.\n",
    "* Fare: Passenger fare.\n",
    "* Embarked: Port of embarkation (C = Cherbourg, Q = Queenstown, S = Southampton).\n",
    "\n",
    "**TODO: Please answer the following questions by using suitable analysis tools, e.g. statistics or visualizations.** To pass the exercise, you need to correctly answer three or more of Questions 1 to 5. A correct answer includes a correct statement and the analysis result that support the statement."
   ]
  },
  {
   "cell_type": "markdown",
   "metadata": {},
   "source": [
    "# Example Question: Is gender related to survival rate?"
   ]
  },
  {
   "cell_type": "markdown",
   "metadata": {},
   "source": [
    "Answer: Yes, females had a higher survival rate."
   ]
  },
  {
   "cell_type": "code",
   "execution_count": null,
   "metadata": {},
   "outputs": [],
   "source": [
    "# Show the relevant statistics or visualization(s) to support your answer\n",
    "sns.barplot(x='Sex', y='Survived', data=data)\n",
    "plt.show()"
   ]
  },
  {
   "cell_type": "markdown",
   "metadata": {},
   "source": [
    "# Question 1: Did first-class passengers survive more?"
   ]
  },
  {
   "cell_type": "markdown",
   "metadata": {},
   "source": [
    "Answer: Yes."
   ]
  },
  {
   "cell_type": "code",
   "execution_count": null,
   "id": "4bfd0d24",
   "metadata": {},
   "outputs": [],
   "source": [
    "# Show the relevant statistics or visualization(s) to support your answer\n",
    "sns.barplot(x='Pclass', y='Survived', data=data)\n",
    "plt.show()"
   ]
  },
  {
   "cell_type": "markdown",
   "metadata": {},
   "source": [
    "# Question 2: Is survival related to Embarked?"
   ]
  },
  {
   "cell_type": "markdown",
   "metadata": {},
   "source": [
    "Answer: Quite yes - if C-embarked yes, if S or Q its quite similar."
   ]
  },
  {
   "cell_type": "code",
   "execution_count": null,
   "metadata": {},
   "outputs": [],
   "source": [
    "# Show the relevant statistics or visualization(s) to support your answer\n",
    "sns.barplot(x='Embarked', y='Survived', data=data)\n",
    "plt.show()"
   ]
  },
  {
   "cell_type": "markdown",
   "metadata": {},
   "source": [
    "# Question 3: How is age related to survival?"
   ]
  },
  {
   "cell_type": "markdown",
   "id": "82332406",
   "metadata": {},
   "source": [
    "Answer: From the graphic bellow (orange), we can see that childrens, specially youngs (Age < 13) have a bigger rate of survival. From the linear regression at order 1 (blue), we see that older people have a lower survival probability. However, it is not much related then (violin plot)."
   ]
  },
  {
   "cell_type": "code",
   "execution_count": null,
   "id": "8ca95753",
   "metadata": {},
   "outputs": [],
   "source": [
    "# Show the relevant statistics or visualization(s) to support your answer\n",
    "\n",
    "f, axes = plt.subplots(1, 3, figsize=(30, 10))\n",
    "\n",
    "sns.regplot(x='Age', y='Survived', data=data, fit_reg=True, ax=axes[0])\n",
    "sns.lineplot(x='Age', y='Survived', data=data, color=\"orange\", ax=axes[0])\n",
    "sns.kdeplot(x='Survived', y='Age', data=data, ax=axes[1])\n",
    "sns.violinplot(x='Survived', y='Age', data=data, ax=axes[2])\n",
    "plt.show()"
   ]
  },
  {
   "cell_type": "markdown",
   "metadata": {},
   "source": [
    "# Question 4: Does family size somehow affect the survival rate?"
   ]
  },
  {
   "cell_type": "markdown",
   "metadata": {},
   "source": [
    "Answer: From the graphs on the left, it seems that the survival rate decrease when the number of siblings/spouses aboard the Titanic (SibSip), except when someone has none of them."
   ]
  },
  {
   "cell_type": "code",
   "execution_count": null,
   "metadata": {},
   "outputs": [],
   "source": [
    "# Show the relevant statistics or visualization(s) to support your answer\n",
    "f, axes = plt.subplots(2, 2, figsize=(20, 10))\n",
    "\n",
    "sns.violinplot(x='SibSp', y='Survived', data=data, ax=axes[0][0])\n",
    "sns.violinplot(x='Parch', y='Survived', data=data, ax=axes[0][1])\n",
    "sns.barplot(x='SibSp', y='Survived', data=data, ax=axes[1][0])\n",
    "sns.barplot(x='Parch', y='Survived', data=data, ax=axes[1][1])"
   ]
  },
  {
   "cell_type": "markdown",
   "metadata": {},
   "source": [
    "# Question 5: Some passengers with certain titles seemed to have more chance to survive. Is that true?"
   ]
  },
  {
   "cell_type": "markdown",
   "metadata": {},
   "source": [
    "Answer: Seems to be true. The graph bellow shows that if someone has a different status than the common ones (Mr, Mrs, Miss), that person has higher probability to survive."
   ]
  },
  {
   "cell_type": "code",
   "execution_count": null,
   "id": "65ad2fad",
   "metadata": {},
   "outputs": [],
   "source": [
    "common_titles = [\"Mr\", \"Mrs\", \"Miss\"]\n",
    "\n",
    "data['Title'] = data['Name'].str.extract(r',\\s*([^\\.]+)\\.', expand=False).apply(lambda x: 'common' if x in common_titles else 'special')\n",
    "\n",
    "sns.barplot(x='Title', y='Survived', data=data)\n",
    "plt.show()\n"
   ]
  },
  {
   "cell_type": "code",
   "execution_count": null,
   "id": "6261d0b0",
   "metadata": {},
   "outputs": [],
   "source": []
  }
 ],
 "metadata": {
  "kernelspec": {
   "display_name": "Python 3",
   "language": "python",
   "name": "python3"
  },
  "language_info": {
   "codemirror_mode": {
    "name": "ipython",
    "version": 3
   },
   "file_extension": ".py",
   "mimetype": "text/x-python",
   "name": "python",
   "nbconvert_exporter": "python",
   "pygments_lexer": "ipython3",
   "version": "3.10.11"
  }
 },
 "nbformat": 4,
 "nbformat_minor": 5
}
